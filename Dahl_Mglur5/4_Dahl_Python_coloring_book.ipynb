{
 "cells": [
  {
   "cell_type": "markdown",
   "metadata": {},
   "source": [
    "# Purpose: Coloring Segmented Images According to Shape Mode"
   ]
  },
  {
   "cell_type": "markdown",
   "metadata": {},
   "source": [
    "Date Created: 1-26-2021"
   ]
  },
  {
   "cell_type": "markdown",
   "metadata": {},
   "source": [
    "Date Updated: 11-15-2021: Updated to change from the ferret paper to the Microglia/BeV paper\n",
    "\n",
    "6-23-22: Updated to change to the Mglur5 paper"
   ]
  },
  {
   "cell_type": "markdown",
   "metadata": {},
   "source": [
    "Author: Hawley Helmbrecht"
   ]
  },
  {
   "cell_type": "markdown",
   "metadata": {},
   "source": [
    "**Colors:** \n",
    "\n",
    "shape mode 1: Blue\n",
    "\n",
    "shape mode 2: Orange\n",
    "\n",
    "shape mode 3: Green\n",
    "\n",
    "shape mode 4: Red\n",
    "\n",
    "shape mode 5: Purple"
   ]
  },
  {
   "cell_type": "markdown",
   "metadata": {},
   "source": [
    "*Step 1: Import Necessary Packages*"
   ]
  },
  {
   "cell_type": "code",
   "execution_count": 1,
   "metadata": {},
   "outputs": [],
   "source": [
    "import numpy as np\n",
    "import matplotlib.image as mpimg \n",
    "import matplotlib.pyplot as plt\n",
    "import pandas as pd\n",
    "import cv2\n",
    "from PIL import Image\n",
    "import os"
   ]
  },
  {
   "cell_type": "code",
   "execution_count": null,
   "metadata": {},
   "outputs": [],
   "source": []
  },
  {
   "cell_type": "markdown",
   "metadata": {},
   "source": [
    "*Step 2: User input variables*"
   ]
  },
  {
   "cell_type": "code",
   "execution_count": 4,
   "metadata": {},
   "outputs": [],
   "source": [
    "im_file_path = '/Users/hhelmbre/Desktop/Mglur5_publication_analysis/vampire/test/HET/P14/Female/CA1/238_slide4_slice4_CA1_60x_zstack3_mean_threshxy30c1.png'\n",
    "csv_file_path = '/Users/hhelmbre/Desktop/Mglur5_publication_analysis/shape_mode_vs_feature_all_nonsorted.csv'"
   ]
  },
  {
   "cell_type": "code",
   "execution_count": null,
   "metadata": {},
   "outputs": [],
   "source": []
  },
  {
   "cell_type": "markdown",
   "metadata": {},
   "source": [
    "*Step 3: Reading in the Image and CSV with Labels*"
   ]
  },
  {
   "cell_type": "code",
   "execution_count": 5,
   "metadata": {},
   "outputs": [],
   "source": [
    "img = mpimg.imread(im_file_path)\n",
    "csv_df = pd.read_csv(csv_file_path)"
   ]
  },
  {
   "cell_type": "code",
   "execution_count": 6,
   "metadata": {},
   "outputs": [
    {
     "data": {
      "text/html": [
       "<div>\n",
       "<style scoped>\n",
       "    .dataframe tbody tr th:only-of-type {\n",
       "        vertical-align: middle;\n",
       "    }\n",
       "\n",
       "    .dataframe tbody tr th {\n",
       "        vertical-align: top;\n",
       "    }\n",
       "\n",
       "    .dataframe thead th {\n",
       "        text-align: right;\n",
       "    }\n",
       "</style>\n",
       "<table border=\"1\" class=\"dataframe\">\n",
       "  <thead>\n",
       "    <tr style=\"text-align: right;\">\n",
       "      <th></th>\n",
       "      <th>Filename</th>\n",
       "      <th>ImageID</th>\n",
       "      <th>ObjectID</th>\n",
       "      <th>X</th>\n",
       "      <th>Y</th>\n",
       "      <th>Area</th>\n",
       "      <th>Perimeter</th>\n",
       "      <th>Major Axis</th>\n",
       "      <th>Minor Axis</th>\n",
       "      <th>Circularity</th>\n",
       "      <th>Aspect Ratio</th>\n",
       "      <th>Shape mode</th>\n",
       "      <th>Distance from cluster center</th>\n",
       "    </tr>\n",
       "  </thead>\n",
       "  <tbody>\n",
       "    <tr>\n",
       "      <th>0</th>\n",
       "      <td>238_slide4_slice4_CA1_60x_zstack3_mean_threshx...</td>\n",
       "      <td>1</td>\n",
       "      <td>1</td>\n",
       "      <td>394</td>\n",
       "      <td>64</td>\n",
       "      <td>816</td>\n",
       "      <td>420.989899</td>\n",
       "      <td>83.426063</td>\n",
       "      <td>24.932008</td>\n",
       "      <td>0.057857</td>\n",
       "      <td>3.346143</td>\n",
       "      <td>1</td>\n",
       "      <td>3.44</td>\n",
       "    </tr>\n",
       "    <tr>\n",
       "      <th>1</th>\n",
       "      <td>238_slide4_slice4_CA1_60x_zstack3_mean_threshx...</td>\n",
       "      <td>1</td>\n",
       "      <td>2</td>\n",
       "      <td>26</td>\n",
       "      <td>74</td>\n",
       "      <td>749</td>\n",
       "      <td>324.871104</td>\n",
       "      <td>87.603388</td>\n",
       "      <td>24.820913</td>\n",
       "      <td>0.089180</td>\n",
       "      <td>3.529419</td>\n",
       "      <td>1</td>\n",
       "      <td>3.77</td>\n",
       "    </tr>\n",
       "    <tr>\n",
       "      <th>2</th>\n",
       "      <td>238_slide4_slice4_CA1_60x_zstack3_mean_threshx...</td>\n",
       "      <td>1</td>\n",
       "      <td>3</td>\n",
       "      <td>148</td>\n",
       "      <td>99</td>\n",
       "      <td>1234</td>\n",
       "      <td>616.386868</td>\n",
       "      <td>106.998420</td>\n",
       "      <td>41.403682</td>\n",
       "      <td>0.040815</td>\n",
       "      <td>2.584273</td>\n",
       "      <td>1</td>\n",
       "      <td>3.44</td>\n",
       "    </tr>\n",
       "    <tr>\n",
       "      <th>3</th>\n",
       "      <td>238_slide4_slice4_CA1_60x_zstack3_mean_threshx...</td>\n",
       "      <td>1</td>\n",
       "      <td>4</td>\n",
       "      <td>274</td>\n",
       "      <td>113</td>\n",
       "      <td>1299</td>\n",
       "      <td>609.179762</td>\n",
       "      <td>80.178886</td>\n",
       "      <td>46.160178</td>\n",
       "      <td>0.043987</td>\n",
       "      <td>1.736971</td>\n",
       "      <td>4</td>\n",
       "      <td>4.25</td>\n",
       "    </tr>\n",
       "    <tr>\n",
       "      <th>4</th>\n",
       "      <td>238_slide4_slice4_CA1_60x_zstack3_mean_threshx...</td>\n",
       "      <td>1</td>\n",
       "      <td>5</td>\n",
       "      <td>458</td>\n",
       "      <td>113</td>\n",
       "      <td>308</td>\n",
       "      <td>200.024387</td>\n",
       "      <td>52.081784</td>\n",
       "      <td>17.505919</td>\n",
       "      <td>0.096737</td>\n",
       "      <td>2.975096</td>\n",
       "      <td>2</td>\n",
       "      <td>2.91</td>\n",
       "    </tr>\n",
       "    <tr>\n",
       "      <th>...</th>\n",
       "      <td>...</td>\n",
       "      <td>...</td>\n",
       "      <td>...</td>\n",
       "      <td>...</td>\n",
       "      <td>...</td>\n",
       "      <td>...</td>\n",
       "      <td>...</td>\n",
       "      <td>...</td>\n",
       "      <td>...</td>\n",
       "      <td>...</td>\n",
       "      <td>...</td>\n",
       "      <td>...</td>\n",
       "      <td>...</td>\n",
       "    </tr>\n",
       "    <tr>\n",
       "      <th>1501</th>\n",
       "      <td>374_slide8_slice5_cortex_60x_zstack4_mean_thre...</td>\n",
       "      <td>6</td>\n",
       "      <td>14</td>\n",
       "      <td>162</td>\n",
       "      <td>417</td>\n",
       "      <td>297</td>\n",
       "      <td>186.716775</td>\n",
       "      <td>33.565735</td>\n",
       "      <td>26.835330</td>\n",
       "      <td>0.107053</td>\n",
       "      <td>1.250804</td>\n",
       "      <td>5</td>\n",
       "      <td>5.97</td>\n",
       "    </tr>\n",
       "    <tr>\n",
       "      <th>1502</th>\n",
       "      <td>374_slide8_slice5_cortex_60x_zstack4_mean_thre...</td>\n",
       "      <td>6</td>\n",
       "      <td>15</td>\n",
       "      <td>332</td>\n",
       "      <td>461</td>\n",
       "      <td>543</td>\n",
       "      <td>333.007143</td>\n",
       "      <td>61.931397</td>\n",
       "      <td>48.315126</td>\n",
       "      <td>0.061532</td>\n",
       "      <td>1.281822</td>\n",
       "      <td>1</td>\n",
       "      <td>4.35</td>\n",
       "    </tr>\n",
       "    <tr>\n",
       "      <th>1503</th>\n",
       "      <td>374_slide8_slice5_cortex_60x_zstack4_mean_thre...</td>\n",
       "      <td>6</td>\n",
       "      <td>16</td>\n",
       "      <td>448</td>\n",
       "      <td>486</td>\n",
       "      <td>1128</td>\n",
       "      <td>535.209199</td>\n",
       "      <td>85.362570</td>\n",
       "      <td>46.686230</td>\n",
       "      <td>0.049485</td>\n",
       "      <td>1.828431</td>\n",
       "      <td>2</td>\n",
       "      <td>3.50</td>\n",
       "    </tr>\n",
       "    <tr>\n",
       "      <th>1504</th>\n",
       "      <td>374_slide8_slice5_cortex_60x_zstack4_mean_thre...</td>\n",
       "      <td>6</td>\n",
       "      <td>17</td>\n",
       "      <td>59</td>\n",
       "      <td>464</td>\n",
       "      <td>907</td>\n",
       "      <td>322.527958</td>\n",
       "      <td>47.369546</td>\n",
       "      <td>36.814684</td>\n",
       "      <td>0.109568</td>\n",
       "      <td>1.286702</td>\n",
       "      <td>3</td>\n",
       "      <td>4.43</td>\n",
       "    </tr>\n",
       "    <tr>\n",
       "      <th>1505</th>\n",
       "      <td>374_slide8_slice5_cortex_60x_zstack4_mean_thre...</td>\n",
       "      <td>6</td>\n",
       "      <td>18</td>\n",
       "      <td>214</td>\n",
       "      <td>489</td>\n",
       "      <td>316</td>\n",
       "      <td>197.817280</td>\n",
       "      <td>41.798482</td>\n",
       "      <td>21.350469</td>\n",
       "      <td>0.101477</td>\n",
       "      <td>1.957731</td>\n",
       "      <td>2</td>\n",
       "      <td>4.01</td>\n",
       "    </tr>\n",
       "  </tbody>\n",
       "</table>\n",
       "<p>1506 rows × 13 columns</p>\n",
       "</div>"
      ],
      "text/plain": [
       "                                               Filename  ImageID  ObjectID  \\\n",
       "0     238_slide4_slice4_CA1_60x_zstack3_mean_threshx...        1         1   \n",
       "1     238_slide4_slice4_CA1_60x_zstack3_mean_threshx...        1         2   \n",
       "2     238_slide4_slice4_CA1_60x_zstack3_mean_threshx...        1         3   \n",
       "3     238_slide4_slice4_CA1_60x_zstack3_mean_threshx...        1         4   \n",
       "4     238_slide4_slice4_CA1_60x_zstack3_mean_threshx...        1         5   \n",
       "...                                                 ...      ...       ...   \n",
       "1501  374_slide8_slice5_cortex_60x_zstack4_mean_thre...        6        14   \n",
       "1502  374_slide8_slice5_cortex_60x_zstack4_mean_thre...        6        15   \n",
       "1503  374_slide8_slice5_cortex_60x_zstack4_mean_thre...        6        16   \n",
       "1504  374_slide8_slice5_cortex_60x_zstack4_mean_thre...        6        17   \n",
       "1505  374_slide8_slice5_cortex_60x_zstack4_mean_thre...        6        18   \n",
       "\n",
       "        X    Y  Area   Perimeter  Major Axis  Minor Axis  Circularity  \\\n",
       "0     394   64   816  420.989899   83.426063   24.932008     0.057857   \n",
       "1      26   74   749  324.871104   87.603388   24.820913     0.089180   \n",
       "2     148   99  1234  616.386868  106.998420   41.403682     0.040815   \n",
       "3     274  113  1299  609.179762   80.178886   46.160178     0.043987   \n",
       "4     458  113   308  200.024387   52.081784   17.505919     0.096737   \n",
       "...   ...  ...   ...         ...         ...         ...          ...   \n",
       "1501  162  417   297  186.716775   33.565735   26.835330     0.107053   \n",
       "1502  332  461   543  333.007143   61.931397   48.315126     0.061532   \n",
       "1503  448  486  1128  535.209199   85.362570   46.686230     0.049485   \n",
       "1504   59  464   907  322.527958   47.369546   36.814684     0.109568   \n",
       "1505  214  489   316  197.817280   41.798482   21.350469     0.101477   \n",
       "\n",
       "      Aspect Ratio  Shape mode  Distance from cluster center  \n",
       "0         3.346143           1                          3.44  \n",
       "1         3.529419           1                          3.77  \n",
       "2         2.584273           1                          3.44  \n",
       "3         1.736971           4                          4.25  \n",
       "4         2.975096           2                          2.91  \n",
       "...            ...         ...                           ...  \n",
       "1501      1.250804           5                          5.97  \n",
       "1502      1.281822           1                          4.35  \n",
       "1503      1.828431           2                          3.50  \n",
       "1504      1.286702           3                          4.43  \n",
       "1505      1.957731           2                          4.01  \n",
       "\n",
       "[1506 rows x 13 columns]"
      ]
     },
     "execution_count": 6,
     "metadata": {},
     "output_type": "execute_result"
    }
   ],
   "source": [
    "csv_df"
   ]
  },
  {
   "cell_type": "markdown",
   "metadata": {},
   "source": [
    "*Step 4: Getting the file name*"
   ]
  },
  {
   "cell_type": "code",
   "execution_count": 7,
   "metadata": {},
   "outputs": [
    {
     "data": {
      "text/plain": [
       "'238_slide4_slice4_CA1_60x_zstack3_mean_threshxy30c1.png'"
      ]
     },
     "execution_count": 7,
     "metadata": {},
     "output_type": "execute_result"
    }
   ],
   "source": [
    "im_file_name_split = im_file_path.split('/')\n",
    "length = len(im_file_name_split)\n",
    "file_name = im_file_name_split[length-1]\n",
    "file_name"
   ]
  },
  {
   "cell_type": "markdown",
   "metadata": {},
   "source": [
    "*Step 5: Creating a mask for labeling*"
   ]
  },
  {
   "cell_type": "code",
   "execution_count": 8,
   "metadata": {},
   "outputs": [],
   "source": [
    "mask_b = np.zeros(np.asarray(img.shape)+2, dtype=np.uint8)\n",
    "mask_o = np.zeros(np.asarray(img.shape)+2, dtype=np.uint8)\n",
    "mask_g = np.zeros(np.asarray(img.shape)+2, dtype=np.uint8)\n",
    "mask_r = np.zeros(np.asarray(img.shape)+2, dtype=np.uint8)\n",
    "mask_p = np.zeros(np.asarray(img.shape)+2, dtype=np.uint8)"
   ]
  },
  {
   "cell_type": "code",
   "execution_count": 9,
   "metadata": {},
   "outputs": [
    {
     "data": {
      "text/plain": [
       "(238111, array([[0., 0., 0., ..., 0., 0., 0.],\n",
       "        [0., 0., 0., ..., 0., 0., 0.],\n",
       "        [0., 0., 0., ..., 0., 0., 0.],\n",
       "        ...,\n",
       "        [0., 0., 0., ..., 0., 0., 0.],\n",
       "        [0., 0., 0., ..., 0., 0., 0.],\n",
       "        [0., 0., 0., ..., 0., 0., 0.]], dtype=float32), array([[1, 1, 1, ..., 1, 1, 1],\n",
       "        [1, 1, 1, ..., 1, 1, 1],\n",
       "        [1, 1, 1, ..., 1, 1, 1],\n",
       "        ...,\n",
       "        [1, 1, 1, ..., 1, 1, 1],\n",
       "        [1, 1, 1, ..., 1, 1, 1],\n",
       "        [1, 1, 1, ..., 1, 1, 1]], dtype=uint8), (0, 0, 512, 512))"
      ]
     },
     "execution_count": 9,
     "metadata": {},
     "output_type": "execute_result"
    }
   ],
   "source": [
    "start_pt = (14,111)\n",
    "cv2.floodFill(img, mask_o, start_pt, (0,0,255), flags=4)"
   ]
  },
  {
   "cell_type": "code",
   "execution_count": 10,
   "metadata": {},
   "outputs": [],
   "source": [
    "mask_o = mask_o[1:-1, 1:-1]"
   ]
  },
  {
   "cell_type": "code",
   "execution_count": 11,
   "metadata": {},
   "outputs": [
    {
     "data": {
      "text/plain": [
       "<matplotlib.image.AxesImage at 0x7feb783f3290>"
      ]
     },
     "execution_count": 11,
     "metadata": {},
     "output_type": "execute_result"
    },
    {
     "data": {
      "image/png": "[encoded data removed]",
      "text/plain": [
       "<Figure size 432x288 with 1 Axes>"
      ]
     },
     "metadata": {
      "needs_background": "light"
     },
     "output_type": "display_data"
    }
   ],
   "source": [
    "plt.imshow(mask_o, cmap='gray')"
   ]
  },
  {
   "cell_type": "markdown",
   "metadata": {},
   "source": [
    "*Step X: Automating the Process*"
   ]
  },
  {
   "cell_type": "markdown",
   "metadata": {},
   "source": [
    "*Step 1: Import need_to_label_list*"
   ]
  },
  {
   "cell_type": "code",
   "execution_count": 12,
   "metadata": {},
   "outputs": [
    {
     "data": {
      "text/html": [
       "<div>\n",
       "<style scoped>\n",
       "    .dataframe tbody tr th:only-of-type {\n",
       "        vertical-align: middle;\n",
       "    }\n",
       "\n",
       "    .dataframe tbody tr th {\n",
       "        vertical-align: top;\n",
       "    }\n",
       "\n",
       "    .dataframe thead th {\n",
       "        text-align: right;\n",
       "    }\n",
       "</style>\n",
       "<table border=\"1\" class=\"dataframe\">\n",
       "  <thead>\n",
       "    <tr style=\"text-align: right;\">\n",
       "      <th></th>\n",
       "      <th>image_file_path</th>\n",
       "      <th>Image_label_path</th>\n",
       "    </tr>\n",
       "  </thead>\n",
       "  <tbody>\n",
       "    <tr>\n",
       "      <th>0</th>\n",
       "      <td>/Users/hhelmbre/Desktop/Mglur5_publication_ana...</td>\n",
       "      <td>/Users/hhelmbre/Desktop/Mglur5_publication_ana...</td>\n",
       "    </tr>\n",
       "    <tr>\n",
       "      <th>1</th>\n",
       "      <td>/Users/hhelmbre/Desktop/Mglur5_publication_ana...</td>\n",
       "      <td>/Users/hhelmbre/Desktop/Mglur5_publication_ana...</td>\n",
       "    </tr>\n",
       "    <tr>\n",
       "      <th>2</th>\n",
       "      <td>/Users/hhelmbre/Desktop/Mglur5_publication_ana...</td>\n",
       "      <td>/Users/hhelmbre/Desktop/Mglur5_publication_ana...</td>\n",
       "    </tr>\n",
       "    <tr>\n",
       "      <th>3</th>\n",
       "      <td>/Users/hhelmbre/Desktop/Mglur5_publication_ana...</td>\n",
       "      <td>/Users/hhelmbre/Desktop/Mglur5_publication_ana...</td>\n",
       "    </tr>\n",
       "    <tr>\n",
       "      <th>4</th>\n",
       "      <td>/Users/hhelmbre/Desktop/Mglur5_publication_ana...</td>\n",
       "      <td>/Users/hhelmbre/Desktop/Mglur5_publication_ana...</td>\n",
       "    </tr>\n",
       "    <tr>\n",
       "      <th>5</th>\n",
       "      <td>/Users/hhelmbre/Desktop/Mglur5_publication_ana...</td>\n",
       "      <td>/Users/hhelmbre/Desktop/Mglur5_publication_ana...</td>\n",
       "    </tr>\n",
       "    <tr>\n",
       "      <th>6</th>\n",
       "      <td>/Users/hhelmbre/Desktop/Mglur5_publication_ana...</td>\n",
       "      <td>/Users/hhelmbre/Desktop/Mglur5_publication_ana...</td>\n",
       "    </tr>\n",
       "    <tr>\n",
       "      <th>7</th>\n",
       "      <td>/Users/hhelmbre/Desktop/Mglur5_publication_ana...</td>\n",
       "      <td>/Users/hhelmbre/Desktop/Mglur5_publication_ana...</td>\n",
       "    </tr>\n",
       "    <tr>\n",
       "      <th>8</th>\n",
       "      <td>/Users/hhelmbre/Desktop/Mglur5_publication_ana...</td>\n",
       "      <td>/Users/hhelmbre/Desktop/Mglur5_publication_ana...</td>\n",
       "    </tr>\n",
       "    <tr>\n",
       "      <th>9</th>\n",
       "      <td>/Users/hhelmbre/Desktop/Mglur5_publication_ana...</td>\n",
       "      <td>/Users/hhelmbre/Desktop/Mglur5_publication_ana...</td>\n",
       "    </tr>\n",
       "    <tr>\n",
       "      <th>10</th>\n",
       "      <td>/Users/hhelmbre/Desktop/Mglur5_publication_ana...</td>\n",
       "      <td>/Users/hhelmbre/Desktop/Mglur5_publication_ana...</td>\n",
       "    </tr>\n",
       "    <tr>\n",
       "      <th>11</th>\n",
       "      <td>/Users/hhelmbre/Desktop/Mglur5_publication_ana...</td>\n",
       "      <td>/Users/hhelmbre/Desktop/Mglur5_publication_ana...</td>\n",
       "    </tr>\n",
       "    <tr>\n",
       "      <th>12</th>\n",
       "      <td>/Users/hhelmbre/Desktop/Mglur5_publication_ana...</td>\n",
       "      <td>/Users/hhelmbre/Desktop/Mglur5_publication_ana...</td>\n",
       "    </tr>\n",
       "    <tr>\n",
       "      <th>13</th>\n",
       "      <td>/Users/hhelmbre/Desktop/Mglur5_publication_ana...</td>\n",
       "      <td>/Users/hhelmbre/Desktop/Mglur5_publication_ana...</td>\n",
       "    </tr>\n",
       "    <tr>\n",
       "      <th>14</th>\n",
       "      <td>/Users/hhelmbre/Desktop/Mglur5_publication_ana...</td>\n",
       "      <td>/Users/hhelmbre/Desktop/Mglur5_publication_ana...</td>\n",
       "    </tr>\n",
       "    <tr>\n",
       "      <th>15</th>\n",
       "      <td>/Users/hhelmbre/Desktop/Mglur5_publication_ana...</td>\n",
       "      <td>/Users/hhelmbre/Desktop/Mglur5_publication_ana...</td>\n",
       "    </tr>\n",
       "    <tr>\n",
       "      <th>16</th>\n",
       "      <td>/Users/hhelmbre/Desktop/Mglur5_publication_ana...</td>\n",
       "      <td>/Users/hhelmbre/Desktop/Mglur5_publication_ana...</td>\n",
       "    </tr>\n",
       "    <tr>\n",
       "      <th>17</th>\n",
       "      <td>/Users/hhelmbre/Desktop/Mglur5_publication_ana...</td>\n",
       "      <td>/Users/hhelmbre/Desktop/Mglur5_publication_ana...</td>\n",
       "    </tr>\n",
       "    <tr>\n",
       "      <th>18</th>\n",
       "      <td>/Users/hhelmbre/Desktop/Mglur5_publication_ana...</td>\n",
       "      <td>/Users/hhelmbre/Desktop/Mglur5_publication_ana...</td>\n",
       "    </tr>\n",
       "  </tbody>\n",
       "</table>\n",
       "</div>"
      ],
      "text/plain": [
       "                                      image_file_path  \\\n",
       "0   /Users/hhelmbre/Desktop/Mglur5_publication_ana...   \n",
       "1   /Users/hhelmbre/Desktop/Mglur5_publication_ana...   \n",
       "2   /Users/hhelmbre/Desktop/Mglur5_publication_ana...   \n",
       "3   /Users/hhelmbre/Desktop/Mglur5_publication_ana...   \n",
       "4   /Users/hhelmbre/Desktop/Mglur5_publication_ana...   \n",
       "5   /Users/hhelmbre/Desktop/Mglur5_publication_ana...   \n",
       "6   /Users/hhelmbre/Desktop/Mglur5_publication_ana...   \n",
       "7   /Users/hhelmbre/Desktop/Mglur5_publication_ana...   \n",
       "8   /Users/hhelmbre/Desktop/Mglur5_publication_ana...   \n",
       "9   /Users/hhelmbre/Desktop/Mglur5_publication_ana...   \n",
       "10  /Users/hhelmbre/Desktop/Mglur5_publication_ana...   \n",
       "11  /Users/hhelmbre/Desktop/Mglur5_publication_ana...   \n",
       "12  /Users/hhelmbre/Desktop/Mglur5_publication_ana...   \n",
       "13  /Users/hhelmbre/Desktop/Mglur5_publication_ana...   \n",
       "14  /Users/hhelmbre/Desktop/Mglur5_publication_ana...   \n",
       "15  /Users/hhelmbre/Desktop/Mglur5_publication_ana...   \n",
       "16  /Users/hhelmbre/Desktop/Mglur5_publication_ana...   \n",
       "17  /Users/hhelmbre/Desktop/Mglur5_publication_ana...   \n",
       "18  /Users/hhelmbre/Desktop/Mglur5_publication_ana...   \n",
       "\n",
       "                                     Image_label_path  \n",
       "0   /Users/hhelmbre/Desktop/Mglur5_publication_ana...  \n",
       "1   /Users/hhelmbre/Desktop/Mglur5_publication_ana...  \n",
       "2   /Users/hhelmbre/Desktop/Mglur5_publication_ana...  \n",
       "3   /Users/hhelmbre/Desktop/Mglur5_publication_ana...  \n",
       "4   /Users/hhelmbre/Desktop/Mglur5_publication_ana...  \n",
       "5   /Users/hhelmbre/Desktop/Mglur5_publication_ana...  \n",
       "6   /Users/hhelmbre/Desktop/Mglur5_publication_ana...  \n",
       "7   /Users/hhelmbre/Desktop/Mglur5_publication_ana...  \n",
       "8   /Users/hhelmbre/Desktop/Mglur5_publication_ana...  \n",
       "9   /Users/hhelmbre/Desktop/Mglur5_publication_ana...  \n",
       "10  /Users/hhelmbre/Desktop/Mglur5_publication_ana...  \n",
       "11  /Users/hhelmbre/Desktop/Mglur5_publication_ana...  \n",
       "12  /Users/hhelmbre/Desktop/Mglur5_publication_ana...  \n",
       "13  /Users/hhelmbre/Desktop/Mglur5_publication_ana...  \n",
       "14  /Users/hhelmbre/Desktop/Mglur5_publication_ana...  \n",
       "15  /Users/hhelmbre/Desktop/Mglur5_publication_ana...  \n",
       "16  /Users/hhelmbre/Desktop/Mglur5_publication_ana...  \n",
       "17  /Users/hhelmbre/Desktop/Mglur5_publication_ana...  \n",
       "18  /Users/hhelmbre/Desktop/Mglur5_publication_ana...  "
      ]
     },
     "execution_count": 12,
     "metadata": {},
     "output_type": "execute_result"
    }
   ],
   "source": [
    "need_to_label_list_file_path = '/Users/hhelmbre/Desktop/Mglur5_publication_analysis/vampire/images_to_color.csv'\n",
    "need_to_label_list = pd.read_csv(need_to_label_list_file_path)\n",
    "need_to_label_list"
   ]
  },
  {
   "cell_type": "code",
   "execution_count": 13,
   "metadata": {},
   "outputs": [],
   "source": [
    "need_to_label_list2 = []\n",
    "j = 0\n",
    "for file_paths in range(0,need_to_label_list.shape[0]):\n",
    "    arr = os.listdir(need_to_label_list['image_file_path'][j])\n",
    "    image_list = np.asarray(arr)\n",
    "    image_list = [x for x in image_list if \".png\" in x]\n",
    "    for images in image_list:\n",
    "        file_name = str(need_to_label_list['image_file_path'][j] + '/' + images)\n",
    "        need_to_label_list2.append(file_name)\n",
    "        \n",
    "    j += 1\n",
    "    "
   ]
  },
  {
   "cell_type": "markdown",
   "metadata": {},
   "source": [
    "*Add in a step here to visualize the shape mode labels with the colors I chose*"
   ]
  },
  {
   "cell_type": "code",
   "execution_count": 14,
   "metadata": {},
   "outputs": [],
   "source": [
    "def c(x):\n",
    "   col = plt.cm.twilight(x)\n",
    "   fig, ax = plt.subplots(figsize=(1,1))\n",
    "   fig.set_facecolor(col)\n",
    "   ax.axis(\"off\")\n",
    "   plt.show()"
   ]
  },
  {
   "cell_type": "code",
   "execution_count": 15,
   "metadata": {},
   "outputs": [
    {
     "name": "stdout",
     "output_type": "stream",
     "text": [
      "0.5\n"
     ]
    },
    {
     "data": {
      "image/png": "[encoded data removed]",
      "text/plain": [
       "<Figure size 72x72 with 1 Axes>"
      ]
     },
     "metadata": {},
     "output_type": "display_data"
    },
    {
     "name": "stdout",
     "output_type": "stream",
     "text": [
      "0.047\n"
     ]
    },
    {
     "data": {
      "image/png": "[encoded data removed]",
      "text/plain": [
       "<Figure size 72x72 with 1 Axes>"
      ]
     },
     "metadata": {},
     "output_type": "display_data"
    },
    {
     "name": "stdout",
     "output_type": "stream",
     "text": [
      "0.7\n"
     ]
    },
    {
     "data": {
      "image/png": "[encoded data removed]",
      "text/plain": [
       "<Figure size 72x72 with 1 Axes>"
      ]
     },
     "metadata": {},
     "output_type": "display_data"
    },
    {
     "name": "stdout",
     "output_type": "stream",
     "text": [
      "0.33\n"
     ]
    },
    {
     "data": {
      "image/png": "[encoded data removed]",
      "text/plain": [
       "<Figure size 72x72 with 1 Axes>"
      ]
     },
     "metadata": {},
     "output_type": "display_data"
    },
    {
     "name": "stdout",
     "output_type": "stream",
     "text": [
      "0.9\n"
     ]
    },
    {
     "data": {
      "image/png": "[encoded data removed]",
      "text/plain": [
       "<Figure size 72x72 with 1 Axes>"
      ]
     },
     "metadata": {},
     "output_type": "display_data"
    }
   ],
   "source": [
    "color_list = np.linspace(0,1,20)\n",
    "color_list = [0.5, 0.047, 0.7, 0.33, 0.9]\n",
    "for options in color_list:\n",
    "    print(options)\n",
    "    c(options)"
   ]
  },
  {
   "cell_type": "markdown",
   "metadata": {},
   "source": [
    "*The code to actually recolor the images*"
   ]
  },
  {
   "cell_type": "code",
   "execution_count": 18,
   "metadata": {},
   "outputs": [],
   "source": [
    "label_save_file_path = '/Users/hhelmbre/Desktop/Mglur5_publication_analysis/vampire/color_coded/'"
   ]
  },
  {
   "cell_type": "code",
   "execution_count": 19,
   "metadata": {},
   "outputs": [
    {
     "name": "stdout",
     "output_type": "stream",
     "text": [
      "308_slide5_slice3_CA1_60x_zstack3_mean_threshxy51c1.png\n",
      "308_slide5_slice4_CA1_60x_zstack3_mean_threshxy12c1.png\n",
      "238_slide4_slice4_CA1_60x_zstack3_mean_threshxy30c1.png\n",
      "308_slide5_slice3_CA1_60x_zstack1_mean_threshxy21c1.png\n",
      "308_slide5_slice4_CA2_60x_zstack5_mean_threshxy52c1.png\n",
      "308_slide5_slice3_CA2_60x_zstack5_mean_threshxy11c1.png\n",
      "238_slide4_slice3_CA2_60x_zstack5_mean_threshxy29c1.png\n",
      "308_slide5_slice5_cortex_60x_zstack4_mean_threshxy26c1.png\n",
      "308_slide5_slice4_cortex_60x_zstack2_mean_threshxy17c1.png\n",
      "238_slide4_slice5_cortex_60x_zstack4_mean_threshxy71c1.png\n",
      "238_slide4_slice5_cortex_60x_zstack5_mean_threshxy39c1.png\n",
      "308_slide5_slice3_cortex_60x_zstack2_mean_threshxy13c1.png\n",
      "308_slide5_slice4_cortex_60x_zstack4_mean_threshxy05c1.png\n",
      "310_slide5_slice3_CA1_60x_zstack1_mean_threshxy08c1.png\n",
      "213_slide5_slice4_CA1_60x_zstack2_mean_threshxy28c1.png\n",
      "310_slide5_slice4_CA1_60x_zstack1_mean_threshxy45c1.png\n",
      "310_slide5_slice5_CA1_60x_zstack1_mean_threshxy20c1.png\n",
      "310_slide5_slice4_CA2_60x_zstack4_mean_threshxy42c1.png\n",
      "310_slide5_slice5_CA2_60x_zstack5_mean_threshxy09c1.png\n",
      "213_slide5_slice3_CA2_60x_zstack4_mean_threshxy31c1.png\n",
      "213_slide5_slice4_cortex_60x_zstack5_mean_threshxy50c1.png\n",
      "213_slide5_slice5_cortex_60x_zstack3_mean_threshxy40c1.png\n",
      "310_slide5_slice4_cortex_60x_zstack5_mean_threshxy43c1.png\n",
      "310_slide5_slice4_cortex_60x_zstack4_mean_threshxy75c1.png\n",
      "310_slide5_slice4_cortex_60x_zstack2_mean_threshxy60c1.png\n",
      "310_slide5_slice5_cortex_60x_zstack1_mean_threshxy25c1.png\n",
      "343_slide7_slice4_CA1_60x_zstack3_mean_threshxy73c1.png\n",
      "343_slide7_slice4_CA2_60x_zstack1_mean_threshxy70c1.png\n",
      "343_slide7_slice4_CA2_60x_zstack2_mean_threshxy37c1.png\n",
      "343_slide7_slice3_CA3_60x_zstack5_mean_threshxy59c1.png\n",
      "343_slide7_slice4_cortex_60x_zstack5_mean_threshxy27c1.png\n",
      "343_slide7_slice3_cortex_60x_zstack5_mean_threshxy07c1.png\n",
      "343_slide7_slice4_cortex_60x_zstack1_mean_threshxy69c1.png\n",
      "351_slide5_slice4_CA1_60x_zstack3_mean_threshxy55c1.png\n",
      "351_slide5_slice5_CA1_60x_zstack2_mean_threshxy02c1.png\n",
      "351_slide5_slice5_CA1_60x_zstack1_mean_threshxy63c1.png\n",
      "352_slide2_slice3_CA2_60x_zstack2_mean_threshxy14c1.png\n",
      "351_slide5_slice3_CA2_60x_zstack4_mean_threshxy68c1.png\n",
      "352_slide2_slice4_CA2_60x_zstack2_mean_threshxy47c1.png\n",
      "351_slide5_slice4_CA2_60x_zstack4_mean_threshxy32c1.png\n",
      "351_slide5_slice4_cortex_60x_zstack3_mean_threshxy44c1.png\n",
      "352_slide2_slice5_cortex_60x_zstack4_mean_threshxy16c1.png\n",
      "352_slide2_slice4_cortex_60x_zstack2_mean_threshxy23c1.png\n",
      "352_slide2_slice4_cortex_60x_zstack3_mean_threshxy15c1.png\n",
      "351_slide5_slice4_cortex_60x_zstack2_mean_threshxy76c1.png\n",
      "352_slide2_slice5_cortex_60x_zstack2_mean_threshxy03c1.png\n",
      "314_slide5_slice5_CA1_60x_zstack1_mean_threshxy67c1.png\n",
      "337_slide5_slice3_CA1_60x_zstack3_mean_threshxy36c1.png\n",
      "314_slide5_slice3_CA1_60x_zstack1_mean_threshxy58c1.png\n",
      "337_slide5_slice4_CA1_60x_zstack1_mean_threshxy01c1.png\n",
      "314_slide5_slice3_CA1_60x_zstack2_mean_threshxy04c1.png\n",
      "309_slide5_slice5_CA2_60x_zstack5_mean_threshxy33c1.png\n",
      "314_slide5_slice5_CA2_60x_zstack4_mean_threshxy64c1.png\n",
      "314_slide5_slice5_CA2_60x_zstack5_mean_threshxy54c1.png\n",
      "314_slide5_slice4_CA2_60x_zstack4_mean_threshxy06c1.png\n",
      "337_slide5_slice3_CA2_60x_zstack1_mean_threshxy18c1.png\n",
      "314_slide5_slice3_cortex_60x_zstack4_mean_threshxy61c1.png\n",
      "337_slide5_slice4_cortex_60x_zstack4_mean_threshxy34c1.png\n",
      "314_slide5_slice4_cortex_60x_zstack4_mean_threshxy65c1.png\n",
      "309_slide5_slice5_cortex_60x_zstack3_mean_threshxy74c1.png\n",
      "337_slide5_slice4_cortex_60x_zstack2_mean_threshxy10c1.png\n",
      "314_slide5_slice5_cortex_60x_zstack3_mean_threshxy62c1.png\n",
      "314_slide5_slice5_cortex_60x_zstack5_mean_threshxy72c1.png\n",
      "309_slide5_slice4_cortex_60x_zstack5_mean_threshxy77c1.png\n",
      "309_slide5_slice4_cortex_60x_zstack3_mean_threshxy56c1.png\n",
      "363_slide5_slice4_CA1_60x_zstack1_mean_threshxy53c1.png\n",
      "374_slide8_slice3_CA1_60x_zstack3_mean_threshxy19c1.png\n",
      "363_slide5_slice5_CA1_60x_zstack1_mean_threshxy38c1.png\n",
      "374_slide8_slice5_CA2_60x_zstack5_mean_threshxy49c1.png\n",
      "374_slide8_slice3_CA2_60x_zstack1_mean_threshxy35c1.png\n",
      "363_slide5_slice4_CA2_60x_zstack5_mean_threshxy66c1.png\n",
      "374_slide8_slice5_cortex_60x_zstack2_mean_threshxy78c1.png\n",
      "374_slide8_slice4_cortex_60x_zstack5_mean_threshxy41c1.png\n",
      "374_slide8_slice5_cortex_60x_zstack1_mean_threshxy24c1.png\n",
      "363_slide5_slice5_cortex_60x_zstack2_mean_threshxy48c1.png\n",
      "374_slide8_slice5_cortex_60x_zstack3_mean_threshxy46c1.png\n",
      "374_slide8_slice5_cortex_60x_zstack4_mean_threshxy57c1.png\n"
     ]
    },
    {
     "data": {
      "image/png": "[encoded data removed]",
      "text/plain": [
       "<Figure size 432x288 with 1 Axes>"
      ]
     },
     "metadata": {},
     "output_type": "display_data"
    }
   ],
   "source": [
    "k = 0\n",
    "cmap = plt.get_cmap('twilight')\n",
    "cmap.set_bad(color = 'white')\n",
    "for images in need_to_label_list2:\n",
    "    \n",
    "    #Reading in the image and its labels\n",
    "    im_file_path = images\n",
    "    img = mpimg.imread(im_file_path)\n",
    "    csv_df = pd.read_csv('/Users/hhelmbre/Desktop/Mglur5_publication_analysis/shape_mode_vs_feature_all_nonsorted.csv')\n",
    "    \n",
    "    #Getting the file path from the file name\n",
    "    im_file_name_split = im_file_path.split('/')\n",
    "    length = len(im_file_name_split)\n",
    "    file_name = im_file_name_split[length-1]\n",
    "    print(file_name)\n",
    "    \n",
    "    mask = np.zeros(np.asarray(img.shape)+2, dtype=np.uint8)\n",
    "    \n",
    "    csv_df = csv_df[csv_df.Filename == file_name]\n",
    "    csv_df = csv_df.reset_index(drop=True)\n",
    "    \n",
    "    for shapes in range(len(csv_df)):\n",
    "        shape_mode = (csv_df['Shape mode'][shapes]).astype(int)\n",
    "        start_pt = (csv_df['X'][shapes], csv_df['Y'][shapes])\n",
    "        area =csv_df['Area'][shapes]\n",
    "        \n",
    "        if img[csv_df['Y'][shapes]][csv_df['X'][shapes]]== 1:\n",
    "            if shape_mode==1: #0.5\n",
    "                cv2.floodFill(img, mask, start_pt, 0, flags=0)\n",
    "                mask[mask == 1] = 128\n",
    "\n",
    "            elif shape_mode==2: #0.047\n",
    "                cv2.floodFill(img, mask, start_pt, 0, flags=0)\n",
    "                mask[mask == 1] = 12\n",
    "            elif shape_mode==3: #0.7\n",
    "                cv2.floodFill(img, mask, start_pt, 0, flags=0)\n",
    "                mask[mask == 1] = 179\n",
    "\n",
    "            elif shape_mode==4: #0.33\n",
    "                cv2.floodFill(img, mask, start_pt, 0, flags=0)\n",
    "                mask[mask == 1] = 85\n",
    "\n",
    "            elif shape_mode==5: #0.9\n",
    "                cv2.floodFill(img, mask, start_pt, 0, flags=0)\n",
    "                mask[mask == 1] = 230\n",
    "\n",
    "            if shapes == len(csv_df)-1:\n",
    "                mask = mask[1:-1, 1:-1]\n",
    "                mask[0][0] = 255\n",
    "                \n",
    "                mask = mask.astype('float')\n",
    "                mask[mask==0] = np.nan\n",
    "            \n",
    "                plt.imshow(mask,cmap='twilight')\n",
    "                plt.tick_params(\n",
    "                    axis='x',\n",
    "                    which='both',\n",
    "                    bottom=False,\n",
    "                    top=False,\n",
    "                    labelbottom=False)\n",
    "                plt.yticks([])\n",
    "                plt.savefig(str(label_save_file_path + str(k) + file_name), bbox_inches = 'tight',\n",
    "    pad_inches = 0)\n",
    "\n",
    "                #img_to_save = Image.fromarray(mask)\n",
    "                #img_to_save.save(str(label_save_file_path + str(k) + file_name))\n",
    "\n",
    "    \n",
    "    k += 1"
   ]
  },
  {
   "cell_type": "markdown",
   "metadata": {},
   "source": [
    "*Step 3: Environment Specs*"
   ]
  },
  {
   "cell_type": "code",
   "execution_count": 20,
   "metadata": {},
   "outputs": [
    {
     "name": "stdout",
     "output_type": "stream",
     "text": [
      "Python implementation: CPython\n",
      "Python version       : 3.7.4\n",
      "IPython version      : 7.8.0\n",
      "\n",
      "numpy     : 1.21.5\n",
      "pandas    : 1.3.5\n",
      "scipy     : 1.3.1\n",
      "skimage   : 0.17.2\n",
      "matplotlib: 3.1.1\n",
      "cv2       : 4.2.0\n",
      "PIL       : 7.2.0\n",
      "wget      : 3.2\n",
      "\n",
      "Compiler    : Clang 4.0.1 (tags/RELEASE_401/final)\n",
      "OS          : Darwin\n",
      "Release     : 20.6.0\n",
      "Machine     : x86_64\n",
      "Processor   : i386\n",
      "CPU cores   : 8\n",
      "Architecture: 64bit\n",
      "\n",
      "Last updated: Thu Jun 23 2022 14:49:03PDT\n",
      "\n"
     ]
    }
   ],
   "source": [
    "%load_ext watermark\n",
    "\n",
    "%watermark -v -m -p numpy,pandas,scipy,skimage,matplotlib,cv2,PIL,wget\n",
    "\n",
    "%watermark -u -n -t -z"
   ]
  },
  {
   "cell_type": "code",
   "execution_count": null,
   "metadata": {},
   "outputs": [],
   "source": []
  }
 ],
 "metadata": {
  "kernelspec": {
   "display_name": "Python 3",
   "language": "python",
   "name": "python3"
  },
  "language_info": {
   "codemirror_mode": {
    "name": "ipython",
    "version": 3
   },
   "file_extension": ".py",
   "mimetype": "text/x-python",
   "name": "python",
   "nbconvert_exporter": "python",
   "pygments_lexer": "ipython3",
   "version": "3.7.4"
  }
 },
 "nbformat": 4,
 "nbformat_minor": 4
}
