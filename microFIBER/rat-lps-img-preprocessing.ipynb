{
 "cells": [
  {
   "cell_type": "markdown",
   "id": "82fc39e4",
   "metadata": {},
   "source": [
    "# Rat LPS Image Preprocessing\n",
    "\n",
    "19 May 2022\n",
    "\n",
    "Objective: Preprocess the given unlabeled images in `.npy` to labeled images in `.tif` for further VAMPIRE analysis.\n",
    "\n",
    "## Read, label, and write images"
   ]
  },
  {
   "cell_type": "code",
   "execution_count": 1,
   "id": "61db0e3b",
   "metadata": {
    "ExecuteTime": {
     "end_time": "2022-02-26T01:17:57.267239Z",
     "start_time": "2022-02-26T01:17:54.301897Z"
    }
   },
   "outputs": [],
   "source": [
    "import os\n",
    "import numpy as np\n",
    "import matplotlib.pyplot as plt\n",
    "import pandas as pd\n",
    "import skimage\n",
    "import vampire as vp"
   ]
  },
  {
   "cell_type": "code",
   "execution_count": 2,
   "id": "dd98541c-41d4-4e41-b69c-a956a0bd8f35",
   "metadata": {
    "ExecuteTime": {
     "end_time": "2022-02-26T01:17:57.316837Z",
     "start_time": "2022-02-26T01:17:57.292857Z"
    }
   },
   "outputs": [],
   "source": [
    "# set up filepaths to ndarrays\n",
    "DATA_DIR = r'C:\\Files\\github-projects\\nance-lab-data\\microfiber\\0-raw-rat-lps-ostu'\n",
    "filenames = np.array(os.listdir(DATA_DIR))\n",
    "os_path_join = np.vectorize(os.path.join)\n",
    "filepaths = os_path_join(DATA_DIR, filenames)"
   ]
  },
  {
   "cell_type": "code",
   "execution_count": 4,
   "id": "a3a49b51",
   "metadata": {
    "ExecuteTime": {
     "end_time": "2022-02-26T01:17:57.322778Z",
     "start_time": "2022-02-26T01:17:57.317791Z"
    }
   },
   "outputs": [],
   "source": [
    "def load_imgs(filepaths):\n",
    "    \"\"\"Filepaths are paths to images. Returns image ndarrays.\"\"\"\n",
    "    imgs = []\n",
    "    for filepath in filepaths:\n",
    "        imgs.append(skimage.measure.label(np.load(filepath)))\n",
    "    return imgs"
   ]
  },
  {
   "cell_type": "code",
   "execution_count": 5,
   "id": "902f7e9d",
   "metadata": {
    "ExecuteTime": {
     "end_time": "2022-02-26T01:18:10.141972Z",
     "start_time": "2022-02-26T01:17:57.323775Z"
    }
   },
   "outputs": [],
   "source": [
    "imgs = load_imgs(filepaths)"
   ]
  },
  {
   "cell_type": "code",
   "execution_count": 6,
   "id": "e32bf0e3",
   "metadata": {
    "ExecuteTime": {
     "end_time": "2022-02-26T01:18:10.150918Z",
     "start_time": "2022-02-26T01:18:10.142941Z"
    }
   },
   "outputs": [],
   "source": [
    "img_paths = pd.Series(filepaths).str.replace('npy', 'tif').to_numpy()"
   ]
  },
  {
   "cell_type": "code",
   "execution_count": 7,
   "id": "b3e20795",
   "metadata": {
    "ExecuteTime": {
     "end_time": "2022-02-26T01:18:10.161890Z",
     "start_time": "2022-02-26T01:18:10.154908Z"
    }
   },
   "outputs": [],
   "source": [
    "from skimage import io\n",
    "def save_imgs(img_set, save_img_paths):\n",
    "    for i in range(len(img_set)):\n",
    "        io.imsave(save_img_paths[i], img_set[i])"
   ]
  },
  {
   "cell_type": "code",
   "execution_count": 8,
   "id": "1ac938b0",
   "metadata": {
    "ExecuteTime": {
     "end_time": "2022-02-26T01:18:20.188290Z",
     "start_time": "2022-02-26T01:18:10.164883Z"
    }
   },
   "outputs": [
    {
     "name": "stderr",
     "output_type": "stream",
     "text": [
      "C:\\Users\\owen4\\AppData\\Local\\Temp\\ipykernel_10704\\1707061752.py:4: UserWarning: C:\\Files\\github-projects\\nance-lab-data\\microfiber\\0-raw-rat-lps-ostu\\2019-02-18_DAPI_Iba_LPS_100ng_0-24_24h_60x_scan_1_otsu_thresh.tif is a low contrast image\n",
      "  io.imsave(save_img_paths[i], img_set[i])\n",
      "C:\\Users\\owen4\\AppData\\Local\\Temp\\ipykernel_10704\\1707061752.py:4: UserWarning: C:\\Files\\github-projects\\nance-lab-data\\microfiber\\0-raw-rat-lps-ostu\\2019-02-18_DAPI_Iba_LPS_100ng_0-24_24h_60x_scan_2_otsu_thresh.tif is a low contrast image\n",
      "  io.imsave(save_img_paths[i], img_set[i])\n",
      "C:\\Users\\owen4\\AppData\\Local\\Temp\\ipykernel_10704\\1707061752.py:4: UserWarning: C:\\Files\\github-projects\\nance-lab-data\\microfiber\\0-raw-rat-lps-ostu\\2019-02-18_DAPI_Iba_LPS_100ng_0-24_24h_60x_scan_3_otsu_thresh.tif is a low contrast image\n",
      "  io.imsave(save_img_paths[i], img_set[i])\n",
      "C:\\Users\\owen4\\AppData\\Local\\Temp\\ipykernel_10704\\1707061752.py:4: UserWarning: C:\\Files\\github-projects\\nance-lab-data\\microfiber\\0-raw-rat-lps-ostu\\2019-02-18_DAPI_Iba_LPS_100ng_0-72_72h_60x_scan_1_otsu_thresh.tif is a low contrast image\n",
      "  io.imsave(save_img_paths[i], img_set[i])\n",
      "C:\\Users\\owen4\\AppData\\Local\\Temp\\ipykernel_10704\\1707061752.py:4: UserWarning: C:\\Files\\github-projects\\nance-lab-data\\microfiber\\0-raw-rat-lps-ostu\\2019-02-18_DAPI_Iba_LPS_100ng_0-72_72h_60x_scan_2_otsu_thresh.tif is a low contrast image\n",
      "  io.imsave(save_img_paths[i], img_set[i])\n",
      "C:\\Users\\owen4\\AppData\\Local\\Temp\\ipykernel_10704\\1707061752.py:4: UserWarning: C:\\Files\\github-projects\\nance-lab-data\\microfiber\\0-raw-rat-lps-ostu\\2019-02-18_DAPI_Iba_LPS_1ug_-3-0_24h_60x_scan_1_otsu_thresh.tif is a low contrast image\n",
      "  io.imsave(save_img_paths[i], img_set[i])\n",
      "C:\\Users\\owen4\\AppData\\Local\\Temp\\ipykernel_10704\\1707061752.py:4: UserWarning: C:\\Files\\github-projects\\nance-lab-data\\microfiber\\0-raw-rat-lps-ostu\\2019-02-18_DAPI_Iba_LPS_1ug_-3-0_24h_60x_scan_2_otsu_thresh.tif is a low contrast image\n",
      "  io.imsave(save_img_paths[i], img_set[i])\n",
      "C:\\Users\\owen4\\AppData\\Local\\Temp\\ipykernel_10704\\1707061752.py:4: UserWarning: C:\\Files\\github-projects\\nance-lab-data\\microfiber\\0-raw-rat-lps-ostu\\2019-02-18_DAPI_Iba_LPS_1ug_-3-0_72h_60x_scan_1_otsu_thresh.tif is a low contrast image\n",
      "  io.imsave(save_img_paths[i], img_set[i])\n",
      "C:\\Users\\owen4\\AppData\\Local\\Temp\\ipykernel_10704\\1707061752.py:4: UserWarning: C:\\Files\\github-projects\\nance-lab-data\\microfiber\\0-raw-rat-lps-ostu\\2019-02-18_DAPI_Iba_LPS_1ug_-3-0_72h_60x_scan_2_otsu_thresh.tif is a low contrast image\n",
      "  io.imsave(save_img_paths[i], img_set[i])\n",
      "C:\\Users\\owen4\\AppData\\Local\\Temp\\ipykernel_10704\\1707061752.py:4: UserWarning: C:\\Files\\github-projects\\nance-lab-data\\microfiber\\0-raw-rat-lps-ostu\\2019-02-18_DAPI_Iba_LPS_1ug_0-24_24h_60x_scan_1_otsu_thresh.tif is a low contrast image\n",
      "  io.imsave(save_img_paths[i], img_set[i])\n",
      "C:\\Users\\owen4\\AppData\\Local\\Temp\\ipykernel_10704\\1707061752.py:4: UserWarning: C:\\Files\\github-projects\\nance-lab-data\\microfiber\\0-raw-rat-lps-ostu\\2019-02-18_DAPI_Iba_LPS_1ug_0-24_24h_60x_scan_2_otsu_thresh.tif is a low contrast image\n",
      "  io.imsave(save_img_paths[i], img_set[i])\n",
      "C:\\Users\\owen4\\AppData\\Local\\Temp\\ipykernel_10704\\1707061752.py:4: UserWarning: C:\\Files\\github-projects\\nance-lab-data\\microfiber\\0-raw-rat-lps-ostu\\2019-02-18_DAPI_Iba_LPS_1ug_0-24_24h_60x_scan_3_otsu_thresh.tif is a low contrast image\n",
      "  io.imsave(save_img_paths[i], img_set[i])\n",
      "C:\\Users\\owen4\\AppData\\Local\\Temp\\ipykernel_10704\\1707061752.py:4: UserWarning: C:\\Files\\github-projects\\nance-lab-data\\microfiber\\0-raw-rat-lps-ostu\\2019-02-18_DAPI_Iba_LPS_1ug_0-72_72h_60x_scan_1_otsu_thresh.tif is a low contrast image\n",
      "  io.imsave(save_img_paths[i], img_set[i])\n",
      "C:\\Users\\owen4\\AppData\\Local\\Temp\\ipykernel_10704\\1707061752.py:4: UserWarning: C:\\Files\\github-projects\\nance-lab-data\\microfiber\\0-raw-rat-lps-ostu\\2019-02-18_DAPI_Iba_LPS_1ug_0-72_72h_60x_scan_2_otsu_thresh.tif is a low contrast image\n",
      "  io.imsave(save_img_paths[i], img_set[i])\n",
      "C:\\Users\\owen4\\AppData\\Local\\Temp\\ipykernel_10704\\1707061752.py:4: UserWarning: C:\\Files\\github-projects\\nance-lab-data\\microfiber\\0-raw-rat-lps-ostu\\2019-02-18_DAPI_Iba_NT_24h_60x_scan_1_otsu_thresh.tif is a low contrast image\n",
      "  io.imsave(save_img_paths[i], img_set[i])\n",
      "C:\\Users\\owen4\\AppData\\Local\\Temp\\ipykernel_10704\\1707061752.py:4: UserWarning: C:\\Files\\github-projects\\nance-lab-data\\microfiber\\0-raw-rat-lps-ostu\\2019-02-18_DAPI_Iba_NT_24h_60x_scan_2_otsu_thresh.tif is a low contrast image\n",
      "  io.imsave(save_img_paths[i], img_set[i])\n",
      "C:\\Users\\owen4\\AppData\\Local\\Temp\\ipykernel_10704\\1707061752.py:4: UserWarning: C:\\Files\\github-projects\\nance-lab-data\\microfiber\\0-raw-rat-lps-ostu\\2019-02-18_DAPI_Iba_NT_72h_60x_scan_1_otsu_thresh.tif is a low contrast image\n",
      "  io.imsave(save_img_paths[i], img_set[i])\n",
      "C:\\Users\\owen4\\AppData\\Local\\Temp\\ipykernel_10704\\1707061752.py:4: UserWarning: C:\\Files\\github-projects\\nance-lab-data\\microfiber\\0-raw-rat-lps-ostu\\2019-02-18_DAPI_Iba_NT_72h_60x_scan_2_otsu_thresh.tif is a low contrast image\n",
      "  io.imsave(save_img_paths[i], img_set[i])\n",
      "C:\\Users\\owen4\\AppData\\Local\\Temp\\ipykernel_10704\\1707061752.py:4: UserWarning: C:\\Files\\github-projects\\nance-lab-data\\microfiber\\0-raw-rat-lps-ostu\\2019-02-18_DAPI_Iba_NT_72h_60x_scan_3_otsu_thresh.tif is a low contrast image\n",
      "  io.imsave(save_img_paths[i], img_set[i])\n",
      "C:\\Users\\owen4\\AppData\\Local\\Temp\\ipykernel_10704\\1707061752.py:4: UserWarning: C:\\Files\\github-projects\\nance-lab-data\\microfiber\\0-raw-rat-lps-ostu\\2019-02-25_LPS_10ug_24h_60x_scan_1_otsu_thresh.tif is a low contrast image\n",
      "  io.imsave(save_img_paths[i], img_set[i])\n",
      "C:\\Users\\owen4\\AppData\\Local\\Temp\\ipykernel_10704\\1707061752.py:4: UserWarning: C:\\Files\\github-projects\\nance-lab-data\\microfiber\\0-raw-rat-lps-ostu\\2019-02-25_LPS_10ug_24h_60x_scan_2_otsu_thresh.tif is a low contrast image\n",
      "  io.imsave(save_img_paths[i], img_set[i])\n",
      "C:\\Users\\owen4\\AppData\\Local\\Temp\\ipykernel_10704\\1707061752.py:4: UserWarning: C:\\Files\\github-projects\\nance-lab-data\\microfiber\\0-raw-rat-lps-ostu\\2019-02-25_LPS_1ug_serum_24h_60x_scan_1_otsu_thresh.tif is a low contrast image\n",
      "  io.imsave(save_img_paths[i], img_set[i])\n",
      "C:\\Users\\owen4\\AppData\\Local\\Temp\\ipykernel_10704\\1707061752.py:4: UserWarning: C:\\Files\\github-projects\\nance-lab-data\\microfiber\\0-raw-rat-lps-ostu\\2019-02-25_LPS_1ug_serum_24h_60x_scan_2_otsu_thresh.tif is a low contrast image\n",
      "  io.imsave(save_img_paths[i], img_set[i])\n",
      "C:\\Users\\owen4\\AppData\\Local\\Temp\\ipykernel_10704\\1707061752.py:4: UserWarning: C:\\Files\\github-projects\\nance-lab-data\\microfiber\\0-raw-rat-lps-ostu\\2019-02-25_LPS_1ug_serum_24h_60x_scan_3_otsu_thresh.tif is a low contrast image\n",
      "  io.imsave(save_img_paths[i], img_set[i])\n",
      "C:\\Users\\owen4\\AppData\\Local\\Temp\\ipykernel_10704\\1707061752.py:4: UserWarning: C:\\Files\\github-projects\\nance-lab-data\\microfiber\\0-raw-rat-lps-ostu\\2019-02-25_LPS_1ug_serum_24h_60x_scan_4_otsu_thresh.tif is a low contrast image\n",
      "  io.imsave(save_img_paths[i], img_set[i])\n",
      "C:\\Users\\owen4\\AppData\\Local\\Temp\\ipykernel_10704\\1707061752.py:4: UserWarning: C:\\Files\\github-projects\\nance-lab-data\\microfiber\\0-raw-rat-lps-ostu\\2019-02-25_LPS_1ug_serum_24h_60x_scan_5_otsu_thresh.tif is a low contrast image\n",
      "  io.imsave(save_img_paths[i], img_set[i])\n",
      "C:\\Users\\owen4\\AppData\\Local\\Temp\\ipykernel_10704\\1707061752.py:4: UserWarning: C:\\Files\\github-projects\\nance-lab-data\\microfiber\\0-raw-rat-lps-ostu\\2019-02-25_NT_24h_60x_scan_1_otsu_thresh.tif is a low contrast image\n",
      "  io.imsave(save_img_paths[i], img_set[i])\n",
      "C:\\Users\\owen4\\AppData\\Local\\Temp\\ipykernel_10704\\1707061752.py:4: UserWarning: C:\\Files\\github-projects\\nance-lab-data\\microfiber\\0-raw-rat-lps-ostu\\2019-02-25_NT_24h_60x_scan_2_otsu_thresh.tif is a low contrast image\n",
      "  io.imsave(save_img_paths[i], img_set[i])\n",
      "C:\\Users\\owen4\\AppData\\Local\\Temp\\ipykernel_10704\\1707061752.py:4: UserWarning: C:\\Files\\github-projects\\nance-lab-data\\microfiber\\0-raw-rat-lps-ostu\\2019-02-25_NT_24h_60x_scan_3_otsu_thresh.tif is a low contrast image\n",
      "  io.imsave(save_img_paths[i], img_set[i])\n",
      "C:\\Users\\owen4\\AppData\\Local\\Temp\\ipykernel_10704\\1707061752.py:4: UserWarning: C:\\Files\\github-projects\\nance-lab-data\\microfiber\\0-raw-rat-lps-ostu\\2019-02-25_NT_24h_60x_scan_4_otsu_thresh.tif is a low contrast image\n",
      "  io.imsave(save_img_paths[i], img_set[i])\n",
      "C:\\Users\\owen4\\AppData\\Local\\Temp\\ipykernel_10704\\1707061752.py:4: UserWarning: C:\\Files\\github-projects\\nance-lab-data\\microfiber\\0-raw-rat-lps-ostu\\2019-02-25_NT_24h_60x_scan_5_otsu_thresh.tif is a low contrast image\n",
      "  io.imsave(save_img_paths[i], img_set[i])\n",
      "C:\\Users\\owen4\\AppData\\Local\\Temp\\ipykernel_10704\\1707061752.py:4: UserWarning: C:\\Files\\github-projects\\nance-lab-data\\microfiber\\0-raw-rat-lps-ostu\\2019-02-25_NT_serum_24h_60x_scan_1_otsu_thresh.tif is a low contrast image\n",
      "  io.imsave(save_img_paths[i], img_set[i])\n",
      "C:\\Users\\owen4\\AppData\\Local\\Temp\\ipykernel_10704\\1707061752.py:4: UserWarning: C:\\Files\\github-projects\\nance-lab-data\\microfiber\\0-raw-rat-lps-ostu\\2019-02-25_NT_serum_24h_60x_scan_2_otsu_thresh.tif is a low contrast image\n",
      "  io.imsave(save_img_paths[i], img_set[i])\n",
      "C:\\Users\\owen4\\AppData\\Local\\Temp\\ipykernel_10704\\1707061752.py:4: UserWarning: C:\\Files\\github-projects\\nance-lab-data\\microfiber\\0-raw-rat-lps-ostu\\2019-02-25_NT_serum_24h_60x_scan_3_otsu_thresh.tif is a low contrast image\n",
      "  io.imsave(save_img_paths[i], img_set[i])\n"
     ]
    }
   ],
   "source": [
    "save_imgs(imgs, img_paths)"
   ]
  },
  {
   "cell_type": "markdown",
   "id": "799615f8-3abf-4bd1-878d-c2a73d868560",
   "metadata": {},
   "source": [
    "Below are not runned for rat LPS model"
   ]
  },
  {
   "cell_type": "code",
   "execution_count": null,
   "id": "ab9cf0e0",
   "metadata": {},
   "outputs": [],
   "source": [
    "import pandas as pd\n",
    "import numpy as np\n",
    "region = 'thalamus'\n",
    "filter_info = pd.DataFrame(np.array([['tif'], ['otsu'], [region]]).T,\n",
    "                   columns=['extension', 'threshold', 'region'])\n",
    "\n",
    "import vampire as vp\n",
    "vp.model.build_and_apply_model(r'C:\\Files\\github-projects\\nance-lab-data\\microfiber\\ogd_severity_segmentations',\n",
    "                      r'C:\\Files\\github-projects\\nance-lab-data\\microfiber\\vampire-data',\n",
    "                      f'otsu_contour_split_{region}',\n",
    "                      f'otsu_contour_split_{region}',\n",
    "                      50, 5, filter_info,\n",
    "                      random_state=1)"
   ]
  },
  {
   "cell_type": "markdown",
   "id": "d5a61f75",
   "metadata": {},
   "source": [
    "## Contour test train split"
   ]
  },
  {
   "cell_type": "code",
   "execution_count": 5,
   "id": "fe21161d",
   "metadata": {
    "ExecuteTime": {
     "end_time": "2022-02-09T18:05:59.141411Z",
     "start_time": "2022-02-09T18:05:59.136385Z"
    }
   },
   "outputs": [],
   "source": [
    "def extract_contours(img_set):\n",
    "    img_i = 1\n",
    "    contours_from_folder = []\n",
    "    for img in img_set:\n",
    "        # read image and get contours and properties\n",
    "        object_labels = np.unique(img)[1:]\n",
    "        contours_from_img = vp.extraction.get_contours_from_image(img, object_labels)\n",
    "        contours_from_folder.extend(contours_from_img)\n",
    "        img_i += 1\n",
    "    return contours_from_folder"
   ]
  },
  {
   "cell_type": "code",
   "execution_count": 6,
   "id": "4e1378d5",
   "metadata": {
    "ExecuteTime": {
     "end_time": "2022-02-09T18:07:56.503564Z",
     "start_time": "2022-02-09T18:05:59.142370Z"
    }
   },
   "outputs": [],
   "source": [
    "otsu_contours = extract_contours(otsu_imgs)\n",
    "yen_contours = extract_contours(yen_imgs)"
   ]
  },
  {
   "cell_type": "code",
   "execution_count": 7,
   "id": "5c3a6f84",
   "metadata": {
    "ExecuteTime": {
     "end_time": "2022-02-09T18:07:56.510640Z",
     "start_time": "2022-02-09T18:07:56.505553Z"
    }
   },
   "outputs": [],
   "source": [
    "def extract_properties(img_set, filepaths):\n",
    "    properties_from_folder = []\n",
    "    for i in range(len(img_set)):\n",
    "        # read image and get contours and properties\n",
    "        object_labels = np.unique(img_set[i])[1:]\n",
    "        properties_from_img = vp.extraction.get_properties_from_image(img_set[i], filepaths[i], i, object_labels)\n",
    "        properties_from_folder.append(properties_from_img)\n",
    "    properties_from_folder_df = pd.concat(properties_from_folder)\n",
    "    return properties_from_folder_df"
   ]
  },
  {
   "cell_type": "code",
   "execution_count": 8,
   "id": "68c91c53",
   "metadata": {
    "ExecuteTime": {
     "end_time": "2022-02-09T18:08:21.699437Z",
     "start_time": "2022-02-09T18:07:56.512534Z"
    }
   },
   "outputs": [],
   "source": [
    "otsu_properties = extract_properties(otsu_imgs, otsu_filepaths)\n",
    "yen_properties = extract_properties(yen_imgs, yen_filepaths)"
   ]
  },
  {
   "cell_type": "markdown",
   "id": "f71aebdf",
   "metadata": {},
   "source": [
    "### Otsu"
   ]
  },
  {
   "cell_type": "code",
   "execution_count": 9,
   "id": "53268f04",
   "metadata": {
    "ExecuteTime": {
     "end_time": "2022-02-09T18:08:21.751301Z",
     "start_time": "2022-02-09T18:08:21.728363Z"
    }
   },
   "outputs": [],
   "source": [
    "from sklearn.model_selection import train_test_split\n",
    "otsu_contours_train, otsu_contours_test, otsu_properties_train, otsu_properties_test = train_test_split(otsu_contours, otsu_properties, random_state=1)"
   ]
  },
  {
   "cell_type": "code",
   "execution_count": null,
   "id": "2ffdee65",
   "metadata": {},
   "outputs": [],
   "source": [
    "otsu_model = vp.model.build_model_from_contours(otsu_contours_train, 'Otsu OGD', 50, 5, random_state=1)\n",
    "otsu_contours_df, otsu_min_distance = vp.model.apply_model_from_contours(otsu_contours_test, otsu_model)"
   ]
  },
  {
   "cell_type": "code",
   "execution_count": null,
   "id": "0eb4ce4d",
   "metadata": {},
   "outputs": [],
   "source": [
    "def write_clusters_info(properties_df, contours_df, distance):\n",
    "    properties_df['cluster_id'] = contours_df['cluster_id']\n",
    "    properties_df['distance_to_centroid'] = distance\n",
    "    return properties_df"
   ]
  },
  {
   "cell_type": "code",
   "execution_count": null,
   "id": "11d40c45",
   "metadata": {},
   "outputs": [],
   "source": [
    "write_clusters_info(otsu_properties_test, otsu_contours_df, otsu_min_distance)"
   ]
  },
  {
   "cell_type": "code",
   "execution_count": null,
   "id": "1f0140ca",
   "metadata": {},
   "outputs": [],
   "source": [
    "output_path = r'C:\\Files\\github-projects\\nance-lab-data\\microfiber\\figure'\n",
    "vp.plot.set_plot_style()\n",
    "vp.plot.plot_distribution_contour_dendrogram(otsu_model['build_contours_df'], None, output_path, otsu_model['model_name'])\n",
    "vp.plot.plot_distribution_contour_dendrogram(otsu_model['build_contours_df'], otsu_contours_df, output_path,\n",
    "                                                  otsu_model['model_name'], otsu_model['model_name'])"
   ]
  },
  {
   "cell_type": "markdown",
   "id": "c0f19699",
   "metadata": {
    "ExecuteTime": {
     "end_time": "2022-02-09T06:01:27.764703Z",
     "start_time": "2022-02-09T06:01:27.749745Z"
    }
   },
   "source": [
    "### Yen"
   ]
  },
  {
   "cell_type": "code",
   "execution_count": null,
   "id": "a0d67323",
   "metadata": {},
   "outputs": [],
   "source": [
    "from sklearn.model_selection import train_test_split\n",
    "yen_contours_train, yen_contours_test = train_test_split(yen_contours, random_state=1)"
   ]
  },
  {
   "cell_type": "code",
   "execution_count": null,
   "id": "e879ef3d",
   "metadata": {},
   "outputs": [],
   "source": [
    "yen_model = vp.model.build_model_from_contours(yen_contours_train, 'Yen OGD', 50, 5, random_state=1)\n",
    "yen_contours_df, yen_min_distance = vp.model.apply_model_from_contours(yen_contours_test, yen_model)"
   ]
  },
  {
   "cell_type": "code",
   "execution_count": null,
   "id": "d4608aaa",
   "metadata": {},
   "outputs": [],
   "source": [
    "output_path = r'C:\\Files\\github-projects\\nance-lab-data\\microfiber\\figure'\n",
    "vp.plot.set_plot_style()\n",
    "vp.plot.plot_distribution_contour_dendrogram(yen_model['build_contours_df'], None, output_path, yen_model['model_name'])\n",
    "vp.plot.plot_distribution_contour_dendrogram(yen_model['build_contours_df'], yen_contours_df, output_path,\n",
    "                                                  yen_model['model_name'], yen_model['model_name'])"
   ]
  },
  {
   "cell_type": "markdown",
   "id": "76f3e448",
   "metadata": {},
   "source": [
    "## Original image split"
   ]
  },
  {
   "cell_type": "code",
   "execution_count": 13,
   "id": "0e68a41f",
   "metadata": {
    "ExecuteTime": {
     "end_time": "2022-02-09T06:02:46.636769Z",
     "start_time": "2022-02-09T06:02:46.583899Z"
    }
   },
   "outputs": [],
   "source": [
    "from sklearn.model_selection import train_test_split\n",
    "otsu_imgs_train, otsu_imgs_test = train_test_split(otsu_imgs, random_state=1)\n",
    "yen_imgs_train, yen_imgs_test = train_test_split(yen_imgs, random_state=1)"
   ]
  },
  {
   "cell_type": "code",
   "execution_count": 14,
   "id": "ff4a152f",
   "metadata": {
    "ExecuteTime": {
     "end_time": "2022-02-09T06:02:47.542358Z",
     "start_time": "2022-02-09T06:02:47.534409Z"
    }
   },
   "outputs": [],
   "source": [
    "def extract_contours(img_set):\n",
    "    img_i = 1\n",
    "    contours_from_folder = []\n",
    "    for img in img_set:\n",
    "        # read image and get contours and properties\n",
    "        object_labels = np.unique(img)[1:]\n",
    "        contours_from_img = vp.extraction.get_contours_from_image(img, object_labels)\n",
    "        contours_from_folder.extend(contours_from_img)\n",
    "        img_i += 1\n",
    "    return contours_from_folder"
   ]
  },
  {
   "cell_type": "markdown",
   "id": "d26a5e04",
   "metadata": {},
   "source": [
    "### Otsu"
   ]
  },
  {
   "cell_type": "code",
   "execution_count": null,
   "id": "4a0319a9",
   "metadata": {
    "ExecuteTime": {
     "end_time": "2022-02-09T06:04:10.383075Z",
     "start_time": "2022-02-09T06:03:23.865028Z"
    }
   },
   "outputs": [],
   "source": [
    "otsu_contours_train = extract_contours(otsu_imgs_train)\n",
    "otsu_contours_test = extract_contours(otsu_imgs_test)"
   ]
  },
  {
   "cell_type": "code",
   "execution_count": null,
   "id": "234c6716",
   "metadata": {},
   "outputs": [],
   "source": [
    "otsu_model = vp.model.build_model_from_contours(otsu_contours_train, 'Otsu OGD', 50, 5, random_state=1)\n",
    "otsu_contours_df, otsu_min_distance = vp.model.apply_model_from_contours(otsu_contours_test, otsu_model)"
   ]
  },
  {
   "cell_type": "code",
   "execution_count": null,
   "id": "a3d4e9ea",
   "metadata": {},
   "outputs": [],
   "source": [
    "output_path = r'C:\\Files\\github-projects\\nance-lab-data\\microfiber\\figure'\n",
    "vp.plot.set_plot_style()\n",
    "vp.plot.plot_distribution_contour_dendrogram(otsu_model['build_contours_df'], None, output_path, otsu_model['model_name'])\n",
    "vp.plot.plot_distribution_contour_dendrogram(otsu_model['build_contours_df'], otsu_contours_df, output_path,\n",
    "                                                  otsu_model['model_name'], otsu_model['model_name'])"
   ]
  },
  {
   "cell_type": "markdown",
   "id": "cd866f66",
   "metadata": {},
   "source": [
    "### Yen"
   ]
  },
  {
   "cell_type": "code",
   "execution_count": 17,
   "id": "701cc375",
   "metadata": {
    "ExecuteTime": {
     "end_time": "2022-02-09T06:09:02.671952Z",
     "start_time": "2022-02-09T06:09:02.449863Z"
    }
   },
   "outputs": [
    {
     "ename": "NameError",
     "evalue": "name 'yen_imgs_train' is not defined",
     "output_type": "error",
     "traceback": [
      "\u001b[1;31m---------------------------------------------------------------------------\u001b[0m",
      "\u001b[1;31mNameError\u001b[0m                                 Traceback (most recent call last)",
      "\u001b[1;32m<ipython-input-17-f3efea0da1bd>\u001b[0m in \u001b[0;36m<module>\u001b[1;34m\u001b[0m\n\u001b[1;32m----> 1\u001b[1;33m \u001b[0myen_contours_train\u001b[0m \u001b[1;33m=\u001b[0m \u001b[0mextract_contours\u001b[0m\u001b[1;33m(\u001b[0m\u001b[0myen_imgs_train\u001b[0m\u001b[1;33m)\u001b[0m\u001b[1;33m\u001b[0m\u001b[1;33m\u001b[0m\u001b[0m\n\u001b[0m\u001b[0;32m      2\u001b[0m \u001b[0myen_contours_test\u001b[0m \u001b[1;33m=\u001b[0m \u001b[0mextract_contours\u001b[0m\u001b[1;33m(\u001b[0m\u001b[0myen_imgs_test\u001b[0m\u001b[1;33m)\u001b[0m\u001b[1;33m\u001b[0m\u001b[1;33m\u001b[0m\u001b[0m\n",
      "\u001b[1;31mNameError\u001b[0m: name 'yen_imgs_train' is not defined"
     ]
    }
   ],
   "source": [
    "yen_contours_train = extract_contours(yen_imgs_train)\n",
    "yen_contours_test = extract_contours(yen_imgs_test)"
   ]
  },
  {
   "cell_type": "code",
   "execution_count": null,
   "id": "6f4c99b3",
   "metadata": {},
   "outputs": [],
   "source": [
    "yen_model = vp.model.build_model_from_contours(yen_contours_train, 'Yen OGD', 50, 5, random_state=1)\n",
    "yen_contours_df, yen_min_distance = vp.model.apply_model_from_contours(yen_contours_test, yen_model)"
   ]
  },
  {
   "cell_type": "code",
   "execution_count": null,
   "id": "4464c769",
   "metadata": {},
   "outputs": [],
   "source": [
    "output_path = r'C:\\Files\\github-projects\\nance-lab-data\\microfiber\\figure'\n",
    "vp.plot.set_plot_style()\n",
    "vp.plot.plot_distribution_contour_dendrogram(yen_model['build_contours_df'], None, output_path, yen_model['model_name'])\n",
    "vp.plot.plot_distribution_contour_dendrogram(yen_model['build_contours_df'], yen_contours_df, output_path,\n",
    "                                                  yen_model['model_name'], yen_model['model_name'])"
   ]
  }
 ],
 "metadata": {
  "kernelspec": {
   "display_name": "Python 3 (ipykernel)",
   "language": "python",
   "name": "python3"
  },
  "language_info": {
   "codemirror_mode": {
    "name": "ipython",
    "version": 3
   },
   "file_extension": ".py",
   "mimetype": "text/x-python",
   "name": "python",
   "nbconvert_exporter": "python",
   "pygments_lexer": "ipython3",
   "version": "3.8.8"
  },
  "toc": {
   "base_numbering": 1,
   "nav_menu": {},
   "number_sections": true,
   "sideBar": true,
   "skip_h1_title": false,
   "title_cell": "Table of Contents",
   "title_sidebar": "Contents",
   "toc_cell": false,
   "toc_position": {},
   "toc_section_display": true,
   "toc_window_display": false
  }
 },
 "nbformat": 4,
 "nbformat_minor": 5
}
