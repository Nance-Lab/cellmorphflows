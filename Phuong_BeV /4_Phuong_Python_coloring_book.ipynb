{
 "cells": [
  {
   "cell_type": "markdown",
   "metadata": {},
   "source": [
    "# Purpose: Coloring Segmented Images According to Shape Mode"
   ]
  },
  {
   "cell_type": "markdown",
   "metadata": {},
   "source": [
    "Date Created: 1-26-2021"
   ]
  },
  {
   "cell_type": "markdown",
   "metadata": {},
   "source": [
    "Date Updated: 11-15-2021: Updated to change from the ferret paper to the Microglia/BeV paper"
   ]
  },
  {
   "cell_type": "markdown",
   "metadata": {},
   "source": [
    "Author: Hawley Helmbrecht"
   ]
  },
  {
   "cell_type": "markdown",
   "metadata": {},
   "source": [
    "**Colors:** \n",
    "\n",
    "shape mode 1: Blue\n",
    "\n",
    "shape mode 2: Orange\n",
    "\n",
    "shape mode 3: Green\n",
    "\n",
    "shape mode 4: Red\n",
    "\n",
    "shape mode 5: Purple"
   ]
  },
  {
   "cell_type": "markdown",
   "metadata": {},
   "source": [
    "*Step 1: Import Necessary Packages*"
   ]
  },
  {
   "cell_type": "code",
   "execution_count": 25,
   "metadata": {},
   "outputs": [],
   "source": [
    "import numpy as np\n",
    "import matplotlib.image as mpimg \n",
    "import matplotlib.pyplot as plt\n",
    "import pandas as pd\n",
    "import cv2\n",
    "from PIL import Image\n",
    "import os"
   ]
  },
  {
   "cell_type": "code",
   "execution_count": null,
   "metadata": {},
   "outputs": [],
   "source": []
  },
  {
   "cell_type": "markdown",
   "metadata": {},
   "source": [
    "*Step 2: User input variables*"
   ]
  },
  {
   "cell_type": "code",
   "execution_count": 4,
   "metadata": {},
   "outputs": [],
   "source": [
    "im_file_path = '/Users/hhelmbre/Desktop/Phuong_Bev/vampire/images/test/4_hr_exposure_0_hr_application_pngs/bev_treatment/EV_MICROGLIA_STUDY_4HR_EXPOSURE_1-2-1-1_li_thresh_quad2xy47c1.png'\n",
    "csv_file_path = '/Users/hhelmbre/Desktop/Phuong_Bev/visualization/shape_mode_vs_feature_all.csv'"
   ]
  },
  {
   "cell_type": "code",
   "execution_count": null,
   "metadata": {},
   "outputs": [],
   "source": []
  },
  {
   "cell_type": "markdown",
   "metadata": {},
   "source": [
    "*Step 3: Reading in the Image and CSV with Labels*"
   ]
  },
  {
   "cell_type": "code",
   "execution_count": 5,
   "metadata": {},
   "outputs": [],
   "source": [
    "img = mpimg.imread(im_file_path)\n",
    "csv_df = pd.read_csv(csv_file_path)"
   ]
  },
  {
   "cell_type": "code",
   "execution_count": 6,
   "metadata": {},
   "outputs": [
    {
     "data": {
      "text/html": [
       "<div>\n",
       "<style scoped>\n",
       "    .dataframe tbody tr th:only-of-type {\n",
       "        vertical-align: middle;\n",
       "    }\n",
       "\n",
       "    .dataframe tbody tr th {\n",
       "        vertical-align: top;\n",
       "    }\n",
       "\n",
       "    .dataframe thead th {\n",
       "        text-align: right;\n",
       "    }\n",
       "</style>\n",
       "<table border=\"1\" class=\"dataframe\">\n",
       "  <thead>\n",
       "    <tr style=\"text-align: right;\">\n",
       "      <th></th>\n",
       "      <th>Filename</th>\n",
       "      <th>ImageID</th>\n",
       "      <th>ObjectID</th>\n",
       "      <th>X</th>\n",
       "      <th>Y</th>\n",
       "      <th>Area</th>\n",
       "      <th>Perimeter</th>\n",
       "      <th>Major Axis</th>\n",
       "      <th>Minor Axis</th>\n",
       "      <th>Circularity</th>\n",
       "      <th>Aspect Ratio</th>\n",
       "      <th>Shape mode</th>\n",
       "      <th>Distance from cluster center</th>\n",
       "    </tr>\n",
       "  </thead>\n",
       "  <tbody>\n",
       "    <tr>\n",
       "      <td>0</td>\n",
       "      <td>EV_MICROGLIA_STUDY_HEALTHY_CONTROL_1-1-1-3_li_...</td>\n",
       "      <td>1</td>\n",
       "      <td>1</td>\n",
       "      <td>60</td>\n",
       "      <td>20</td>\n",
       "      <td>557</td>\n",
       "      <td>155.024387</td>\n",
       "      <td>40.190071</td>\n",
       "      <td>24.569755</td>\n",
       "      <td>0.291249</td>\n",
       "      <td>1.635754</td>\n",
       "      <td>1</td>\n",
       "      <td>4.41</td>\n",
       "    </tr>\n",
       "    <tr>\n",
       "      <td>1</td>\n",
       "      <td>EV_MICROGLIA_STUDY_HEALTHY_CONTROL_1-1-1-3_li_...</td>\n",
       "      <td>1</td>\n",
       "      <td>4</td>\n",
       "      <td>82</td>\n",
       "      <td>86</td>\n",
       "      <td>344</td>\n",
       "      <td>101.982756</td>\n",
       "      <td>30.974198</td>\n",
       "      <td>16.624502</td>\n",
       "      <td>0.415638</td>\n",
       "      <td>1.863165</td>\n",
       "      <td>1</td>\n",
       "      <td>3.84</td>\n",
       "    </tr>\n",
       "    <tr>\n",
       "      <td>2</td>\n",
       "      <td>EV_MICROGLIA_STUDY_HEALTHY_CONTROL_1-1-1-4_li_...</td>\n",
       "      <td>2</td>\n",
       "      <td>3</td>\n",
       "      <td>147</td>\n",
       "      <td>109</td>\n",
       "      <td>2008</td>\n",
       "      <td>321.190909</td>\n",
       "      <td>64.388905</td>\n",
       "      <td>48.168365</td>\n",
       "      <td>0.244595</td>\n",
       "      <td>1.336747</td>\n",
       "      <td>1</td>\n",
       "      <td>6.38</td>\n",
       "    </tr>\n",
       "    <tr>\n",
       "      <td>3</td>\n",
       "      <td>EV_MICROGLIA_STUDY_HEALTHY_CONTROL_1-1-1-4_li_...</td>\n",
       "      <td>3</td>\n",
       "      <td>11</td>\n",
       "      <td>196</td>\n",
       "      <td>166</td>\n",
       "      <td>226</td>\n",
       "      <td>122.018290</td>\n",
       "      <td>25.716999</td>\n",
       "      <td>20.054540</td>\n",
       "      <td>0.190752</td>\n",
       "      <td>1.282353</td>\n",
       "      <td>1</td>\n",
       "      <td>8.62</td>\n",
       "    </tr>\n",
       "    <tr>\n",
       "      <td>4</td>\n",
       "      <td>EV_MICROGLIA_STUDY_HEALTHY_CONTROL_1-1-1-5_li_...</td>\n",
       "      <td>4</td>\n",
       "      <td>6</td>\n",
       "      <td>36</td>\n",
       "      <td>109</td>\n",
       "      <td>499</td>\n",
       "      <td>165.095454</td>\n",
       "      <td>35.132996</td>\n",
       "      <td>23.984245</td>\n",
       "      <td>0.230060</td>\n",
       "      <td>1.464836</td>\n",
       "      <td>1</td>\n",
       "      <td>4.87</td>\n",
       "    </tr>\n",
       "    <tr>\n",
       "      <td>...</td>\n",
       "      <td>...</td>\n",
       "      <td>...</td>\n",
       "      <td>...</td>\n",
       "      <td>...</td>\n",
       "      <td>...</td>\n",
       "      <td>...</td>\n",
       "      <td>...</td>\n",
       "      <td>...</td>\n",
       "      <td>...</td>\n",
       "      <td>...</td>\n",
       "      <td>...</td>\n",
       "      <td>...</td>\n",
       "      <td>...</td>\n",
       "    </tr>\n",
       "    <tr>\n",
       "      <td>2194</td>\n",
       "      <td>EV_MICROGLIA_STUDY_OGD_CONTROL_1-2-2-4_li_thre...</td>\n",
       "      <td>9</td>\n",
       "      <td>2</td>\n",
       "      <td>154</td>\n",
       "      <td>184</td>\n",
       "      <td>1052</td>\n",
       "      <td>295.220346</td>\n",
       "      <td>63.403063</td>\n",
       "      <td>29.525866</td>\n",
       "      <td>0.151682</td>\n",
       "      <td>2.147374</td>\n",
       "      <td>5</td>\n",
       "      <td>3.48</td>\n",
       "    </tr>\n",
       "    <tr>\n",
       "      <td>2195</td>\n",
       "      <td>EV_MICROGLIA_STUDY_OGD_CONTROL_1-2-3-2_li_thre...</td>\n",
       "      <td>11</td>\n",
       "      <td>9</td>\n",
       "      <td>128</td>\n",
       "      <td>136</td>\n",
       "      <td>98</td>\n",
       "      <td>46.455844</td>\n",
       "      <td>15.218403</td>\n",
       "      <td>8.953230</td>\n",
       "      <td>0.570631</td>\n",
       "      <td>1.699767</td>\n",
       "      <td>5</td>\n",
       "      <td>2.57</td>\n",
       "    </tr>\n",
       "    <tr>\n",
       "      <td>2196</td>\n",
       "      <td>EV_MICROGLIA_STUDY_OGD_CONTROL_1-2-3-5_li_thre...</td>\n",
       "      <td>13</td>\n",
       "      <td>2</td>\n",
       "      <td>145</td>\n",
       "      <td>38</td>\n",
       "      <td>385</td>\n",
       "      <td>92.083261</td>\n",
       "      <td>29.864223</td>\n",
       "      <td>17.469986</td>\n",
       "      <td>0.570570</td>\n",
       "      <td>1.709459</td>\n",
       "      <td>5</td>\n",
       "      <td>2.09</td>\n",
       "    </tr>\n",
       "    <tr>\n",
       "      <td>2197</td>\n",
       "      <td>EV_MICROGLIA_STUDY_OGD_CONTROL_1-2-3-5_li_thre...</td>\n",
       "      <td>13</td>\n",
       "      <td>7</td>\n",
       "      <td>65</td>\n",
       "      <td>93</td>\n",
       "      <td>114</td>\n",
       "      <td>60.905592</td>\n",
       "      <td>18.802809</td>\n",
       "      <td>9.970999</td>\n",
       "      <td>0.386189</td>\n",
       "      <td>1.885750</td>\n",
       "      <td>5</td>\n",
       "      <td>4.32</td>\n",
       "    </tr>\n",
       "    <tr>\n",
       "      <td>2198</td>\n",
       "      <td>EV_MICROGLIA_STUDY_OGD_CONTROL_1-2-3-6_li_thre...</td>\n",
       "      <td>14</td>\n",
       "      <td>3</td>\n",
       "      <td>58</td>\n",
       "      <td>206</td>\n",
       "      <td>126</td>\n",
       "      <td>58.526912</td>\n",
       "      <td>18.790224</td>\n",
       "      <td>10.391082</td>\n",
       "      <td>0.462242</td>\n",
       "      <td>1.808303</td>\n",
       "      <td>5</td>\n",
       "      <td>2.78</td>\n",
       "    </tr>\n",
       "  </tbody>\n",
       "</table>\n",
       "<p>2199 rows × 13 columns</p>\n",
       "</div>"
      ],
      "text/plain": [
       "                                               Filename  ImageID  ObjectID  \\\n",
       "0     EV_MICROGLIA_STUDY_HEALTHY_CONTROL_1-1-1-3_li_...        1         1   \n",
       "1     EV_MICROGLIA_STUDY_HEALTHY_CONTROL_1-1-1-3_li_...        1         4   \n",
       "2     EV_MICROGLIA_STUDY_HEALTHY_CONTROL_1-1-1-4_li_...        2         3   \n",
       "3     EV_MICROGLIA_STUDY_HEALTHY_CONTROL_1-1-1-4_li_...        3        11   \n",
       "4     EV_MICROGLIA_STUDY_HEALTHY_CONTROL_1-1-1-5_li_...        4         6   \n",
       "...                                                 ...      ...       ...   \n",
       "2194  EV_MICROGLIA_STUDY_OGD_CONTROL_1-2-2-4_li_thre...        9         2   \n",
       "2195  EV_MICROGLIA_STUDY_OGD_CONTROL_1-2-3-2_li_thre...       11         9   \n",
       "2196  EV_MICROGLIA_STUDY_OGD_CONTROL_1-2-3-5_li_thre...       13         2   \n",
       "2197  EV_MICROGLIA_STUDY_OGD_CONTROL_1-2-3-5_li_thre...       13         7   \n",
       "2198  EV_MICROGLIA_STUDY_OGD_CONTROL_1-2-3-6_li_thre...       14         3   \n",
       "\n",
       "        X    Y  Area   Perimeter  Major Axis  Minor Axis  Circularity  \\\n",
       "0      60   20   557  155.024387   40.190071   24.569755     0.291249   \n",
       "1      82   86   344  101.982756   30.974198   16.624502     0.415638   \n",
       "2     147  109  2008  321.190909   64.388905   48.168365     0.244595   \n",
       "3     196  166   226  122.018290   25.716999   20.054540     0.190752   \n",
       "4      36  109   499  165.095454   35.132996   23.984245     0.230060   \n",
       "...   ...  ...   ...         ...         ...         ...          ...   \n",
       "2194  154  184  1052  295.220346   63.403063   29.525866     0.151682   \n",
       "2195  128  136    98   46.455844   15.218403    8.953230     0.570631   \n",
       "2196  145   38   385   92.083261   29.864223   17.469986     0.570570   \n",
       "2197   65   93   114   60.905592   18.802809    9.970999     0.386189   \n",
       "2198   58  206   126   58.526912   18.790224   10.391082     0.462242   \n",
       "\n",
       "      Aspect Ratio  Shape mode  Distance from cluster center  \n",
       "0         1.635754           1                          4.41  \n",
       "1         1.863165           1                          3.84  \n",
       "2         1.336747           1                          6.38  \n",
       "3         1.282353           1                          8.62  \n",
       "4         1.464836           1                          4.87  \n",
       "...            ...         ...                           ...  \n",
       "2194      2.147374           5                          3.48  \n",
       "2195      1.699767           5                          2.57  \n",
       "2196      1.709459           5                          2.09  \n",
       "2197      1.885750           5                          4.32  \n",
       "2198      1.808303           5                          2.78  \n",
       "\n",
       "[2199 rows x 13 columns]"
      ]
     },
     "execution_count": 6,
     "metadata": {},
     "output_type": "execute_result"
    }
   ],
   "source": [
    "csv_df"
   ]
  },
  {
   "cell_type": "markdown",
   "metadata": {},
   "source": [
    "*Step 4: Getting the file name*"
   ]
  },
  {
   "cell_type": "code",
   "execution_count": 7,
   "metadata": {},
   "outputs": [
    {
     "data": {
      "text/plain": [
       "'EV_MICROGLIA_STUDY_4HR_EXPOSURE_1-2-1-1_li_thresh_quad2xy47c1.png'"
      ]
     },
     "execution_count": 7,
     "metadata": {},
     "output_type": "execute_result"
    }
   ],
   "source": [
    "im_file_name_split = im_file_path.split('/')\n",
    "length = len(im_file_name_split)\n",
    "file_name = im_file_name_split[length-1]\n",
    "file_name"
   ]
  },
  {
   "cell_type": "markdown",
   "metadata": {},
   "source": [
    "*Step 5: Creating a mask for labeling*"
   ]
  },
  {
   "cell_type": "code",
   "execution_count": 8,
   "metadata": {},
   "outputs": [],
   "source": [
    "mask_b = np.zeros(np.asarray(img.shape)+2, dtype=np.uint8)\n",
    "mask_o = np.zeros(np.asarray(img.shape)+2, dtype=np.uint8)\n",
    "mask_g = np.zeros(np.asarray(img.shape)+2, dtype=np.uint8)\n",
    "mask_r = np.zeros(np.asarray(img.shape)+2, dtype=np.uint8)\n",
    "mask_p = np.zeros(np.asarray(img.shape)+2, dtype=np.uint8)"
   ]
  },
  {
   "cell_type": "code",
   "execution_count": 15,
   "metadata": {},
   "outputs": [
    {
     "data": {
      "text/plain": [
       "(55316, array([[0., 0., 0., ..., 0., 0., 0.],\n",
       "        [0., 0., 0., ..., 0., 0., 0.],\n",
       "        [0., 0., 0., ..., 0., 0., 0.],\n",
       "        ...,\n",
       "        [0., 0., 0., ..., 0., 0., 0.],\n",
       "        [0., 0., 0., ..., 0., 0., 0.],\n",
       "        [0., 0., 0., ..., 0., 0., 0.]], dtype=float32), array([[1, 1, 1, ..., 1, 1, 1],\n",
       "        [1, 1, 1, ..., 1, 1, 1],\n",
       "        [1, 1, 1, ..., 1, 1, 1],\n",
       "        ...,\n",
       "        [1, 1, 1, ..., 1, 1, 1],\n",
       "        [1, 1, 1, ..., 1, 1, 1],\n",
       "        [1, 1, 1, ..., 1, 1, 1]], dtype=uint8), (0, 0, 256, 256))"
      ]
     },
     "execution_count": 15,
     "metadata": {},
     "output_type": "execute_result"
    }
   ],
   "source": [
    "start_pt = (14,111)\n",
    "cv2.floodFill(img, mask_o, start_pt, (0,0,255), flags=4)"
   ]
  },
  {
   "cell_type": "code",
   "execution_count": 13,
   "metadata": {},
   "outputs": [],
   "source": [
    "mask_o = mask_o[1:-1, 1:-1]"
   ]
  },
  {
   "cell_type": "code",
   "execution_count": 16,
   "metadata": {},
   "outputs": [
    {
     "data": {
      "text/plain": [
       "<matplotlib.image.AxesImage at 0x7f8ffd90d390>"
      ]
     },
     "execution_count": 16,
     "metadata": {},
     "output_type": "execute_result"
    },
    {
     "data": {
      "image/png": "[encoded data removed]",
      "text/plain": [
       "<Figure size 432x288 with 1 Axes>"
      ]
     },
     "metadata": {
      "needs_background": "light"
     },
     "output_type": "display_data"
    }
   ],
   "source": [
    "plt.imshow(mask_o, cmap='gray')"
   ]
  },
  {
   "cell_type": "markdown",
   "metadata": {},
   "source": [
    "*Step X: Automating the Process*"
   ]
  },
  {
   "cell_type": "markdown",
   "metadata": {},
   "source": [
    "*Step 1: Import need_to_label_list*"
   ]
  },
  {
   "cell_type": "code",
   "execution_count": 32,
   "metadata": {},
   "outputs": [
    {
     "data": {
      "text/html": [
       "<div>\n",
       "<style scoped>\n",
       "    .dataframe tbody tr th:only-of-type {\n",
       "        vertical-align: middle;\n",
       "    }\n",
       "\n",
       "    .dataframe tbody tr th {\n",
       "        vertical-align: top;\n",
       "    }\n",
       "\n",
       "    .dataframe thead th {\n",
       "        text-align: right;\n",
       "    }\n",
       "</style>\n",
       "<table border=\"1\" class=\"dataframe\">\n",
       "  <thead>\n",
       "    <tr style=\"text-align: right;\">\n",
       "      <th></th>\n",
       "      <th>image_file_path</th>\n",
       "      <th>Image_label_path</th>\n",
       "    </tr>\n",
       "  </thead>\n",
       "  <tbody>\n",
       "    <tr>\n",
       "      <td>0</td>\n",
       "      <td>/Users/hhelmbre/Desktop/Phuong_Bev/vampire/ima...</td>\n",
       "      <td>/Users/hhelmbre/Desktop/Phuong_Bev/visualizati...</td>\n",
       "    </tr>\n",
       "    <tr>\n",
       "      <td>1</td>\n",
       "      <td>/Users/hhelmbre/Desktop/Phuong_Bev/vampire/ima...</td>\n",
       "      <td>/Users/hhelmbre/Desktop/Phuong_Bev/visualizati...</td>\n",
       "    </tr>\n",
       "    <tr>\n",
       "      <td>2</td>\n",
       "      <td>/Users/hhelmbre/Desktop/Phuong_Bev/vampire/ima...</td>\n",
       "      <td>/Users/hhelmbre/Desktop/Phuong_Bev/visualizati...</td>\n",
       "    </tr>\n",
       "    <tr>\n",
       "      <td>3</td>\n",
       "      <td>/Users/hhelmbre/Desktop/Phuong_Bev/vampire/ima...</td>\n",
       "      <td>/Users/hhelmbre/Desktop/Phuong_Bev/visualizati...</td>\n",
       "    </tr>\n",
       "    <tr>\n",
       "      <td>4</td>\n",
       "      <td>/Users/hhelmbre/Desktop/Phuong_Bev/vampire/ima...</td>\n",
       "      <td>/Users/hhelmbre/Desktop/Phuong_Bev/visualizati...</td>\n",
       "    </tr>\n",
       "    <tr>\n",
       "      <td>5</td>\n",
       "      <td>/Users/hhelmbre/Desktop/Phuong_Bev/vampire/ima...</td>\n",
       "      <td>/Users/hhelmbre/Desktop/Phuong_Bev/visualizati...</td>\n",
       "    </tr>\n",
       "    <tr>\n",
       "      <td>6</td>\n",
       "      <td>/Users/hhelmbre/Desktop/Phuong_Bev/vampire/ima...</td>\n",
       "      <td>/Users/hhelmbre/Desktop/Phuong_Bev/visualizati...</td>\n",
       "    </tr>\n",
       "    <tr>\n",
       "      <td>7</td>\n",
       "      <td>/Users/hhelmbre/Desktop/Phuong_Bev/vampire/ima...</td>\n",
       "      <td>/Users/hhelmbre/Desktop/Phuong_Bev/visualizati...</td>\n",
       "    </tr>\n",
       "    <tr>\n",
       "      <td>8</td>\n",
       "      <td>/Users/hhelmbre/Desktop/Phuong_Bev/vampire/ima...</td>\n",
       "      <td>/Users/hhelmbre/Desktop/Phuong_Bev/visualizati...</td>\n",
       "    </tr>\n",
       "    <tr>\n",
       "      <td>9</td>\n",
       "      <td>/Users/hhelmbre/Desktop/Phuong_Bev/vampire/ima...</td>\n",
       "      <td>/Users/hhelmbre/Desktop/Phuong_Bev/visualizati...</td>\n",
       "    </tr>\n",
       "    <tr>\n",
       "      <td>10</td>\n",
       "      <td>/Users/hhelmbre/Desktop/Phuong_Bev/vampire/ima...</td>\n",
       "      <td>/Users/hhelmbre/Desktop/Phuong_Bev/visualizati...</td>\n",
       "    </tr>\n",
       "  </tbody>\n",
       "</table>\n",
       "</div>"
      ],
      "text/plain": [
       "                                      image_file_path  \\\n",
       "0   /Users/hhelmbre/Desktop/Phuong_Bev/vampire/ima...   \n",
       "1   /Users/hhelmbre/Desktop/Phuong_Bev/vampire/ima...   \n",
       "2   /Users/hhelmbre/Desktop/Phuong_Bev/vampire/ima...   \n",
       "3   /Users/hhelmbre/Desktop/Phuong_Bev/vampire/ima...   \n",
       "4   /Users/hhelmbre/Desktop/Phuong_Bev/vampire/ima...   \n",
       "5   /Users/hhelmbre/Desktop/Phuong_Bev/vampire/ima...   \n",
       "6   /Users/hhelmbre/Desktop/Phuong_Bev/vampire/ima...   \n",
       "7   /Users/hhelmbre/Desktop/Phuong_Bev/vampire/ima...   \n",
       "8   /Users/hhelmbre/Desktop/Phuong_Bev/vampire/ima...   \n",
       "9   /Users/hhelmbre/Desktop/Phuong_Bev/vampire/ima...   \n",
       "10  /Users/hhelmbre/Desktop/Phuong_Bev/vampire/ima...   \n",
       "\n",
       "                                     Image_label_path  \n",
       "0   /Users/hhelmbre/Desktop/Phuong_Bev/visualizati...  \n",
       "1   /Users/hhelmbre/Desktop/Phuong_Bev/visualizati...  \n",
       "2   /Users/hhelmbre/Desktop/Phuong_Bev/visualizati...  \n",
       "3   /Users/hhelmbre/Desktop/Phuong_Bev/visualizati...  \n",
       "4   /Users/hhelmbre/Desktop/Phuong_Bev/visualizati...  \n",
       "5   /Users/hhelmbre/Desktop/Phuong_Bev/visualizati...  \n",
       "6   /Users/hhelmbre/Desktop/Phuong_Bev/visualizati...  \n",
       "7   /Users/hhelmbre/Desktop/Phuong_Bev/visualizati...  \n",
       "8   /Users/hhelmbre/Desktop/Phuong_Bev/visualizati...  \n",
       "9   /Users/hhelmbre/Desktop/Phuong_Bev/visualizati...  \n",
       "10  /Users/hhelmbre/Desktop/Phuong_Bev/visualizati...  "
      ]
     },
     "execution_count": 32,
     "metadata": {},
     "output_type": "execute_result"
    }
   ],
   "source": [
    "need_to_label_list_file_path = '/Users/hhelmbre/Desktop/Phuong_Bev/visualization/images_to_color.csv'\n",
    "need_to_label_list = pd.read_csv(need_to_label_list_file_path)\n",
    "need_to_label_list"
   ]
  },
  {
   "cell_type": "code",
   "execution_count": 37,
   "metadata": {},
   "outputs": [],
   "source": [
    "need_to_label_list2 = []\n",
    "j = 0\n",
    "for file_paths in range(0,need_to_label_list.shape[0]):\n",
    "    arr = os.listdir(need_to_label_list['image_file_path'][j])\n",
    "    image_list = np.asarray(arr)\n",
    "    image_list = [x for x in image_list if \".png\" in x]\n",
    "    for images in image_list:\n",
    "        file_name = str(need_to_label_list['image_file_path'][j] + '/' + images)\n",
    "        need_to_label_list2.append(file_name)\n",
    "        \n",
    "    j += 1\n",
    "    "
   ]
  },
  {
   "cell_type": "markdown",
   "metadata": {},
   "source": [
    "*Add in a step here to visualize the shape mode labels with the colors I chose*"
   ]
  },
  {
   "cell_type": "code",
   "execution_count": 51,
   "metadata": {},
   "outputs": [],
   "source": [
    "def c(x):\n",
    "   col = plt.cm.twilight(x)\n",
    "   fig, ax = plt.subplots(figsize=(1,1))\n",
    "   fig.set_facecolor(col)\n",
    "   ax.axis(\"off\")\n",
    "   plt.show()"
   ]
  },
  {
   "cell_type": "code",
   "execution_count": 52,
   "metadata": {},
   "outputs": [
    {
     "name": "stdout",
     "output_type": "stream",
     "text": [
      "0.0\n"
     ]
    },
    {
     "data": {
      "image/png": "[encoded data removed]",
      "text/plain": [
       "<Figure size 72x72 with 1 Axes>"
      ]
     },
     "metadata": {},
     "output_type": "display_data"
    },
    {
     "name": "stdout",
     "output_type": "stream",
     "text": [
      "0.05263157894736842\n"
     ]
    },
    {
     "data": {
      "image/png": "[encoded data removed]",
      "text/plain": [
       "<Figure size 72x72 with 1 Axes>"
      ]
     },
     "metadata": {},
     "output_type": "display_data"
    },
    {
     "name": "stdout",
     "output_type": "stream",
     "text": [
      "0.10526315789473684\n"
     ]
    },
    {
     "data": {
      "image/png": "[encoded data removed]",
      "text/plain": [
       "<Figure size 72x72 with 1 Axes>"
      ]
     },
     "metadata": {},
     "output_type": "display_data"
    },
    {
     "name": "stdout",
     "output_type": "stream",
     "text": [
      "0.15789473684210525\n"
     ]
    },
    {
     "data": {
      "image/png": "[encoded data removed]",
      "text/plain": [
       "<Figure size 72x72 with 1 Axes>"
      ]
     },
     "metadata": {},
     "output_type": "display_data"
    },
    {
     "name": "stdout",
     "output_type": "stream",
     "text": [
      "0.21052631578947367\n"
     ]
    },
    {
     "data": {
      "image/png": "[encoded data removed]",
      "text/plain": [
       "<Figure size 72x72 with 1 Axes>"
      ]
     },
     "metadata": {},
     "output_type": "display_data"
    },
    {
     "name": "stdout",
     "output_type": "stream",
     "text": [
      "0.2631578947368421\n"
     ]
    },
    {
     "data": {
      "image/png": "[encoded data removed]",
      "text/plain": [
       "<Figure size 72x72 with 1 Axes>"
      ]
     },
     "metadata": {},
     "output_type": "display_data"
    },
    {
     "name": "stdout",
     "output_type": "stream",
     "text": [
      "0.3157894736842105\n"
     ]
    },
    {
     "data": {
      "image/png": "[encoded data removed]",
      "text/plain": [
       "<Figure size 72x72 with 1 Axes>"
      ]
     },
     "metadata": {},
     "output_type": "display_data"
    },
    {
     "name": "stdout",
     "output_type": "stream",
     "text": [
      "0.3684210526315789\n"
     ]
    },
    {
     "data": {
      "image/png": "[encoded data removed]",
      "text/plain": [
       "<Figure size 72x72 with 1 Axes>"
      ]
     },
     "metadata": {},
     "output_type": "display_data"
    },
    {
     "name": "stdout",
     "output_type": "stream",
     "text": [
      "0.42105263157894735\n"
     ]
    },
    {
     "data": {
      "image/png": "[encoded data removed]",
      "text/plain": [
       "<Figure size 72x72 with 1 Axes>"
      ]
     },
     "metadata": {},
     "output_type": "display_data"
    },
    {
     "name": "stdout",
     "output_type": "stream",
     "text": [
      "0.47368421052631576\n"
     ]
    },
    {
     "data": {
      "image/png": "[encoded data removed]",
      "text/plain": [
       "<Figure size 72x72 with 1 Axes>"
      ]
     },
     "metadata": {},
     "output_type": "display_data"
    },
    {
     "name": "stdout",
     "output_type": "stream",
     "text": [
      "0.5263157894736842\n"
     ]
    },
    {
     "data": {
      "image/png": "[encoded data removed]",
      "text/plain": [
       "<Figure size 72x72 with 1 Axes>"
      ]
     },
     "metadata": {},
     "output_type": "display_data"
    },
    {
     "name": "stdout",
     "output_type": "stream",
     "text": [
      "0.5789473684210527\n"
     ]
    },
    {
     "data": {
      "image/png": "[encoded data removed]",
      "text/plain": [
       "<Figure size 72x72 with 1 Axes>"
      ]
     },
     "metadata": {},
     "output_type": "display_data"
    },
    {
     "name": "stdout",
     "output_type": "stream",
     "text": [
      "0.631578947368421\n"
     ]
    },
    {
     "data": {
      "image/png": "[encoded data removed]",
      "text/plain": [
       "<Figure size 72x72 with 1 Axes>"
      ]
     },
     "metadata": {},
     "output_type": "display_data"
    },
    {
     "name": "stdout",
     "output_type": "stream",
     "text": [
      "0.6842105263157894\n"
     ]
    },
    {
     "data": {
      "image/png": "[encoded data removed]",
      "text/plain": [
       "<Figure size 72x72 with 1 Axes>"
      ]
     },
     "metadata": {},
     "output_type": "display_data"
    },
    {
     "name": "stdout",
     "output_type": "stream",
     "text": [
      "0.7368421052631579\n"
     ]
    },
    {
     "data": {
      "image/png": "[encoded data removed]",
      "text/plain": [
       "<Figure size 72x72 with 1 Axes>"
      ]
     },
     "metadata": {},
     "output_type": "display_data"
    },
    {
     "name": "stdout",
     "output_type": "stream",
     "text": [
      "0.7894736842105263\n"
     ]
    },
    {
     "data": {
      "image/png": "[encoded data removed]",
      "text/plain": [
       "<Figure size 72x72 with 1 Axes>"
      ]
     },
     "metadata": {},
     "output_type": "display_data"
    },
    {
     "name": "stdout",
     "output_type": "stream",
     "text": [
      "0.8421052631578947\n"
     ]
    },
    {
     "data": {
      "image/png": "[encoded data removed]",
      "text/plain": [
       "<Figure size 72x72 with 1 Axes>"
      ]
     },
     "metadata": {},
     "output_type": "display_data"
    },
    {
     "name": "stdout",
     "output_type": "stream",
     "text": [
      "0.894736842105263\n"
     ]
    },
    {
     "data": {
      "image/png": "[encoded data removed]",
      "text/plain": [
       "<Figure size 72x72 with 1 Axes>"
      ]
     },
     "metadata": {},
     "output_type": "display_data"
    },
    {
     "name": "stdout",
     "output_type": "stream",
     "text": [
      "0.9473684210526315\n"
     ]
    },
    {
     "data": {
      "image/png": "[encoded data removed]",
      "text/plain": [
       "<Figure size 72x72 with 1 Axes>"
      ]
     },
     "metadata": {},
     "output_type": "display_data"
    },
    {
     "name": "stdout",
     "output_type": "stream",
     "text": [
      "1.0\n"
     ]
    },
    {
     "data": {
      "image/png": "[encoded data removed]",
      "text/plain": [
       "<Figure size 72x72 with 1 Axes>"
      ]
     },
     "metadata": {},
     "output_type": "display_data"
    }
   ],
   "source": [
    "color_list = np.linspace(0,1,20)\n",
    "for options in color_list:\n",
    "    print(options)\n",
    "    c(options)"
   ]
  },
  {
   "cell_type": "markdown",
   "metadata": {},
   "source": [
    "*The code to actually recolor the images*"
   ]
  },
  {
   "cell_type": "code",
   "execution_count": 63,
   "metadata": {},
   "outputs": [],
   "source": [
    "label_save_file_path = '/Users/hhelmbre/Desktop/Phuong_Bev/vampire/color_coded'"
   ]
  },
  {
   "cell_type": "code",
   "execution_count": 62,
   "metadata": {},
   "outputs": [
    {
     "name": "stdout",
     "output_type": "stream",
     "text": [
      "EV_MICROGLIA_STUDY_4HR_EXPOSURE_1-2-1-6_li_thresh_quad3xy70c1.png\n",
      "EV_MICROGLIA_STUDY_4HR_EXPOSURE_1-2-1-2_li_thresh_quad1xy54c1.png\n",
      "EV_MICROGLIA_STUDY_4HR_EXPOSURE_1-2-1-7_li_thresh_quad2xy64c1.png\n",
      "EV_MICROGLIA_STUDY_4HR_EXPOSURE_1-2-1-2_li_thresh_quad2xy41c1.png\n",
      "EV_MICROGLIA_STUDY_4HR_EXPOSURE_1-2-3-6_li_thresh_quad1xy53c1.png\n",
      "EV_MICROGLIA_STUDY_4HR_EXPOSURE_1-2-1-2_li_thresh_quad3xy22c1.png\n",
      "EV_MICROGLIA_STUDY_4HR_EXPOSURE_1-2-3-9_li_thresh_quad1xy16c1.png\n",
      "EV_MICROGLIA_STUDY_4HR_EXPOSURE_1-2-1-5_li_thresh_quad1xy73c1.png\n",
      "EV_MICROGLIA_STUDY_4HR_EXPOSURE_1-2-3-2_li_thresh_quad4xy31c1.png\n",
      "EV_MICROGLIA_STUDY_4HR_EXPOSURE_1-2-3-6_li_thresh_quad3xy28c1.png\n",
      "EV_MICROGLIA_STUDY_4HR_EXPOSURE_1-2-3-1_li_thresh_quad4xy51c1.png\n",
      "EV_MICROGLIA_STUDY_4HR_EXPOSURE_1-2-3-1_li_thresh_quad1xy66c1.png\n",
      "EV_MICROGLIA_STUDY_4HR_EXPOSURE_1-2-1-1_li_thresh_quad2xy47c1.png\n",
      "EV_MICROGLIA_STUDY_4HR_EXPOSURE_1-2-2-2_li_thresh_quad4xy137c1.png\n",
      "EV_MICROGLIA_STUDY_4HR_EXPOSURE_1-2-3-5_li_thresh_quad4xy82c1.png\n",
      "EV_MICROGLIA_STUDY_4HR_EXPOSURE_1-2-1-6_li_thresh_quad4xy25c1.png\n",
      "EV_MICROGLIA_STUDY_HEALTHY_CONTROL_1-2-1-5_li_thresh_quad4xy23c1.png\n",
      "EV_MICROGLIA_STUDY_HEALTHY_CONTROL_1-2-1-7_li_thresh_quad3xy84c1.png\n",
      "EV_MICROGLIA_STUDY_HEALTHY_CONTROL_1-2-2-5_li_thresh_quad3xy134c1.png\n",
      "EV_MICROGLIA_STUDY_HEALTHY_CONTROL_1-2-3-5_li_thresh_quad2xy35c1.png\n",
      "EV_MICROGLIA_STUDY_HEALTHY_CONTROL_1-2-1-6_li_thresh_quad4xy55c1.png\n",
      "EV_MICROGLIA_STUDY_HEALTHY_CONTROL_1-2-2-2_li_thresh_quad2xy159c1.png\n",
      "EV_MICROGLIA_STUDY_HEALTHY_CONTROL_1-2-2-8_li_thresh_quad2xy104c1.png\n",
      "EV_MICROGLIA_STUDY_HEALTHY_CONTROL_1-2-3-4_li_thresh_quad2xy21c1.png\n",
      "EV_MICROGLIA_STUDY_HEALTHY_CONTROL_1-2-3-2_li_thresh_quad1xy68c1.png\n",
      "EV_MICROGLIA_STUDY_HEALTHY_CONTROL_1-2-2-1_li_thresh_quad4xy135c1.png\n",
      "EV_MICROGLIA_STUDY_HEALTHY_CONTROL_1-2-2-5_li_thresh_quad4xy179c1.png\n",
      "EV_MICROGLIA_STUDY_HEALTHY_CONTROL_1-2-2-3_li_thresh_quad4xy119c1.png\n",
      "EV_MICROGLIA_STUDY_HEALTHY_CONTROL_1-2-2-6_li_thresh_quad3xy131c1.png\n",
      "EV_MICROGLIA_STUDY_HEALTHY_CONTROL_1-2-1-5_li_thresh_quad3xy72c1.png\n",
      "EV_MICROGLIA_STUDY_HEALTHY_CONTROL_1-2-2-3_li_thresh_quad1xy166c1.png\n",
      "EV_MICROGLIA_STUDY_HEALTHY_CONTROL_1-2-3-5_li_thresh_quad3xy27c1.png\n",
      "EV_MICROGLIA_STUDY_HEALTHY_CONTROL_1-2-3-1_li_thresh_quad4xy29c1.png\n",
      "EV_MICROGLIA_STUDY_OGD_CONTROL_1-2-3-5_li_thresh_quad3xy116c1.png\n",
      "EV_MICROGLIA_STUDY_OGD_CONTROL_1-2-2-1_li_thresh_quad1xy63c1.png\n",
      "EV_MICROGLIA_STUDY_OGD_CONTROL_1-2-2-1_li_thresh_quad4xy49c1.png\n",
      "EV_MICROGLIA_STUDY_OGD_CONTROL_1-2-2-3_li_thresh_quad1xy80c1.png\n",
      "EV_MICROGLIA_STUDY_OGD_CONTROL_1-2-3-6_li_thresh_quad3xy144c1.png\n",
      "EV_MICROGLIA_STUDY_OGD_CONTROL_1-2-3-4_li_thresh_quad1xy139c1.png\n",
      "EV_MICROGLIA_STUDY_OGD_CONTROL_1-2-1-4_li_thresh_quad3xy151c1.png\n",
      "EV_MICROGLIA_STUDY_OGD_CONTROL_1-2-2-4_li_thresh_quad4xy79c1.png\n",
      "EV_MICROGLIA_STUDY_OGD_CONTROL_1-2-1-4_li_thresh_quad1xy174c1.png\n",
      "EV_MICROGLIA_STUDY_OGD_CONTROL_1-2-3-2_li_thresh_quad4xy146c1.png\n",
      "EV_MICROGLIA_STUDY_OGD_CONTROL_1-2-2-1_li_thresh_quad2xy81c1.png\n",
      "EV_MICROGLIA_STUDY_OGD_CONTROL_1-2-3-2_li_thresh_quad2xy177c1.png\n",
      "EV_MICROGLIA_STUDY_OGD_CONTROL_1-2-1-4_li_thresh_quad4xy129c1.png\n",
      "EV_MICROGLIA_STUDY_OGD_CONTROL_1-2-2-3_li_thresh_quad2xy58c1.png\n",
      "EV_MICROGLIA_STUDY_24HR_EXPOSURE_1-3-1-1_li_thresh_quad4xy105c1.png\n",
      "EV_MICROGLIA_STUDY_24HR_EXPOSURE_1-3-2-5_li_thresh_quad2xy05c1.png\n",
      "EV_MICROGLIA_STUDY_24HR_EXPOSURE_1-3-2-3_li_thresh_quad3xy13c1.png\n",
      "EV_MICROGLIA_STUDY_24HR_EXPOSURE_1-3-3-1_li_thresh_quad4xy91c1.png\n",
      "EV_MICROGLIA_STUDY_24HR_EXPOSURE_1-3-1-3_li_thresh_quad3xy98c1.png\n",
      "EV_MICROGLIA_STUDY_24HR_EXPOSURE_1-3-1-2_li_thresh_quad2xy101c1.png\n",
      "EV_MICROGLIA_STUDY_24HR_EXPOSURE_1-3-2-4_li_thresh_quad2xy08c1.png\n",
      "EV_MICROGLIA_STUDY_24HR_EXPOSURE_1-3-3-3_li_thresh_quad4xy99c1.png\n",
      "EV_MICROGLIA_STUDY_24HR_EXPOSURE_1-3-3-2_li_thresh_quad3xy111c1.png\n",
      "EV_MICROGLIA_STUDY_24HR_EXPOSURE_1-3-3-6_li_thresh_quad1xy92c1.png\n",
      "EV_MICROGLIA_STUDY_24HR_EXPOSURE_1-3-1-2_li_thresh_quad1xy93c1.png\n",
      "EV_MICROGLIA_STUDY_24HR_EXPOSURE_1-3-2-1_li_thresh_quad1xy15c1.png\n",
      "EV_MICROGLIA_STUDY_24HR_EXPOSURE_1-3-2-2_li_thresh_quad2xy10c1.png\n",
      "EV_MICROGLIA_STUDY_24HR_EXPOSURE_1-3-3-4_li_thresh_quad4xy109c1.png\n",
      "EV_MICROGLIA_STUDY_24HR_EXPOSURE_1-3-1-1_li_thresh_quad2xy90c1.png\n",
      "EV_MICROGLIA_STUDY_24HR_EXPOSURE_1-3-2-1_li_thresh_quad2xy19c1.png\n",
      "EV_MICROGLIA_STUDY_HEALTHY_CONTROL_1-6-2-2_li_thresh_quad1xy138c1.png\n",
      "EV_MICROGLIA_STUDY_HEALTHY_CONTROL_1-6-3-4_li_thresh_quad1xy85c1.png\n",
      "EV_MICROGLIA_STUDY_HEALTHY_CONTROL_1-6-2-3_li_thresh_quad1xy147c1.png\n",
      "EV_MICROGLIA_STUDY_HEALTHY_CONTROL_1-6-2-4_li_thresh_quad3xy160c1.png\n",
      "EV_MICROGLIA_STUDY_HEALTHY_CONTROL_1-6-3-2_li_thresh_quad4xy78c1.png\n",
      "EV_MICROGLIA_STUDY_HEALTHY_CONTROL_1-6-3-3_li_thresh_quad1xy38c1.png\n",
      "EV_MICROGLIA_STUDY_HEALTHY_CONTROL_1-6-1-3_li_thresh_quad3xy86c1.png\n",
      "EV_MICROGLIA_STUDY_HEALTHY_CONTROL_1-6-1-5_li_thresh_quad2xy33c1.png\n",
      "EV_MICROGLIA_STUDY_HEALTHY_CONTROL_1-6-2-6_li_thresh_quad1xy168c1.png\n",
      "EV_MICROGLIA_STUDY_HEALTHY_CONTROL_1-6-3-1_li_thresh_quad2xy39c1.png\n",
      "EV_MICROGLIA_STUDY_HEALTHY_CONTROL_1-6-3-5_li_thresh_quad3xy75c1.png\n",
      "EV_MICROGLIA_STUDY_HEALTHY_CONTROL_1-6-2-2_li_thresh_quad2xy118c1.png\n",
      "EV_MICROGLIA_STUDY_HEALTHY_CONTROL_1-6-2-2_li_thresh_quad3xy128c1.png\n",
      "EV_MICROGLIA_STUDY_HEALTHY_CONTROL_1-6-1-4_li_thresh_quad1xy44c1.png\n",
      "EV_MICROGLIA_STUDY_HEALTHY_CONTROL_1-6-3-7_li_thresh_quad1xy62c1.png\n",
      "EV_MICROGLIA_STUDY_HEALTHY_CONTROL_1-6-2-1_li_thresh_quad3xy140c1.png\n",
      "EV_MICROGLIA_STUDY_OGD_CONTROL_1-3-1-2_li_thresh_quad4xy32c1.png\n",
      "EV_MICROGLIA_STUDY_OGD_CONTROL_1-3-1-6_li_thresh_quad2xy26c1.png\n",
      "EV_MICROGLIA_STUDY_OGD_CONTROL_1-3-2-5_li_thresh_quad2xy155c1.png\n",
      "EV_MICROGLIA_STUDY_OGD_CONTROL_1-3-1-4_li_thresh_quad2xy46c1.png\n",
      "EV_MICROGLIA_STUDY_OGD_CONTROL_1-3-3-3_li_thresh_quad4xy69c1.png\n",
      "EV_MICROGLIA_STUDY_OGD_CONTROL_1-3-2-2_li_thresh_quad4xy165c1.png\n",
      "EV_MICROGLIA_STUDY_OGD_CONTROL_1-3-3-3_li_thresh_quad2xy36c1.png\n",
      "EV_MICROGLIA_STUDY_OGD_CONTROL_1-3-2-2_li_thresh_quad1xy120c1.png\n",
      "EV_MICROGLIA_STUDY_OGD_CONTROL_1-3-2-3_li_thresh_quad4xy180c1.png\n",
      "EV_MICROGLIA_STUDY_OGD_CONTROL_1-3-3-2_li_thresh_quad1xy42c1.png\n",
      "EV_MICROGLIA_STUDY_OGD_CONTROL_1-3-1-3_li_thresh_quad3xy71c1.png\n",
      "EV_MICROGLIA_STUDY_OGD_CONTROL_1-3-3-2_li_thresh_quad4xy56c1.png\n",
      "EV_MICROGLIA_STUDY_OGD_CONTROL_1-3-1-2_li_thresh_quad3xy61c1.png\n",
      "EV_MICROGLIA_STUDY_OGD_CONTROL_1-3-3-5_li_thresh_quad3xy88c1.png\n",
      "EV_MICROGLIA_STUDY_OGD_CONTROL_1-3-2-4_li_thresh_quad3xy148c1.png\n",
      "EV_MICROGLIA_STUDY_48HR_TREATED_1-7-1-1_li_thresh_quad1xy143c1.png\n",
      "EV_MICROGLIA_STUDY_48_HR_EXPOSURE_1-4-1-5_li_thresh_quad2xy95c1.png\n",
      "EV_MICROGLIA_STUDY_48HR_TREATED_1-7-2-2_li_thresh_quad1xy83c1.png\n",
      "EV_MICROGLIA_STUDY_48_HR_EXPOSURE_1-4-1-1_li_thresh_quad2xy115c1.png\n",
      "EV_MICROGLIA_STUDY_48HR_TREATED_1-7-1-4_li_thresh_quad3xy153c1.png\n",
      "EV_MICROGLIA_STUDY_48HR_TREATED_1-7-2-5_li_thresh_quad2xy52c1.png\n",
      "EV_MICROGLIA_STUDY_48_HR_EXPOSURE_1-4-2-2_li_thresh_quad4xy20c1.png\n",
      "EV_MICROGLIA_STUDY_48_HR_EXPOSURE_1-4-2-4_li_thresh_quad2xy11c1.png\n",
      "EV_MICROGLIA_STUDY_48HR_TREATED_1-7-1-4_li_thresh_quad1xy173c1.png\n",
      "EV_MICROGLIA_STUDY_48HR_TREATED_1-7-1-2_li_thresh_quad2xy141c1.png\n",
      "EV_MICROGLIA_STUDY_48_HR_EXPOSURE_1-4-2-3_li_thresh_quad3xy09c1.png\n",
      "EV_MICROGLIA_STUDY_48HR_TREATED_1-7-1-3_li_thresh_quad4xy175c1.png\n",
      "EV_MICROGLIA_STUDY_48HR_TREATED_1-7-2-3_li_thresh_quad2xy57c1.png\n",
      "EV_MICROGLIA_STUDY_48HR_TREATED_1-7-1-1_li_thresh_quad2xy125c1.png\n",
      "EV_MICROGLIA_STUDY_48HR_TREATED_1-7-3-6_li_thresh_quad4xy164c1.png\n",
      "EV_MICROGLIA_STUDY_48HR_TREATED_1-7-3-6_li_thresh_quad2xy136c1.png\n",
      "EV_MICROGLIA_STUDY_48HR_TREATED_1-7-3-3_li_thresh_quad3xy169c1.png\n",
      "EV_MICROGLIA_STUDY_48HR_TREATED_1-7-3-4_li_thresh_quad2xy122c1.png\n",
      "EV_MICROGLIA_STUDY_48_HR_EXPOSURE_1-4-1-5_li_thresh_quad3xy100c1.png\n",
      "EV_MICROGLIA_STUDY_48HR_TREATED_1-7-3-1_li_thresh_quad2xy150c1.png\n",
      "EV_MICROGLIA_STUDY_HEALTHY_CONTROL_1-7-3-5_li_thresh_quad2xy145c1.png\n",
      "EV_MICROGLIA_STUDY_HEALTHY_CONTROL_1-7-3-5_li_thresh_quad1xy133c1.png\n",
      "EV_MICROGLIA_STUDY_HEALTHY_CONTROL_1-7-1-4_li_thresh_quad3xy163c1.png\n",
      "EV_MICROGLIA_STUDY_HEALTHY_CONTROL_1-7-2-4_li_thresh_quad1xy43c1.png\n",
      "EV_MICROGLIA_STUDY_HEALTHY_CONTROL_1-7-1-1_li_thresh_quad4xy170c1.png\n",
      "EV_MICROGLIA_STUDY_HEALTHY_CONTROL_1-7-3-2_li_thresh_quad4xy132c1.png\n",
      "EV_MICROGLIA_STUDY_HEALTHY_CONTROL_1-7-2-6_li_thresh_quad2xy50c1.png\n",
      "EV_MICROGLIA_STUDY_HEALTHY_CONTROL_1-7-3-1_li_thresh_quad1xy152c1.png\n",
      "EV_MICROGLIA_STUDY_HEALTHY_CONTROL_1-7-2-4_li_thresh_quad4xy59c1.png\n",
      "EV_MICROGLIA_STUDY_HEALTHY_CONTROL_1-7-2-5_li_thresh_quad2xy34c1.png\n",
      "EV_MICROGLIA_STUDY_HEALTHY_CONTROL_1-7-3-1_li_thresh_quad2xy162c1.png\n",
      "EV_MICROGLIA_STUDY_HEALTHY_CONTROL_1-7-3-5_li_thresh_quad4xy178c1.png\n",
      "EV_MICROGLIA_STUDY_HEALTHY_CONTROL_1-7-2-2_li_thresh_quad1xy65c1.png\n",
      "EV_MICROGLIA_STUDY_HEALTHY_CONTROL_1-7-1-1_li_thresh_quad1xy127c1.png\n",
      "EV_MICROGLIA_STUDY_HEALTHY_CONTROL_1-7-3-4_li_thresh_quad1xy121c1.png\n",
      "EV_MICROGLIA_STUDY_OGD_CONTROL_1-7-3-2_li_thresh_quad4xy37c1.png\n",
      "EV_MICROGLIA_STUDY_OGD_CONTROL_1-7-2-3_li_thresh_quad3xy172c1.png\n",
      "EV_MICROGLIA_STUDY_OGD_CONTROL_1-7-1-6_li_thresh_quad2xy76c1.png\n",
      "EV_MICROGLIA_STUDY_OGD_CONTROL_1-7-1-3_li_thresh_quad3xy30c1.png\n",
      "EV_MICROGLIA_STUDY_OGD_CONTROL_1-7-1-7_li_thresh_quad3xy67c1.png\n",
      "EV_MICROGLIA_STUDY_OGD_CONTROL_1-7-2-1_li_thresh_quad2xy149c1.png\n",
      "EV_MICROGLIA_STUDY_OGD_CONTROL_1-7-2-3_li_thresh_quad1xy154c1.png\n",
      "EV_MICROGLIA_STUDY_OGD_CONTROL_1-7-1-2_li_thresh_quad3xy40c1.png\n",
      "EV_MICROGLIA_STUDY_OGD_CONTROL_1-7-1-7_li_thresh_quad2xy60c1.png\n",
      "EV_MICROGLIA_STUDY_OGD_CONTROL_1-7-1-2_li_thresh_quad1xy45c1.png\n",
      "EV_MICROGLIA_STUDY_OGD_CONTROL_1-7-2-2_li_thresh_quad3xy161c1.png\n",
      "EV_MICROGLIA_STUDY_OGD_CONTROL_1-7-3-4_li_thresh_quad4xy77c1.png\n",
      "EV_MICROGLIA_STUDY_OGD_CONTROL_1-7-2-1_li_thresh_quad4xy117c1.png\n",
      "EV_MICROGLIA_STUDY_OGD_CONTROL_1-7-3-1_li_thresh_quad4xy48c1.png\n",
      "EV_MICROGLIA_STUDY_OGD_CONTROL_1-7-1-6_li_thresh_quad1xy89c1.png\n",
      "EV_MICROGLIA_STUDY_HEALTHY_CONTROL_1-1-4-5_li_thresh_quad1xy123c1.png\n",
      "EV_MICROGLIA_STUDY_HEALTHY_CONTROL_1-1-2-3_li_thresh_quad2xy97c1.png\n",
      "EV_MICROGLIA_STUDY_HEALTHY_CONTROL_1-1-3-2_li_thresh_quad3xy01c1.png\n",
      "EV_MICROGLIA_STUDY_HEALTHY_CONTROL_1-1-1-4_li_thresh_quad4xy18c1.png\n",
      "EV_MICROGLIA_STUDY_HEALTHY_CONTROL_1-1-1-4_li_thresh_quad3xy06c1.png\n",
      "EV_MICROGLIA_STUDY_HEALTHY_CONTROL_1-1-1-3_li_thresh_quad4xy02c1.png\n",
      "EV_MICROGLIA_STUDY_HEALTHY_CONTROL_1-1-4-5_li_thresh_quad4xy167c1.png\n",
      "EV_MICROGLIA_STUDY_HEALTHY_CONTROL_1-1-2-5_li_thresh_quad2xy107c1.png\n",
      "EV_MICROGLIA_STUDY_HEALTHY_CONTROL_1-1-1-5_li_thresh_quad2xy04c1.png\n",
      "EV_MICROGLIA_STUDY_HEALTHY_CONTROL_1-1-3-5_li_thresh_quad3xy17c1.png\n",
      "EV_MICROGLIA_STUDY_HEALTHY_CONTROL_1-1-3-2_li_thresh_quad4xy14c1.png\n",
      "EV_MICROGLIA_STUDY_HEALTHY_CONTROL_1-1-4-4_li_thresh_quad1xy130c1.png\n",
      "EV_MICROGLIA_STUDY_HEALTHY_CONTROL_1-1-2-2_li_thresh_quad4xy113c1.png\n",
      "EV_MICROGLIA_STUDY_HEALTHY_CONTROL_1-1-4-3_li_thresh_quad1xy176c1.png\n",
      "EV_MICROGLIA_STUDY_HEALTHY_CONTROL_1-1-3-3_li_thresh_quad3xy03c1.png\n",
      "EV_MICROGLIA_STUDY_HEALTHY_CONTROL_1-1-4-3_li_thresh_quad2xy158c1.png\n",
      "EV_MICROGLIA_STUDY_HEALTHY_CONTROL_1-1-2-1_li_thresh_quad4xy103c1.png\n",
      "EV_MICROGLIA_STUDY_OGD_CONTROL_1-1-5-5_li_thresh_quad1xy142c1.png\n",
      "EV_MICROGLIA_STUDY_OGD_CONTROL_1-1-1-4_li_thresh_quad4xy114c1.png\n",
      "EV_MICROGLIA_STUDY_OGD_CONTROL_1-1-1-1_li_thresh_quad2xy110c1.png\n",
      "EV_MICROGLIA_STUDY_OGD_CONTROL_1-1-3-3_li_thresh_quad4xy106c1.png\n",
      "EV_MICROGLIA_STUDY_OGD_CONTROL_1-1-5-1_li_thresh_quad1xy171c1.png\n",
      "EV_MICROGLIA_STUDY_OGD_CONTROL_1-1-5-5_li_thresh_quad2xy124c1.png\n",
      "EV_MICROGLIA_STUDY_OGD_CONTROL_1-1-4-1_li_thresh_quad2xy87c1.png\n",
      "EV_MICROGLIA_STUDY_OGD_CONTROL_1-1-3-4_li_thresh_quad3xy112c1.png\n",
      "EV_MICROGLIA_STUDY_OGD_CONTROL_1-1-5-4_li_thresh_quad4xy157c1.png\n",
      "EV_MICROGLIA_STUDY_OGD_CONTROL_1-1-3-4_li_thresh_quad4xy96c1.png\n",
      "EV_MICROGLIA_STUDY_OGD_CONTROL_1-1-4-1_li_thresh_quad1xy74c1.png\n",
      "EV_MICROGLIA_STUDY_OGD_CONTROL_1-1-2-1_li_thresh_quad4xy12c1.png\n",
      "EV_MICROGLIA_STUDY_OGD_CONTROL_1-1-5-1_li_thresh_quad2xy156c1.png\n",
      "EV_MICROGLIA_STUDY_OGD_CONTROL_1-1-3-5_li_thresh_quad1xy108c1.png\n",
      "EV_MICROGLIA_STUDY_OGD_CONTROL_1-1-4-5_li_thresh_quad1xy24c1.png\n",
      "EV_MICROGLIA_STUDY_OGD_CONTROL_1-1-1-3_li_thresh_quad3xy102c1.png\n",
      "EV_MICROGLIA_STUDY_OGD_CONTROL_1-1-5-1_li_thresh_quad4xy126c1.png\n",
      "EV_MICROGLIA_STUDY_OGD_CONTROL_1-1-2-2_li_thresh_quad3xy07c1.png\n",
      "EV_MICROGLIA_STUDY_OGD_CONTROL_1-1-1-4_li_thresh_quad1xy94c1.png\n"
     ]
    },
    {
     "data": {
      "image/png": "[encoded data removed]",
      "text/plain": [
       "<Figure size 432x288 with 1 Axes>"
      ]
     },
     "metadata": {},
     "output_type": "display_data"
    }
   ],
   "source": [
    "k = 0\n",
    "cmap = plt.get_cmap('twilight')\n",
    "cmap.set_bad(color = 'white')\n",
    "for images in need_to_label_list2:\n",
    "    \n",
    "    #Reading in the image and its labels\n",
    "    im_file_path = images\n",
    "    img = mpimg.imread(im_file_path)\n",
    "    csv_df = pd.read_csv('/Users/hhelmbre/Desktop/Phuong_Bev/visualization/shape_mode_vs_feature_all.csv')\n",
    "    \n",
    "    #Getting the file path from the file name\n",
    "    im_file_name_split = im_file_path.split('/')\n",
    "    length = len(im_file_name_split)\n",
    "    file_name = im_file_name_split[length-1]\n",
    "    print(file_name)\n",
    "    \n",
    "    mask = np.zeros(np.asarray(img.shape)+2, dtype=np.uint8)\n",
    "    \n",
    "    csv_df = csv_df[csv_df.Filename == file_name]\n",
    "    csv_df = csv_df.reset_index(drop=True)\n",
    "    \n",
    "    for shapes in range(len(csv_df)):\n",
    "        shape_mode = (csv_df['Shape mode'][shapes]).astype(int)\n",
    "        start_pt = (csv_df['X'][shapes], csv_df['Y'][shapes])\n",
    "        area =csv_df['Area'][shapes]\n",
    "        \n",
    "        if img[csv_df['Y'][shapes]][csv_df['X'][shapes]]== 1:\n",
    "            if shape_mode==1: #0.5\n",
    "                cv2.floodFill(img, mask, start_pt, 0, flags=0)\n",
    "                mask[mask == 1] = 128\n",
    "\n",
    "            elif shape_mode==2: #0.047\n",
    "                cv2.floodFill(img, mask, start_pt, 0, flags=0)\n",
    "                mask[mask == 1] = 12\n",
    "            elif shape_mode==3: #0.7\n",
    "                cv2.floodFill(img, mask, start_pt, 0, flags=0)\n",
    "                mask[mask == 1] = 179\n",
    "\n",
    "            elif shape_mode==4: #0.33\n",
    "                cv2.floodFill(img, mask, start_pt, 0, flags=0)\n",
    "                mask[mask == 1] = 85\n",
    "\n",
    "            elif shape_mode==5: #0.9\n",
    "                cv2.floodFill(img, mask, start_pt, 0, flags=0)\n",
    "                mask[mask == 1] = 230\n",
    "\n",
    "            if shapes == len(csv_df)-1:\n",
    "                mask = mask[1:-1, 1:-1]\n",
    "                mask[0][0] = 255\n",
    "                \n",
    "                mask = mask.astype('float')\n",
    "                mask[mask==0] = np.nan\n",
    "            \n",
    "                plt.imshow(mask,cmap='twilight')\n",
    "                plt.tick_params(\n",
    "                    axis='x',\n",
    "                    which='both',\n",
    "                    bottom=False,\n",
    "                    top=False,\n",
    "                    labelbottom=False)\n",
    "                plt.yticks([])\n",
    "                plt.savefig(str(label_save_file_path + str(k) + file_name), bbox_inches = 'tight',\n",
    "    pad_inches = 0)\n",
    "\n",
    "                #img_to_save = Image.fromarray(mask)\n",
    "                #img_to_save.save(str(label_save_file_path + str(k) + file_name))\n",
    "\n",
    "    \n",
    "    k += 1"
   ]
  },
  {
   "cell_type": "markdown",
   "metadata": {},
   "source": [
    "*Step 3: Environment Specs*"
   ]
  },
  {
   "cell_type": "code",
   "execution_count": 67,
   "metadata": {},
   "outputs": [
    {
     "name": "stdout",
     "output_type": "stream",
     "text": [
      "The watermark extension is already loaded. To reload it, use:\n",
      "  %reload_ext watermark\n",
      "Python implementation: CPython\n",
      "Python version       : 3.7.4\n",
      "IPython version      : 7.8.0\n",
      "\n",
      "numpy     : 1.17.2\n",
      "pandas    : 0.25.1\n",
      "scipy     : 1.3.1\n",
      "skimage   : 0.17.2\n",
      "matplotlib: 3.1.1\n",
      "cv2       : 4.2.0\n",
      "PIL       : 7.2.0\n",
      "wget      : 3.2\n",
      "\n",
      "Compiler    : Clang 4.0.1 (tags/RELEASE_401/final)\n",
      "OS          : Darwin\n",
      "Release     : 20.6.0\n",
      "Machine     : x86_64\n",
      "Processor   : i386\n",
      "CPU cores   : 8\n",
      "Architecture: 64bit\n",
      "\n",
      "Last updated: Mon Nov 15 2021 15:29:44PST\n",
      "\n"
     ]
    }
   ],
   "source": [
    "%load_ext watermark\n",
    "\n",
    "%watermark -v -m -p numpy,pandas,scipy,skimage,matplotlib,cv2,PIL,wget\n",
    "\n",
    "%watermark -u -n -t -z"
   ]
  },
  {
   "cell_type": "code",
   "execution_count": null,
   "metadata": {},
   "outputs": [],
   "source": []
  }
 ],
 "metadata": {
  "kernelspec": {
   "display_name": "Python 3",
   "language": "python",
   "name": "python3"
  },
  "language_info": {
   "codemirror_mode": {
    "name": "ipython",
    "version": 3
   },
   "file_extension": ".py",
   "mimetype": "text/x-python",
   "name": "python",
   "nbconvert_exporter": "python",
   "pygments_lexer": "ipython3",
   "version": "3.7.4"
  }
 },
 "nbformat": 4,
 "nbformat_minor": 4
}
