{
 "cells": [
  {
   "cell_type": "markdown",
   "metadata": {},
   "source": [
    "# Purpose: Coloring Segmented Images According to Shape Mode"
   ]
  },
  {
   "cell_type": "markdown",
   "metadata": {},
   "source": [
    "Date Created: 1-26-2021"
   ]
  },
  {
   "cell_type": "markdown",
   "metadata": {},
   "source": [
    "Date Updated: 1-27-2020\n",
    "Date Updated: 6-25-2021 updated to change the color scheme to Twilight and process only the images used for the shape mode vs shape featuer figure in the Ferret Publication"
   ]
  },
  {
   "cell_type": "markdown",
   "metadata": {},
   "source": [
    "Author: Hawley Helmbrecht"
   ]
  },
  {
   "cell_type": "markdown",
   "metadata": {},
   "source": [
    "**Colors:** \n",
    "\n",
    "shape mode 1: Blue\n",
    "\n",
    "shape mode 2: Orange\n",
    "\n",
    "shape mode 3: Green\n",
    "\n",
    "shape mode 4: Red\n",
    "\n",
    "shape mode 5: Purple"
   ]
  },
  {
   "cell_type": "markdown",
   "metadata": {},
   "source": [
    "*Step 1: Import Necessary Packages*"
   ]
  },
  {
   "cell_type": "code",
   "execution_count": 42,
   "metadata": {},
   "outputs": [],
   "source": [
    "import numpy as np\n",
    "import matplotlib.image as mpimg \n",
    "import matplotlib.pyplot as plt\n",
    "import pandas as pd\n",
    "import cv2\n",
    "from PIL import Image"
   ]
  },
  {
   "cell_type": "code",
   "execution_count": null,
   "metadata": {},
   "outputs": [],
   "source": []
  },
  {
   "cell_type": "markdown",
   "metadata": {},
   "source": [
    "*Step 2: User input variables*"
   ]
  },
  {
   "cell_type": "code",
   "execution_count": 46,
   "metadata": {},
   "outputs": [],
   "source": [
    "im_file_path = '/Users/hhelmbre/Desktop/KH_OGD_ferret/Iba1/female/Epo/corpus_callosum/threshold_ims/xy01c1_threshold.png'\n",
    "csv_file_path = '/Users/hhelmbre/Desktop/KH_OGD_ferret/Iba1/female/Epo/corpus_callosum/threshold_ims/c1_registry.csv'"
   ]
  },
  {
   "cell_type": "code",
   "execution_count": null,
   "metadata": {},
   "outputs": [],
   "source": []
  },
  {
   "cell_type": "markdown",
   "metadata": {},
   "source": [
    "*Step 3: Reading in the Image and CSV with Labels*"
   ]
  },
  {
   "cell_type": "code",
   "execution_count": 47,
   "metadata": {},
   "outputs": [],
   "source": [
    "img = mpimg.imread(im_file_path)\n",
    "csv_df = pd.read_csv(csv_file_path)"
   ]
  },
  {
   "cell_type": "code",
   "execution_count": 48,
   "metadata": {},
   "outputs": [
    {
     "data": {
      "text/html": [
       "<div>\n",
       "<style scoped>\n",
       "    .dataframe tbody tr th:only-of-type {\n",
       "        vertical-align: middle;\n",
       "    }\n",
       "\n",
       "    .dataframe tbody tr th {\n",
       "        vertical-align: top;\n",
       "    }\n",
       "\n",
       "    .dataframe thead th {\n",
       "        text-align: right;\n",
       "    }\n",
       "</style>\n",
       "<table border=\"1\" class=\"dataframe\">\n",
       "  <thead>\n",
       "    <tr style=\"text-align: right;\">\n",
       "      <th></th>\n",
       "      <th>Filename</th>\n",
       "      <th>ImageID</th>\n",
       "      <th>ObjectID</th>\n",
       "      <th>X</th>\n",
       "      <th>Y</th>\n",
       "      <th>Area</th>\n",
       "      <th>Perimeter</th>\n",
       "      <th>Major Axis</th>\n",
       "      <th>Minor Axis</th>\n",
       "      <th>Circularity</th>\n",
       "      <th>Aspect Ratio</th>\n",
       "      <th>Shape mode</th>\n",
       "      <th>Contour fit</th>\n",
       "    </tr>\n",
       "  </thead>\n",
       "  <tbody>\n",
       "    <tr>\n",
       "      <td>0</td>\n",
       "      <td>xy01c1_threshold.png</td>\n",
       "      <td>1</td>\n",
       "      <td>5</td>\n",
       "      <td>4</td>\n",
       "      <td>18</td>\n",
       "      <td>39</td>\n",
       "      <td>22.727922</td>\n",
       "      <td>8.616694</td>\n",
       "      <td>6.071115</td>\n",
       "      <td>0.948757</td>\n",
       "      <td>1.419293</td>\n",
       "      <td>1</td>\n",
       "      <td>4.06</td>\n",
       "    </tr>\n",
       "    <tr>\n",
       "      <td>1</td>\n",
       "      <td>xy02c1_threshold.png</td>\n",
       "      <td>2</td>\n",
       "      <td>19</td>\n",
       "      <td>100</td>\n",
       "      <td>141</td>\n",
       "      <td>89</td>\n",
       "      <td>40.006097</td>\n",
       "      <td>16.200718</td>\n",
       "      <td>7.647885</td>\n",
       "      <td>0.698791</td>\n",
       "      <td>2.118327</td>\n",
       "      <td>1</td>\n",
       "      <td>3.76</td>\n",
       "    </tr>\n",
       "    <tr>\n",
       "      <td>2</td>\n",
       "      <td>xy03c1_threshold.png</td>\n",
       "      <td>3</td>\n",
       "      <td>8</td>\n",
       "      <td>136</td>\n",
       "      <td>104</td>\n",
       "      <td>124</td>\n",
       "      <td>80.976659</td>\n",
       "      <td>31.291623</td>\n",
       "      <td>15.761418</td>\n",
       "      <td>0.237636</td>\n",
       "      <td>1.985330</td>\n",
       "      <td>1</td>\n",
       "      <td>4.22</td>\n",
       "    </tr>\n",
       "    <tr>\n",
       "      <td>3</td>\n",
       "      <td>xy03c1_threshold.png</td>\n",
       "      <td>3</td>\n",
       "      <td>12</td>\n",
       "      <td>64</td>\n",
       "      <td>199</td>\n",
       "      <td>39</td>\n",
       "      <td>28.727922</td>\n",
       "      <td>13.073971</td>\n",
       "      <td>5.720731</td>\n",
       "      <td>0.593835</td>\n",
       "      <td>2.285367</td>\n",
       "      <td>1</td>\n",
       "      <td>5.29</td>\n",
       "    </tr>\n",
       "    <tr>\n",
       "      <td>4</td>\n",
       "      <td>xy02c1_threshold.png</td>\n",
       "      <td>2</td>\n",
       "      <td>1</td>\n",
       "      <td>18</td>\n",
       "      <td>2</td>\n",
       "      <td>25</td>\n",
       "      <td>16.242641</td>\n",
       "      <td>6.240789</td>\n",
       "      <td>5.230349</td>\n",
       "      <td>1.190794</td>\n",
       "      <td>1.193188</td>\n",
       "      <td>2</td>\n",
       "      <td>5.18</td>\n",
       "    </tr>\n",
       "    <tr>\n",
       "      <td>...</td>\n",
       "      <td>...</td>\n",
       "      <td>...</td>\n",
       "      <td>...</td>\n",
       "      <td>...</td>\n",
       "      <td>...</td>\n",
       "      <td>...</td>\n",
       "      <td>...</td>\n",
       "      <td>...</td>\n",
       "      <td>...</td>\n",
       "      <td>...</td>\n",
       "      <td>...</td>\n",
       "      <td>...</td>\n",
       "      <td>...</td>\n",
       "    </tr>\n",
       "    <tr>\n",
       "      <td>59</td>\n",
       "      <td>xy02c1_threshold.png</td>\n",
       "      <td>2</td>\n",
       "      <td>20</td>\n",
       "      <td>229</td>\n",
       "      <td>151</td>\n",
       "      <td>236</td>\n",
       "      <td>94.497475</td>\n",
       "      <td>28.826379</td>\n",
       "      <td>14.090351</td>\n",
       "      <td>0.332110</td>\n",
       "      <td>2.045824</td>\n",
       "      <td>5</td>\n",
       "      <td>7.77</td>\n",
       "    </tr>\n",
       "    <tr>\n",
       "      <td>60</td>\n",
       "      <td>xy02c1_threshold.png</td>\n",
       "      <td>2</td>\n",
       "      <td>23</td>\n",
       "      <td>167</td>\n",
       "      <td>158</td>\n",
       "      <td>30</td>\n",
       "      <td>19.313709</td>\n",
       "      <td>7.948413</td>\n",
       "      <td>5.023108</td>\n",
       "      <td>1.010648</td>\n",
       "      <td>1.582370</td>\n",
       "      <td>5</td>\n",
       "      <td>2.32</td>\n",
       "    </tr>\n",
       "    <tr>\n",
       "      <td>61</td>\n",
       "      <td>xy02c1_threshold.png</td>\n",
       "      <td>2</td>\n",
       "      <td>27</td>\n",
       "      <td>95</td>\n",
       "      <td>206</td>\n",
       "      <td>234</td>\n",
       "      <td>103.568543</td>\n",
       "      <td>34.512396</td>\n",
       "      <td>11.825062</td>\n",
       "      <td>0.274138</td>\n",
       "      <td>2.918581</td>\n",
       "      <td>5</td>\n",
       "      <td>6.11</td>\n",
       "    </tr>\n",
       "    <tr>\n",
       "      <td>62</td>\n",
       "      <td>xy03c1_threshold.png</td>\n",
       "      <td>3</td>\n",
       "      <td>2</td>\n",
       "      <td>108</td>\n",
       "      <td>42</td>\n",
       "      <td>272</td>\n",
       "      <td>122.225397</td>\n",
       "      <td>41.817020</td>\n",
       "      <td>17.156045</td>\n",
       "      <td>0.228800</td>\n",
       "      <td>2.437451</td>\n",
       "      <td>5</td>\n",
       "      <td>5.83</td>\n",
       "    </tr>\n",
       "    <tr>\n",
       "      <td>63</td>\n",
       "      <td>xy03c1_threshold.png</td>\n",
       "      <td>3</td>\n",
       "      <td>5</td>\n",
       "      <td>85</td>\n",
       "      <td>63</td>\n",
       "      <td>135</td>\n",
       "      <td>74.183766</td>\n",
       "      <td>23.624985</td>\n",
       "      <td>12.125497</td>\n",
       "      <td>0.308266</td>\n",
       "      <td>1.948372</td>\n",
       "      <td>5</td>\n",
       "      <td>4.84</td>\n",
       "    </tr>\n",
       "  </tbody>\n",
       "</table>\n",
       "<p>64 rows × 13 columns</p>\n",
       "</div>"
      ],
      "text/plain": [
       "                Filename  ImageID  ObjectID    X    Y  Area   Perimeter  \\\n",
       "0   xy01c1_threshold.png        1         5    4   18    39   22.727922   \n",
       "1   xy02c1_threshold.png        2        19  100  141    89   40.006097   \n",
       "2   xy03c1_threshold.png        3         8  136  104   124   80.976659   \n",
       "3   xy03c1_threshold.png        3        12   64  199    39   28.727922   \n",
       "4   xy02c1_threshold.png        2         1   18    2    25   16.242641   \n",
       "..                   ...      ...       ...  ...  ...   ...         ...   \n",
       "59  xy02c1_threshold.png        2        20  229  151   236   94.497475   \n",
       "60  xy02c1_threshold.png        2        23  167  158    30   19.313709   \n",
       "61  xy02c1_threshold.png        2        27   95  206   234  103.568543   \n",
       "62  xy03c1_threshold.png        3         2  108   42   272  122.225397   \n",
       "63  xy03c1_threshold.png        3         5   85   63   135   74.183766   \n",
       "\n",
       "    Major Axis  Minor Axis  Circularity  Aspect Ratio  Shape mode  Contour fit  \n",
       "0     8.616694    6.071115     0.948757      1.419293           1         4.06  \n",
       "1    16.200718    7.647885     0.698791      2.118327           1         3.76  \n",
       "2    31.291623   15.761418     0.237636      1.985330           1         4.22  \n",
       "3    13.073971    5.720731     0.593835      2.285367           1         5.29  \n",
       "4     6.240789    5.230349     1.190794      1.193188           2         5.18  \n",
       "..         ...         ...          ...           ...         ...          ...  \n",
       "59   28.826379   14.090351     0.332110      2.045824           5         7.77  \n",
       "60    7.948413    5.023108     1.010648      1.582370           5         2.32  \n",
       "61   34.512396   11.825062     0.274138      2.918581           5         6.11  \n",
       "62   41.817020   17.156045     0.228800      2.437451           5         5.83  \n",
       "63   23.624985   12.125497     0.308266      1.948372           5         4.84  \n",
       "\n",
       "[64 rows x 13 columns]"
      ]
     },
     "execution_count": 48,
     "metadata": {},
     "output_type": "execute_result"
    }
   ],
   "source": [
    "csv_df"
   ]
  },
  {
   "cell_type": "markdown",
   "metadata": {},
   "source": [
    "*Step 4: Getting the file name*"
   ]
  },
  {
   "cell_type": "code",
   "execution_count": 49,
   "metadata": {},
   "outputs": [
    {
     "data": {
      "text/plain": [
       "'xy01c1_threshold.png'"
      ]
     },
     "execution_count": 49,
     "metadata": {},
     "output_type": "execute_result"
    }
   ],
   "source": [
    "im_file_name_split = im_file_path.split('/')\n",
    "length = len(im_file_name_split)\n",
    "file_name = im_file_name_split[length-1]\n",
    "file_name"
   ]
  },
  {
   "cell_type": "markdown",
   "metadata": {},
   "source": [
    "*Step 5: Creating a mask for labeling*"
   ]
  },
  {
   "cell_type": "code",
   "execution_count": 50,
   "metadata": {},
   "outputs": [],
   "source": [
    "mask_b = np.zeros(np.asarray(img.shape)+2, dtype=np.uint8)\n",
    "mask_o = np.zeros(np.asarray(img.shape)+2, dtype=np.uint8)\n",
    "mask_g = np.zeros(np.asarray(img.shape)+2, dtype=np.uint8)\n",
    "mask_r = np.zeros(np.asarray(img.shape)+2, dtype=np.uint8)\n",
    "mask_p = np.zeros(np.asarray(img.shape)+2, dtype=np.uint8)"
   ]
  },
  {
   "cell_type": "code",
   "execution_count": 51,
   "metadata": {},
   "outputs": [
    {
     "ename": "NameError",
     "evalue": "name 'mask' is not defined",
     "output_type": "error",
     "traceback": [
      "\u001b[0;31m---------------------------------------------------------------------------\u001b[0m",
      "\u001b[0;31mNameError\u001b[0m                                 Traceback (most recent call last)",
      "\u001b[0;32m<ipython-input-51-296895b18211>\u001b[0m in \u001b[0;36m<module>\u001b[0;34m\u001b[0m\n\u001b[1;32m      1\u001b[0m \u001b[0mstart_pt\u001b[0m \u001b[0;34m=\u001b[0m \u001b[0;34m(\u001b[0m\u001b[0;36m14\u001b[0m\u001b[0;34m,\u001b[0m\u001b[0;36m111\u001b[0m\u001b[0;34m)\u001b[0m\u001b[0;34m\u001b[0m\u001b[0;34m\u001b[0m\u001b[0m\n\u001b[0;32m----> 2\u001b[0;31m \u001b[0mcv2\u001b[0m\u001b[0;34m.\u001b[0m\u001b[0mfloodFill\u001b[0m\u001b[0;34m(\u001b[0m\u001b[0mimg\u001b[0m\u001b[0;34m,\u001b[0m \u001b[0mmask\u001b[0m\u001b[0;34m,\u001b[0m \u001b[0mstart_pt\u001b[0m\u001b[0;34m,\u001b[0m \u001b[0;34m(\u001b[0m\u001b[0;36m0\u001b[0m\u001b[0;34m,\u001b[0m\u001b[0;36m0\u001b[0m\u001b[0;34m,\u001b[0m\u001b[0;36m255\u001b[0m\u001b[0;34m)\u001b[0m\u001b[0;34m,\u001b[0m \u001b[0mflags\u001b[0m\u001b[0;34m=\u001b[0m\u001b[0;36m4\u001b[0m\u001b[0;34m)\u001b[0m\u001b[0;34m\u001b[0m\u001b[0;34m\u001b[0m\u001b[0m\n\u001b[0m",
      "\u001b[0;31mNameError\u001b[0m: name 'mask' is not defined"
     ]
    }
   ],
   "source": [
    "start_pt = (14,111)\n",
    "cv2.floodFill(img, mask, start_pt, (0,0,255), flags=4)"
   ]
  },
  {
   "cell_type": "code",
   "execution_count": 52,
   "metadata": {},
   "outputs": [
    {
     "ename": "NameError",
     "evalue": "name 'mask' is not defined",
     "output_type": "error",
     "traceback": [
      "\u001b[0;31m---------------------------------------------------------------------------\u001b[0m",
      "\u001b[0;31mNameError\u001b[0m                                 Traceback (most recent call last)",
      "\u001b[0;32m<ipython-input-52-18b8e1629486>\u001b[0m in \u001b[0;36m<module>\u001b[0;34m\u001b[0m\n\u001b[0;32m----> 1\u001b[0;31m \u001b[0mmask\u001b[0m \u001b[0;34m=\u001b[0m \u001b[0mmask\u001b[0m\u001b[0;34m[\u001b[0m\u001b[0;36m1\u001b[0m\u001b[0;34m:\u001b[0m\u001b[0;34m-\u001b[0m\u001b[0;36m1\u001b[0m\u001b[0;34m,\u001b[0m \u001b[0;36m1\u001b[0m\u001b[0;34m:\u001b[0m\u001b[0;34m-\u001b[0m\u001b[0;36m1\u001b[0m\u001b[0;34m]\u001b[0m\u001b[0;34m\u001b[0m\u001b[0;34m\u001b[0m\u001b[0m\n\u001b[0m",
      "\u001b[0;31mNameError\u001b[0m: name 'mask' is not defined"
     ]
    }
   ],
   "source": [
    "mask = mask[1:-1, 1:-1]"
   ]
  },
  {
   "cell_type": "code",
   "execution_count": 165,
   "metadata": {},
   "outputs": [
    {
     "data": {
      "text/plain": [
       "<matplotlib.image.AxesImage at 0x125530110>"
      ]
     },
     "execution_count": 165,
     "metadata": {},
     "output_type": "execute_result"
    },
    {
     "data": {
      "image/png": "[encoded data removed]",
      "text/plain": [
       "<Figure size 432x288 with 1 Axes>"
      ]
     },
     "metadata": {
      "needs_background": "light"
     },
     "output_type": "display_data"
    }
   ],
   "source": [
    "plt.imshow(mask, cmap='gray')"
   ]
  },
  {
   "cell_type": "markdown",
   "metadata": {},
   "source": [
    "*Step X: Automating the Process*"
   ]
  },
  {
   "cell_type": "markdown",
   "metadata": {},
   "source": [
    "*Step 1: Import need_to_label_list*"
   ]
  },
  {
   "cell_type": "code",
   "execution_count": 53,
   "metadata": {},
   "outputs": [
    {
     "data": {
      "text/html": [
       "<div>\n",
       "<style scoped>\n",
       "    .dataframe tbody tr th:only-of-type {\n",
       "        vertical-align: middle;\n",
       "    }\n",
       "\n",
       "    .dataframe tbody tr th {\n",
       "        vertical-align: top;\n",
       "    }\n",
       "\n",
       "    .dataframe thead th {\n",
       "        text-align: right;\n",
       "    }\n",
       "</style>\n",
       "<table border=\"1\" class=\"dataframe\">\n",
       "  <thead>\n",
       "    <tr style=\"text-align: right;\">\n",
       "      <th></th>\n",
       "      <th>Image file path</th>\n",
       "      <th>Image Label Path</th>\n",
       "    </tr>\n",
       "  </thead>\n",
       "  <tbody>\n",
       "    <tr>\n",
       "      <td>0</td>\n",
       "      <td>/Users/hhelmbre/Desktop/KH_OGD_ferret/Iba1/fem...</td>\n",
       "      <td>/Users/hhelmbre/Desktop/KH_OGD_ferret/Iba1/fem...</td>\n",
       "    </tr>\n",
       "    <tr>\n",
       "      <td>1</td>\n",
       "      <td>/Users/hhelmbre/Desktop/KH_OGD_ferret/Iba1/fem...</td>\n",
       "      <td>/Users/hhelmbre/Desktop/KH_OGD_ferret/Iba1/fem...</td>\n",
       "    </tr>\n",
       "    <tr>\n",
       "      <td>2</td>\n",
       "      <td>/Users/hhelmbre/Desktop/KH_OGD_ferret/Iba1/fem...</td>\n",
       "      <td>/Users/hhelmbre/Desktop/KH_OGD_ferret/Iba1/fem...</td>\n",
       "    </tr>\n",
       "    <tr>\n",
       "      <td>3</td>\n",
       "      <td>/Users/hhelmbre/Desktop/KH_OGD_ferret/Iba1/mal...</td>\n",
       "      <td>/Users/hhelmbre/Desktop/KH_OGD_ferret/Iba1/mal...</td>\n",
       "    </tr>\n",
       "    <tr>\n",
       "      <td>4</td>\n",
       "      <td>/Users/hhelmbre/Desktop/KH_OGD_ferret/Iba1/mal...</td>\n",
       "      <td>/Users/hhelmbre/Desktop/KH_OGD_ferret/Iba1/mal...</td>\n",
       "    </tr>\n",
       "  </tbody>\n",
       "</table>\n",
       "</div>"
      ],
      "text/plain": [
       "                                     Image file path  \\\n",
       "0  /Users/hhelmbre/Desktop/KH_OGD_ferret/Iba1/fem...   \n",
       "1  /Users/hhelmbre/Desktop/KH_OGD_ferret/Iba1/fem...   \n",
       "2  /Users/hhelmbre/Desktop/KH_OGD_ferret/Iba1/fem...   \n",
       "3  /Users/hhelmbre/Desktop/KH_OGD_ferret/Iba1/mal...   \n",
       "4  /Users/hhelmbre/Desktop/KH_OGD_ferret/Iba1/mal...   \n",
       "\n",
       "                                    Image Label Path  \n",
       "0  /Users/hhelmbre/Desktop/KH_OGD_ferret/Iba1/fem...  \n",
       "1  /Users/hhelmbre/Desktop/KH_OGD_ferret/Iba1/fem...  \n",
       "2  /Users/hhelmbre/Desktop/KH_OGD_ferret/Iba1/fem...  \n",
       "3  /Users/hhelmbre/Desktop/KH_OGD_ferret/Iba1/mal...  \n",
       "4  /Users/hhelmbre/Desktop/KH_OGD_ferret/Iba1/mal...  "
      ]
     },
     "execution_count": 53,
     "metadata": {},
     "output_type": "execute_result"
    }
   ],
   "source": [
    "need_to_label_list_file_path = '/Users/hhelmbre/Desktop/KH_OGD_ferret/extra/need_to_label_list_foroverall_twlight.csv'\n",
    "need_to_label_list = pd.read_csv(need_to_label_list_file_path)\n",
    "need_to_label_list"
   ]
  },
  {
   "cell_type": "code",
   "execution_count": 56,
   "metadata": {},
   "outputs": [],
   "source": [
    "label_save_file_path = '/Users/hhelmbre/Desktop/KH_OGD_ferret/labeledimsoverall_twilight'"
   ]
  },
  {
   "cell_type": "code",
   "execution_count": null,
   "metadata": {},
   "outputs": [],
   "source": []
  },
  {
   "cell_type": "markdown",
   "metadata": {},
   "source": [
    "*Add in a step here to visualize the shape mode labels with the colors I chose*"
   ]
  },
  {
   "cell_type": "code",
   "execution_count": 10,
   "metadata": {},
   "outputs": [],
   "source": [
    "def c(x):\n",
    "   col = plt.cm.twilight(x)\n",
    "   fig, ax = plt.subplots(figsize=(1,1))\n",
    "   fig.set_facecolor(col)\n",
    "   ax.axis(\"off\")\n",
    "   plt.show()"
   ]
  },
  {
   "cell_type": "code",
   "execution_count": 60,
   "metadata": {},
   "outputs": [
    {
     "name": "stdout",
     "output_type": "stream",
     "text": [
      "0.0\n"
     ]
    },
    {
     "data": {
      "image/png": "[encoded data removed]",
      "text/plain": [
       "<Figure size 72x72 with 1 Axes>"
      ]
     },
     "metadata": {},
     "output_type": "display_data"
    },
    {
     "name": "stdout",
     "output_type": "stream",
     "text": [
      "0.04736842105263158\n"
     ]
    },
    {
     "data": {
      "image/png": "[encoded data removed]",
      "text/plain": [
       "<Figure size 72x72 with 1 Axes>"
      ]
     },
     "metadata": {},
     "output_type": "display_data"
    },
    {
     "name": "stdout",
     "output_type": "stream",
     "text": [
      "0.09473684210526316\n"
     ]
    },
    {
     "data": {
      "image/png": "[encoded data removed]",
      "text/plain": [
       "<Figure size 72x72 with 1 Axes>"
      ]
     },
     "metadata": {},
     "output_type": "display_data"
    },
    {
     "name": "stdout",
     "output_type": "stream",
     "text": [
      "0.14210526315789473\n"
     ]
    },
    {
     "data": {
      "image/png": "[encoded data removed]",
      "text/plain": [
       "<Figure size 72x72 with 1 Axes>"
      ]
     },
     "metadata": {},
     "output_type": "display_data"
    },
    {
     "name": "stdout",
     "output_type": "stream",
     "text": [
      "0.18947368421052632\n"
     ]
    },
    {
     "data": {
      "image/png": "[encoded data removed]",
      "text/plain": [
       "<Figure size 72x72 with 1 Axes>"
      ]
     },
     "metadata": {},
     "output_type": "display_data"
    },
    {
     "name": "stdout",
     "output_type": "stream",
     "text": [
      "0.2368421052631579\n"
     ]
    },
    {
     "data": {
      "image/png": "[encoded data removed]",
      "text/plain": [
       "<Figure size 72x72 with 1 Axes>"
      ]
     },
     "metadata": {},
     "output_type": "display_data"
    },
    {
     "name": "stdout",
     "output_type": "stream",
     "text": [
      "0.28421052631578947\n"
     ]
    },
    {
     "data": {
      "image/png": "[encoded data removed]",
      "text/plain": [
       "<Figure size 72x72 with 1 Axes>"
      ]
     },
     "metadata": {},
     "output_type": "display_data"
    },
    {
     "name": "stdout",
     "output_type": "stream",
     "text": [
      "0.3315789473684211\n"
     ]
    },
    {
     "data": {
      "image/png": "[encoded data removed]",
      "text/plain": [
       "<Figure size 72x72 with 1 Axes>"
      ]
     },
     "metadata": {},
     "output_type": "display_data"
    },
    {
     "name": "stdout",
     "output_type": "stream",
     "text": [
      "0.37894736842105264\n"
     ]
    },
    {
     "data": {
      "image/png": "[encoded data removed]",
      "text/plain": [
       "<Figure size 72x72 with 1 Axes>"
      ]
     },
     "metadata": {},
     "output_type": "display_data"
    },
    {
     "name": "stdout",
     "output_type": "stream",
     "text": [
      "0.4263157894736842\n"
     ]
    },
    {
     "data": {
      "image/png": "[encoded data removed]",
      "text/plain": [
       "<Figure size 72x72 with 1 Axes>"
      ]
     },
     "metadata": {},
     "output_type": "display_data"
    },
    {
     "name": "stdout",
     "output_type": "stream",
     "text": [
      "0.4736842105263158\n"
     ]
    },
    {
     "data": {
      "image/png": "[encoded data removed]",
      "text/plain": [
       "<Figure size 72x72 with 1 Axes>"
      ]
     },
     "metadata": {},
     "output_type": "display_data"
    },
    {
     "name": "stdout",
     "output_type": "stream",
     "text": [
      "0.5210526315789474\n"
     ]
    },
    {
     "data": {
      "image/png": "[encoded data removed]",
      "text/plain": [
       "<Figure size 72x72 with 1 Axes>"
      ]
     },
     "metadata": {},
     "output_type": "display_data"
    },
    {
     "name": "stdout",
     "output_type": "stream",
     "text": [
      "0.5684210526315789\n"
     ]
    },
    {
     "data": {
      "image/png": "[encoded data removed]",
      "text/plain": [
       "<Figure size 72x72 with 1 Axes>"
      ]
     },
     "metadata": {},
     "output_type": "display_data"
    },
    {
     "name": "stdout",
     "output_type": "stream",
     "text": [
      "0.6157894736842106\n"
     ]
    },
    {
     "data": {
      "image/png": "[encoded data removed]",
      "text/plain": [
       "<Figure size 72x72 with 1 Axes>"
      ]
     },
     "metadata": {},
     "output_type": "display_data"
    },
    {
     "name": "stdout",
     "output_type": "stream",
     "text": [
      "0.6631578947368422\n"
     ]
    },
    {
     "data": {
      "image/png": "[encoded data removed]",
      "text/plain": [
       "<Figure size 72x72 with 1 Axes>"
      ]
     },
     "metadata": {},
     "output_type": "display_data"
    },
    {
     "name": "stdout",
     "output_type": "stream",
     "text": [
      "0.7105263157894737\n"
     ]
    },
    {
     "data": {
      "image/png": "[encoded data removed]",
      "text/plain": [
       "<Figure size 72x72 with 1 Axes>"
      ]
     },
     "metadata": {},
     "output_type": "display_data"
    },
    {
     "name": "stdout",
     "output_type": "stream",
     "text": [
      "0.7578947368421053\n"
     ]
    },
    {
     "data": {
      "image/png": "[encoded data removed]",
      "text/plain": [
       "<Figure size 72x72 with 1 Axes>"
      ]
     },
     "metadata": {},
     "output_type": "display_data"
    },
    {
     "name": "stdout",
     "output_type": "stream",
     "text": [
      "0.8052631578947369\n"
     ]
    },
    {
     "data": {
      "image/png": "[encoded data removed]",
      "text/plain": [
       "<Figure size 72x72 with 1 Axes>"
      ]
     },
     "metadata": {},
     "output_type": "display_data"
    },
    {
     "name": "stdout",
     "output_type": "stream",
     "text": [
      "0.8526315789473684\n"
     ]
    },
    {
     "data": {
      "image/png": "[encoded data removed]",
      "text/plain": [
       "<Figure size 72x72 with 1 Axes>"
      ]
     },
     "metadata": {},
     "output_type": "display_data"
    },
    {
     "name": "stdout",
     "output_type": "stream",
     "text": [
      "0.9\n"
     ]
    },
    {
     "data": {
      "image/png": "[encoded data removed]",
      "text/plain": [
       "<Figure size 72x72 with 1 Axes>"
      ]
     },
     "metadata": {},
     "output_type": "display_data"
    }
   ],
   "source": [
    "color_list = np.linspace(0,.9,20)\n",
    "for options in color_list:\n",
    "    print(options)\n",
    "    c(options)"
   ]
  },
  {
   "cell_type": "markdown",
   "metadata": {},
   "source": [
    "*The code to actually recolor the images*"
   ]
  },
  {
   "cell_type": "code",
   "execution_count": 64,
   "metadata": {},
   "outputs": [
    {
     "name": "stdout",
     "output_type": "stream",
     "text": [
      "xy01c1_threshold.png\n",
      "xy03c1_threshold.png\n",
      "xy02c1_threshold.png\n",
      "xy01c1_threshold.png\n",
      "xy02c1_threshold.png\n"
     ]
    },
    {
     "data": {
      "image/png": "[encoded data removed]",
      "text/plain": [
       "<Figure size 432x288 with 1 Axes>"
      ]
     },
     "metadata": {},
     "output_type": "display_data"
    }
   ],
   "source": [
    "k = 0\n",
    "for images in range(len(need_to_label_list)):\n",
    "    \n",
    "    #Reading in the image and its labels\n",
    "    im_file_path = need_to_label_list['Image file path'][k]\n",
    "    img = mpimg.imread(im_file_path)\n",
    "    csv_df = pd.read_csv(need_to_label_list['Image Label Path'][k])\n",
    "    \n",
    "    #Getting the file path from the file name\n",
    "    im_file_name_split = im_file_path.split('/')\n",
    "    length = len(im_file_name_split)\n",
    "    file_name = im_file_name_split[length-1]\n",
    "    print(file_name)\n",
    "    \n",
    "    mask = np.zeros(np.asarray(img.shape)+2, dtype=np.uint8)\n",
    "    \n",
    "    csv_df = csv_df[csv_df.Filename == file_name]\n",
    "    csv_df = csv_df.reset_index(drop=True)\n",
    "    \n",
    "    for shapes in range(len(csv_df)):\n",
    "        shape_mode = (csv_df['Shape mode'][shapes]).astype(int)\n",
    "        start_pt = (csv_df['X'][shapes], csv_df['Y'][shapes])\n",
    "        area =csv_df['Area'][shapes]\n",
    "        \n",
    "        if img[csv_df['Y'][shapes]][csv_df['X'][shapes]]== 1:\n",
    "            if shape_mode==1: #0.5\n",
    "                cv2.floodFill(img, mask, start_pt, 0, flags=0)\n",
    "                mask[mask == 1] = 128\n",
    "\n",
    "            elif shape_mode==2: #0.047\n",
    "                cv2.floodFill(img, mask, start_pt, 0, flags=0)\n",
    "                mask[mask == 1] = 12\n",
    "            elif shape_mode==3: #0.7\n",
    "                cv2.floodFill(img, mask, start_pt, 0, flags=0)\n",
    "                mask[mask == 1] = 179\n",
    "\n",
    "            elif shape_mode==4: #0.33\n",
    "                cv2.floodFill(img, mask, start_pt, 0, flags=0)\n",
    "                mask[mask == 1] = 85\n",
    "\n",
    "            elif shape_mode==5: #0.9\n",
    "                cv2.floodFill(img, mask, start_pt, 0, flags=0)\n",
    "                mask[mask == 1] = 230\n",
    "\n",
    "            if shapes == len(csv_df)-1:\n",
    "                mask = mask[1:-1, 1:-1]\n",
    "                mask[0][0] = 255\n",
    "                \n",
    "                plt.imshow(mask,cmap='twilight')\n",
    "                plt.tick_params(\n",
    "                    axis='x',\n",
    "                    which='both',\n",
    "                    bottom=False,\n",
    "                    top=False,\n",
    "                    labelbottom=False)\n",
    "                plt.yticks([])\n",
    "                plt.savefig(str(label_save_file_path + str(k) + file_name), bbox_inches = 'tight',\n",
    "    pad_inches = 0)\n",
    "\n",
    "                #img_to_save = Image.fromarray(mask)\n",
    "                #img_to_save.save(str(label_save_file_path + str(k) + file_name))\n",
    "\n",
    "    \n",
    "    k += 1"
   ]
  },
  {
   "cell_type": "markdown",
   "metadata": {},
   "source": [
    "*Step 3: Environment Specs*"
   ]
  },
  {
   "cell_type": "code",
   "execution_count": 59,
   "metadata": {},
   "outputs": [
    {
     "data": {
      "text/html": [
       "<div>\n",
       "<style scoped>\n",
       "    .dataframe tbody tr th:only-of-type {\n",
       "        vertical-align: middle;\n",
       "    }\n",
       "\n",
       "    .dataframe tbody tr th {\n",
       "        vertical-align: top;\n",
       "    }\n",
       "\n",
       "    .dataframe thead th {\n",
       "        text-align: right;\n",
       "    }\n",
       "</style>\n",
       "<table border=\"1\" class=\"dataframe\">\n",
       "  <thead>\n",
       "    <tr style=\"text-align: right;\">\n",
       "      <th></th>\n",
       "      <th>Filename</th>\n",
       "      <th>ImageID</th>\n",
       "      <th>ObjectID</th>\n",
       "      <th>X</th>\n",
       "      <th>Y</th>\n",
       "      <th>Area</th>\n",
       "      <th>Perimeter</th>\n",
       "      <th>Major Axis</th>\n",
       "      <th>Minor Axis</th>\n",
       "      <th>Circularity</th>\n",
       "      <th>Aspect Ratio</th>\n",
       "      <th>Shape mode</th>\n",
       "      <th>Contour fit</th>\n",
       "    </tr>\n",
       "  </thead>\n",
       "  <tbody>\n",
       "    <tr>\n",
       "      <td>0</td>\n",
       "      <td>xy02c1_threshold.png</td>\n",
       "      <td>2</td>\n",
       "      <td>1</td>\n",
       "      <td>21</td>\n",
       "      <td>3</td>\n",
       "      <td>154</td>\n",
       "      <td>52.556349</td>\n",
       "      <td>21.896661</td>\n",
       "      <td>9.579868</td>\n",
       "      <td>0.700616</td>\n",
       "      <td>2.285696</td>\n",
       "      <td>2.0</td>\n",
       "      <td>8.75</td>\n",
       "    </tr>\n",
       "    <tr>\n",
       "      <td>1</td>\n",
       "      <td>xy02c1_threshold.png</td>\n",
       "      <td>2</td>\n",
       "      <td>2</td>\n",
       "      <td>107</td>\n",
       "      <td>5</td>\n",
       "      <td>91</td>\n",
       "      <td>55.870058</td>\n",
       "      <td>22.018528</td>\n",
       "      <td>7.685603</td>\n",
       "      <td>0.366347</td>\n",
       "      <td>2.864906</td>\n",
       "      <td>5.0</td>\n",
       "      <td>7.13</td>\n",
       "    </tr>\n",
       "    <tr>\n",
       "      <td>2</td>\n",
       "      <td>xy02c1_threshold.png</td>\n",
       "      <td>2</td>\n",
       "      <td>3</td>\n",
       "      <td>184</td>\n",
       "      <td>3</td>\n",
       "      <td>83</td>\n",
       "      <td>58.384776</td>\n",
       "      <td>22.211998</td>\n",
       "      <td>8.469891</td>\n",
       "      <td>0.305977</td>\n",
       "      <td>2.622466</td>\n",
       "      <td>3.0</td>\n",
       "      <td>6.26</td>\n",
       "    </tr>\n",
       "    <tr>\n",
       "      <td>3</td>\n",
       "      <td>xy02c1_threshold.png</td>\n",
       "      <td>2</td>\n",
       "      <td>4</td>\n",
       "      <td>211</td>\n",
       "      <td>48</td>\n",
       "      <td>3215</td>\n",
       "      <td>707.032575</td>\n",
       "      <td>99.837587</td>\n",
       "      <td>65.880145</td>\n",
       "      <td>0.080819</td>\n",
       "      <td>1.515443</td>\n",
       "      <td>1.0</td>\n",
       "      <td>9.63</td>\n",
       "    </tr>\n",
       "    <tr>\n",
       "      <td>4</td>\n",
       "      <td>xy02c1_threshold.png</td>\n",
       "      <td>2</td>\n",
       "      <td>5</td>\n",
       "      <td>232</td>\n",
       "      <td>4</td>\n",
       "      <td>212</td>\n",
       "      <td>63.970563</td>\n",
       "      <td>23.878207</td>\n",
       "      <td>12.203667</td>\n",
       "      <td>0.651007</td>\n",
       "      <td>1.956642</td>\n",
       "      <td>2.0</td>\n",
       "      <td>6.68</td>\n",
       "    </tr>\n",
       "    <tr>\n",
       "      <td>5</td>\n",
       "      <td>xy02c1_threshold.png</td>\n",
       "      <td>2</td>\n",
       "      <td>6</td>\n",
       "      <td>251</td>\n",
       "      <td>4</td>\n",
       "      <td>43</td>\n",
       "      <td>27.485281</td>\n",
       "      <td>12.664339</td>\n",
       "      <td>5.712759</td>\n",
       "      <td>0.715283</td>\n",
       "      <td>2.216852</td>\n",
       "      <td>3.0</td>\n",
       "      <td>6.08</td>\n",
       "    </tr>\n",
       "    <tr>\n",
       "      <td>6</td>\n",
       "      <td>xy02c1_threshold.png</td>\n",
       "      <td>2</td>\n",
       "      <td>7</td>\n",
       "      <td>64</td>\n",
       "      <td>29</td>\n",
       "      <td>28</td>\n",
       "      <td>21.485281</td>\n",
       "      <td>11.547660</td>\n",
       "      <td>4.120446</td>\n",
       "      <td>0.762230</td>\n",
       "      <td>2.802527</td>\n",
       "      <td>5.0</td>\n",
       "      <td>4.90</td>\n",
       "    </tr>\n",
       "    <tr>\n",
       "      <td>7</td>\n",
       "      <td>xy02c1_threshold.png</td>\n",
       "      <td>2</td>\n",
       "      <td>8</td>\n",
       "      <td>113</td>\n",
       "      <td>37</td>\n",
       "      <td>48</td>\n",
       "      <td>25.899495</td>\n",
       "      <td>10.670354</td>\n",
       "      <td>5.969059</td>\n",
       "      <td>0.899225</td>\n",
       "      <td>1.787611</td>\n",
       "      <td>4.0</td>\n",
       "      <td>4.14</td>\n",
       "    </tr>\n",
       "    <tr>\n",
       "      <td>8</td>\n",
       "      <td>xy02c1_threshold.png</td>\n",
       "      <td>2</td>\n",
       "      <td>9</td>\n",
       "      <td>44</td>\n",
       "      <td>50</td>\n",
       "      <td>209</td>\n",
       "      <td>103.497475</td>\n",
       "      <td>47.048451</td>\n",
       "      <td>10.132734</td>\n",
       "      <td>0.245187</td>\n",
       "      <td>4.643214</td>\n",
       "      <td>3.0</td>\n",
       "      <td>3.45</td>\n",
       "    </tr>\n",
       "    <tr>\n",
       "      <td>9</td>\n",
       "      <td>xy02c1_threshold.png</td>\n",
       "      <td>2</td>\n",
       "      <td>10</td>\n",
       "      <td>151</td>\n",
       "      <td>62</td>\n",
       "      <td>586</td>\n",
       "      <td>104.840620</td>\n",
       "      <td>32.691920</td>\n",
       "      <td>24.253011</td>\n",
       "      <td>0.669959</td>\n",
       "      <td>1.347953</td>\n",
       "      <td>5.0</td>\n",
       "      <td>2.83</td>\n",
       "    </tr>\n",
       "    <tr>\n",
       "      <td>10</td>\n",
       "      <td>xy02c1_threshold.png</td>\n",
       "      <td>2</td>\n",
       "      <td>11</td>\n",
       "      <td>81</td>\n",
       "      <td>73</td>\n",
       "      <td>626</td>\n",
       "      <td>108.396970</td>\n",
       "      <td>36.124042</td>\n",
       "      <td>23.068575</td>\n",
       "      <td>0.669499</td>\n",
       "      <td>1.565942</td>\n",
       "      <td>5.0</td>\n",
       "      <td>2.97</td>\n",
       "    </tr>\n",
       "    <tr>\n",
       "      <td>11</td>\n",
       "      <td>xy02c1_threshold.png</td>\n",
       "      <td>2</td>\n",
       "      <td>12</td>\n",
       "      <td>2</td>\n",
       "      <td>65</td>\n",
       "      <td>66</td>\n",
       "      <td>38.278175</td>\n",
       "      <td>18.216380</td>\n",
       "      <td>4.953229</td>\n",
       "      <td>0.566046</td>\n",
       "      <td>3.677678</td>\n",
       "      <td>3.0</td>\n",
       "      <td>3.29</td>\n",
       "    </tr>\n",
       "    <tr>\n",
       "      <td>12</td>\n",
       "      <td>xy02c1_threshold.png</td>\n",
       "      <td>2</td>\n",
       "      <td>13</td>\n",
       "      <td>31</td>\n",
       "      <td>85</td>\n",
       "      <td>472</td>\n",
       "      <td>82.911688</td>\n",
       "      <td>28.645676</td>\n",
       "      <td>21.173658</td>\n",
       "      <td>0.862820</td>\n",
       "      <td>1.352892</td>\n",
       "      <td>5.0</td>\n",
       "      <td>1.66</td>\n",
       "    </tr>\n",
       "    <tr>\n",
       "      <td>13</td>\n",
       "      <td>xy02c1_threshold.png</td>\n",
       "      <td>2</td>\n",
       "      <td>14</td>\n",
       "      <td>151</td>\n",
       "      <td>95</td>\n",
       "      <td>542</td>\n",
       "      <td>94.225397</td>\n",
       "      <td>29.304696</td>\n",
       "      <td>24.372183</td>\n",
       "      <td>0.767137</td>\n",
       "      <td>1.202383</td>\n",
       "      <td>3.0</td>\n",
       "      <td>2.47</td>\n",
       "    </tr>\n",
       "    <tr>\n",
       "      <td>14</td>\n",
       "      <td>xy02c1_threshold.png</td>\n",
       "      <td>2</td>\n",
       "      <td>15</td>\n",
       "      <td>243</td>\n",
       "      <td>102</td>\n",
       "      <td>421</td>\n",
       "      <td>102.568542</td>\n",
       "      <td>30.733457</td>\n",
       "      <td>19.746777</td>\n",
       "      <td>0.502879</td>\n",
       "      <td>1.556378</td>\n",
       "      <td>4.0</td>\n",
       "      <td>5.31</td>\n",
       "    </tr>\n",
       "    <tr>\n",
       "      <td>15</td>\n",
       "      <td>xy02c1_threshold.png</td>\n",
       "      <td>2</td>\n",
       "      <td>16</td>\n",
       "      <td>164</td>\n",
       "      <td>146</td>\n",
       "      <td>1106</td>\n",
       "      <td>147.095454</td>\n",
       "      <td>44.860629</td>\n",
       "      <td>33.037033</td>\n",
       "      <td>0.642342</td>\n",
       "      <td>1.357889</td>\n",
       "      <td>3.0</td>\n",
       "      <td>2.36</td>\n",
       "    </tr>\n",
       "    <tr>\n",
       "      <td>16</td>\n",
       "      <td>xy02c1_threshold.png</td>\n",
       "      <td>2</td>\n",
       "      <td>17</td>\n",
       "      <td>96</td>\n",
       "      <td>158</td>\n",
       "      <td>409</td>\n",
       "      <td>100.426407</td>\n",
       "      <td>28.532418</td>\n",
       "      <td>20.181879</td>\n",
       "      <td>0.509609</td>\n",
       "      <td>1.413764</td>\n",
       "      <td>1.0</td>\n",
       "      <td>4.41</td>\n",
       "    </tr>\n",
       "    <tr>\n",
       "      <td>17</td>\n",
       "      <td>xy02c1_threshold.png</td>\n",
       "      <td>2</td>\n",
       "      <td>18</td>\n",
       "      <td>35</td>\n",
       "      <td>160</td>\n",
       "      <td>25</td>\n",
       "      <td>19.485281</td>\n",
       "      <td>10.144086</td>\n",
       "      <td>3.841239</td>\n",
       "      <td>0.827440</td>\n",
       "      <td>2.640837</td>\n",
       "      <td>3.0</td>\n",
       "      <td>5.07</td>\n",
       "    </tr>\n",
       "    <tr>\n",
       "      <td>18</td>\n",
       "      <td>xy02c1_threshold.png</td>\n",
       "      <td>2</td>\n",
       "      <td>19</td>\n",
       "      <td>36</td>\n",
       "      <td>174</td>\n",
       "      <td>41</td>\n",
       "      <td>22.727922</td>\n",
       "      <td>12.036319</td>\n",
       "      <td>4.661825</td>\n",
       "      <td>0.997411</td>\n",
       "      <td>2.581890</td>\n",
       "      <td>3.0</td>\n",
       "      <td>4.13</td>\n",
       "    </tr>\n",
       "    <tr>\n",
       "      <td>19</td>\n",
       "      <td>xy02c1_threshold.png</td>\n",
       "      <td>2</td>\n",
       "      <td>20</td>\n",
       "      <td>201</td>\n",
       "      <td>186</td>\n",
       "      <td>80</td>\n",
       "      <td>34.384776</td>\n",
       "      <td>14.236505</td>\n",
       "      <td>7.366100</td>\n",
       "      <td>0.850291</td>\n",
       "      <td>1.932706</td>\n",
       "      <td>5.0</td>\n",
       "      <td>3.79</td>\n",
       "    </tr>\n",
       "    <tr>\n",
       "      <td>20</td>\n",
       "      <td>xy02c1_threshold.png</td>\n",
       "      <td>2</td>\n",
       "      <td>21</td>\n",
       "      <td>180</td>\n",
       "      <td>196</td>\n",
       "      <td>253</td>\n",
       "      <td>78.012193</td>\n",
       "      <td>21.210833</td>\n",
       "      <td>16.591717</td>\n",
       "      <td>0.522403</td>\n",
       "      <td>1.278399</td>\n",
       "      <td>3.0</td>\n",
       "      <td>5.23</td>\n",
       "    </tr>\n",
       "    <tr>\n",
       "      <td>21</td>\n",
       "      <td>xy02c1_threshold.png</td>\n",
       "      <td>2</td>\n",
       "      <td>22</td>\n",
       "      <td>235</td>\n",
       "      <td>197</td>\n",
       "      <td>472</td>\n",
       "      <td>78.183766</td>\n",
       "      <td>25.805795</td>\n",
       "      <td>23.351539</td>\n",
       "      <td>0.970328</td>\n",
       "      <td>1.105100</td>\n",
       "      <td>1.0</td>\n",
       "      <td>1.50</td>\n",
       "    </tr>\n",
       "    <tr>\n",
       "      <td>22</td>\n",
       "      <td>xy02c1_threshold.png</td>\n",
       "      <td>2</td>\n",
       "      <td>23</td>\n",
       "      <td>24</td>\n",
       "      <td>190</td>\n",
       "      <td>27</td>\n",
       "      <td>18.485281</td>\n",
       "      <td>7.859281</td>\n",
       "      <td>4.512277</td>\n",
       "      <td>0.992937</td>\n",
       "      <td>1.741755</td>\n",
       "      <td>3.0</td>\n",
       "      <td>3.73</td>\n",
       "    </tr>\n",
       "    <tr>\n",
       "      <td>23</td>\n",
       "      <td>xy02c1_threshold.png</td>\n",
       "      <td>2</td>\n",
       "      <td>24</td>\n",
       "      <td>32</td>\n",
       "      <td>194</td>\n",
       "      <td>25</td>\n",
       "      <td>16.485281</td>\n",
       "      <td>6.724679</td>\n",
       "      <td>4.846555</td>\n",
       "      <td>1.155998</td>\n",
       "      <td>1.387517</td>\n",
       "      <td>5.0</td>\n",
       "      <td>4.65</td>\n",
       "    </tr>\n",
       "    <tr>\n",
       "      <td>24</td>\n",
       "      <td>xy02c1_threshold.png</td>\n",
       "      <td>2</td>\n",
       "      <td>25</td>\n",
       "      <td>109</td>\n",
       "      <td>206</td>\n",
       "      <td>319</td>\n",
       "      <td>67.941125</td>\n",
       "      <td>25.224037</td>\n",
       "      <td>16.410240</td>\n",
       "      <td>0.868431</td>\n",
       "      <td>1.537091</td>\n",
       "      <td>3.0</td>\n",
       "      <td>1.70</td>\n",
       "    </tr>\n",
       "    <tr>\n",
       "      <td>25</td>\n",
       "      <td>xy02c1_threshold.png</td>\n",
       "      <td>2</td>\n",
       "      <td>26</td>\n",
       "      <td>232</td>\n",
       "      <td>253</td>\n",
       "      <td>35</td>\n",
       "      <td>23.692388</td>\n",
       "      <td>11.110456</td>\n",
       "      <td>5.047956</td>\n",
       "      <td>0.783538</td>\n",
       "      <td>2.200981</td>\n",
       "      <td>4.0</td>\n",
       "      <td>5.38</td>\n",
       "    </tr>\n",
       "  </tbody>\n",
       "</table>\n",
       "</div>"
      ],
      "text/plain": [
       "                Filename  ImageID  ObjectID    X    Y  Area   Perimeter  \\\n",
       "0   xy02c1_threshold.png        2         1   21    3   154   52.556349   \n",
       "1   xy02c1_threshold.png        2         2  107    5    91   55.870058   \n",
       "2   xy02c1_threshold.png        2         3  184    3    83   58.384776   \n",
       "3   xy02c1_threshold.png        2         4  211   48  3215  707.032575   \n",
       "4   xy02c1_threshold.png        2         5  232    4   212   63.970563   \n",
       "5   xy02c1_threshold.png        2         6  251    4    43   27.485281   \n",
       "6   xy02c1_threshold.png        2         7   64   29    28   21.485281   \n",
       "7   xy02c1_threshold.png        2         8  113   37    48   25.899495   \n",
       "8   xy02c1_threshold.png        2         9   44   50   209  103.497475   \n",
       "9   xy02c1_threshold.png        2        10  151   62   586  104.840620   \n",
       "10  xy02c1_threshold.png        2        11   81   73   626  108.396970   \n",
       "11  xy02c1_threshold.png        2        12    2   65    66   38.278175   \n",
       "12  xy02c1_threshold.png        2        13   31   85   472   82.911688   \n",
       "13  xy02c1_threshold.png        2        14  151   95   542   94.225397   \n",
       "14  xy02c1_threshold.png        2        15  243  102   421  102.568542   \n",
       "15  xy02c1_threshold.png        2        16  164  146  1106  147.095454   \n",
       "16  xy02c1_threshold.png        2        17   96  158   409  100.426407   \n",
       "17  xy02c1_threshold.png        2        18   35  160    25   19.485281   \n",
       "18  xy02c1_threshold.png        2        19   36  174    41   22.727922   \n",
       "19  xy02c1_threshold.png        2        20  201  186    80   34.384776   \n",
       "20  xy02c1_threshold.png        2        21  180  196   253   78.012193   \n",
       "21  xy02c1_threshold.png        2        22  235  197   472   78.183766   \n",
       "22  xy02c1_threshold.png        2        23   24  190    27   18.485281   \n",
       "23  xy02c1_threshold.png        2        24   32  194    25   16.485281   \n",
       "24  xy02c1_threshold.png        2        25  109  206   319   67.941125   \n",
       "25  xy02c1_threshold.png        2        26  232  253    35   23.692388   \n",
       "\n",
       "    Major Axis  Minor Axis  Circularity  Aspect Ratio  Shape mode  Contour fit  \n",
       "0    21.896661    9.579868     0.700616      2.285696         2.0         8.75  \n",
       "1    22.018528    7.685603     0.366347      2.864906         5.0         7.13  \n",
       "2    22.211998    8.469891     0.305977      2.622466         3.0         6.26  \n",
       "3    99.837587   65.880145     0.080819      1.515443         1.0         9.63  \n",
       "4    23.878207   12.203667     0.651007      1.956642         2.0         6.68  \n",
       "5    12.664339    5.712759     0.715283      2.216852         3.0         6.08  \n",
       "6    11.547660    4.120446     0.762230      2.802527         5.0         4.90  \n",
       "7    10.670354    5.969059     0.899225      1.787611         4.0         4.14  \n",
       "8    47.048451   10.132734     0.245187      4.643214         3.0         3.45  \n",
       "9    32.691920   24.253011     0.669959      1.347953         5.0         2.83  \n",
       "10   36.124042   23.068575     0.669499      1.565942         5.0         2.97  \n",
       "11   18.216380    4.953229     0.566046      3.677678         3.0         3.29  \n",
       "12   28.645676   21.173658     0.862820      1.352892         5.0         1.66  \n",
       "13   29.304696   24.372183     0.767137      1.202383         3.0         2.47  \n",
       "14   30.733457   19.746777     0.502879      1.556378         4.0         5.31  \n",
       "15   44.860629   33.037033     0.642342      1.357889         3.0         2.36  \n",
       "16   28.532418   20.181879     0.509609      1.413764         1.0         4.41  \n",
       "17   10.144086    3.841239     0.827440      2.640837         3.0         5.07  \n",
       "18   12.036319    4.661825     0.997411      2.581890         3.0         4.13  \n",
       "19   14.236505    7.366100     0.850291      1.932706         5.0         3.79  \n",
       "20   21.210833   16.591717     0.522403      1.278399         3.0         5.23  \n",
       "21   25.805795   23.351539     0.970328      1.105100         1.0         1.50  \n",
       "22    7.859281    4.512277     0.992937      1.741755         3.0         3.73  \n",
       "23    6.724679    4.846555     1.155998      1.387517         5.0         4.65  \n",
       "24   25.224037   16.410240     0.868431      1.537091         3.0         1.70  \n",
       "25   11.110456    5.047956     0.783538      2.200981         4.0         5.38  "
      ]
     },
     "execution_count": 59,
     "metadata": {},
     "output_type": "execute_result"
    }
   ],
   "source": [
    "csv_df"
   ]
  },
  {
   "cell_type": "code",
   "execution_count": 28,
   "metadata": {},
   "outputs": [
    {
     "data": {
      "text/plain": [
       "array([[0, 0, 0, ..., 0, 0, 0],\n",
       "       [0, 0, 0, ..., 0, 0, 0],\n",
       "       [0, 0, 0, ..., 0, 0, 0],\n",
       "       ...,\n",
       "       [0, 0, 0, ..., 0, 0, 0],\n",
       "       [0, 0, 0, ..., 0, 0, 0],\n",
       "       [0, 0, 0, ..., 0, 0, 0]], dtype=uint8)"
      ]
     },
     "execution_count": 28,
     "metadata": {},
     "output_type": "execute_result"
    }
   ],
   "source": [
    "mask"
   ]
  },
  {
   "cell_type": "code",
   "execution_count": 29,
   "metadata": {},
   "outputs": [],
   "source": [
    "u, indices = np.unique(mask, return_inverse=True)"
   ]
  },
  {
   "cell_type": "code",
   "execution_count": 30,
   "metadata": {},
   "outputs": [
    {
     "data": {
      "text/plain": [
       "array([  0,  20, 100, 255], dtype=uint8)"
      ]
     },
     "execution_count": 30,
     "metadata": {},
     "output_type": "execute_result"
    }
   ],
   "source": [
    "u"
   ]
  },
  {
   "cell_type": "code",
   "execution_count": 31,
   "metadata": {},
   "outputs": [
    {
     "data": {
      "text/plain": [
       "0"
      ]
     },
     "execution_count": 31,
     "metadata": {},
     "output_type": "execute_result"
    }
   ],
   "source": [
    "mask[0][0]"
   ]
  },
  {
   "cell_type": "code",
   "execution_count": null,
   "metadata": {},
   "outputs": [],
   "source": []
  }
 ],
 "metadata": {
  "kernelspec": {
   "display_name": "Python 3",
   "language": "python",
   "name": "python3"
  },
  "language_info": {
   "codemirror_mode": {
    "name": "ipython",
    "version": 3
   },
   "file_extension": ".py",
   "mimetype": "text/x-python",
   "name": "python",
   "nbconvert_exporter": "python",
   "pygments_lexer": "ipython3",
   "version": "3.7.4"
  }
 },
 "nbformat": 4,
 "nbformat_minor": 4
}
