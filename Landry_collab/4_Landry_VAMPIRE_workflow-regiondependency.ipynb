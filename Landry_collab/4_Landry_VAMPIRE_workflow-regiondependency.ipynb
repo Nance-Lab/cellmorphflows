{
 "cells": [
  {
   "cell_type": "markdown",
   "metadata": {},
   "source": [
    "# VAMPIRE WORKFLOW"
   ]
  },
  {
   "cell_type": "markdown",
   "metadata": {},
   "source": [
    "## Purpose: To split tile scans, pick training and testing image sets, and in the future run the full VAMPIRE workflow"
   ]
  },
  {
   "cell_type": "markdown",
   "metadata": {},
   "source": [
    "*Step 1: Import necessary packages*"
   ]
  },
  {
   "cell_type": "code",
   "execution_count": null,
   "metadata": {},
   "outputs": [],
   "source": [
    "import shutil, os\n",
    "\n",
    "from glob import glob\n",
    "\n",
    "import numpy as np\n",
    "import pandas as pd\n",
    "from skimage import io\n",
    "import matplotlib.pyplot as plt\n",
    "from PIL import Image\n",
    "from numpy.linalg import inv\n",
    "import image_slicer\n",
    "from sklearn.model_selection import train_test_split\n",
    "\n",
    "\n",
    "%matplotlib inline"
   ]
  },
  {
   "cell_type": "markdown",
   "metadata": {},
   "source": [
    "*Step 2: User Inputs*"
   ]
  },
  {
   "cell_type": "markdown",
   "metadata": {},
   "source": [
    "Manual Step:\n",
    "1. Move/Download the images for testing and training into a new folder\n",
    "2. Rename images to insure they include the condition somewhere in them\n",
    "3. Add a folder for each of your stains into the folder created in step 1\n",
    "4. Input the name of that folder into 'folder_location' below\n",
    "5. Input the names of the nuclear stain into 'stain1' and the cell stain into 'stain2' below\n",
    "6. Insert your testing conditions into 'condition1' and 'condition 2' below\n",
    "7. Insert the number of slices that you want to split each image into in 'slice number'\n",
    "8. Add a folder labeled 'train' to your desktop\n",
    "9. Add a folder labeled 'test' to your desktop\n",
    "10. Within folder 'test' create a folder for each of your conditions"
   ]
  },
  {
   "cell_type": "code",
   "execution_count": null,
   "metadata": {},
   "outputs": [],
   "source": [
    "#file names should be in the current working directory\n",
    "folder_location = '/Users/hhelmbre/Desktop/Kate_images'\n",
    "\n",
    "stain1 = 'dapi'\n",
    "stain2 = 'iba'\n",
    "\n",
    "#conditions are our four regions\n",
    "conditions = np.arange([1,15,1])\n",
    "conditions\n",
    "\n",
    "file_type_init = '.tif'\n",
    "file_type_new = '.png'\n",
    "\n",
    "slice_number = 4\n",
    "random_state_num = 12"
   ]
  },
  {
   "cell_type": "code",
   "execution_count": 134,
   "metadata": {},
   "outputs": [],
   "source": [
    "def folder_cleaner(folder, image_type):\n",
    "    k=0\n",
    "    for files in folder:\n",
    "        if image_type in str(files):\n",
    "            k+=1\n",
    "        else:\n",
    "            folder = np.delete(folder, np.argwhere(folder == str(files)))\n",
    "    return folder"
   ]
  },
  {
   "cell_type": "markdown",
   "metadata": {},
   "source": [
    "*Step 5: Split the Image(s) into tiles*"
   ]
  },
  {
   "cell_type": "code",
   "execution_count": 135,
   "metadata": {},
   "outputs": [],
   "source": [
    "arr = os.listdir(folder_location)\n",
    "file_list = np.asarray(arr)\n",
    "file_list = folder_cleaner(file_list, file_type_init)"
   ]
  },
  {
   "cell_type": "code",
   "execution_count": 136,
   "metadata": {},
   "outputs": [
    {
     "data": {
      "text/plain": [
       "array(['31.13_CA3_quant.tif', '31.10_CA3_quant.tif', '31.9_CA1_quant.tif',\n",
       "       '31.13_CA2_quant.tif', '31.10_CA2_quant.tif', '31.13_DG_quant.tif',\n",
       "       '31.13_CA1_quant.tif', '31.9_DG_quant.tif', '31.9_CA2_quant.tif',\n",
       "       '31.10_DG_quant.tif', '31.10_CA1_quant.tif', '31.9_CA3_quant.tif'],\n",
       "      dtype='<U19')"
      ]
     },
     "execution_count": 136,
     "metadata": {},
     "output_type": "execute_result"
    }
   ],
   "source": [
    "file_list"
   ]
  },
  {
   "cell_type": "code",
   "execution_count": 137,
   "metadata": {},
   "outputs": [],
   "source": [
    "for files in file_list:\n",
    "    im=io.imread(str(folder_location + '/' + files))\n",
    "    channel1 = im[0, :, :]\n",
    "    channel2= im[1, :, :]\n",
    "    filename = files.replace(file_type_init, \"\")\n",
    "    channel1 = Image.fromarray(np.uint16(channel1))\n",
    "    channel1.save(str(folder_location + '/' + filename + '_' + stain1 + file_type_new))\n",
    "    channel2 = Image.fromarray(np.uint16(channel2))\n",
    "    channel2.save(str(folder_location + '/' + filename + '_' + stain2 + file_type_new))"
   ]
  },
  {
   "cell_type": "markdown",
   "metadata": {},
   "source": [
    "*Step 6: Split the Images*"
   ]
  },
  {
   "cell_type": "code",
   "execution_count": 138,
   "metadata": {},
   "outputs": [],
   "source": [
    "arr = os.listdir(folder_location)\n",
    "file_list = np.asarray(arr)\n",
    "file_list = folder_cleaner(file_list, file_type_new)"
   ]
  },
  {
   "cell_type": "code",
   "execution_count": 139,
   "metadata": {},
   "outputs": [],
   "source": [
    "for files in file_list:\n",
    "    image_slicer.slice(str(folder_location + '/' + files), slice_number)"
   ]
  },
  {
   "cell_type": "markdown",
   "metadata": {},
   "source": [
    "*Moving the DAPI and Iba images into their own folders*"
   ]
  },
  {
   "cell_type": "code",
   "execution_count": 140,
   "metadata": {},
   "outputs": [],
   "source": [
    "arr = os.listdir(folder_location)\n",
    "file_list1 = np.asarray(arr)\n",
    "file_list1 = folder_cleaner(file_list1, file_type_new)"
   ]
  },
  {
   "cell_type": "code",
   "execution_count": 141,
   "metadata": {},
   "outputs": [],
   "source": [
    "for tiled_images in file_list1:\n",
    "    conditional = str(str(tiled_images)[-5].isdigit())\n",
    "    if conditional == 'True':\n",
    "        if stain1 in tiled_images:\n",
    "            shutil.move(str(folder_location + '/' + tiled_images), str(folder_location + '/' + stain1 + '/' + tiled_images))\n",
    "        elif stain2 in tiled_images:\n",
    "            shutil.move(str(folder_location + '/' + tiled_images), str(folder_location + '/' + stain2 + '/' + tiled_images))\n",
    "    else:\n",
    "        pass"
   ]
  },
  {
   "cell_type": "markdown",
   "metadata": {},
   "source": [
    "*Step 4: Choose training and testing data sets*"
   ]
  },
  {
   "cell_type": "code",
   "execution_count": 142,
   "metadata": {},
   "outputs": [],
   "source": [
    "arr = os.listdir(str(folder_location + '/' + stain1))\n",
    "file_list_train = np.asarray(arr)\n",
    "file_list_train = folder_cleaner(file_list_train, file_type_new)"
   ]
  },
  {
   "cell_type": "code",
   "execution_count": 143,
   "metadata": {},
   "outputs": [],
   "source": [
    "X_train, X_test= train_test_split(file_list_train, test_size=0.20, random_state=random_state_num)"
   ]
  },
  {
   "cell_type": "markdown",
   "metadata": {},
   "source": [
    "*Step X: Moving the testing and training DAPI data sets into test and train folders*"
   ]
  },
  {
   "cell_type": "code",
   "execution_count": 144,
   "metadata": {},
   "outputs": [],
   "source": [
    "for names in file_list_train:\n",
    "    if names in X_train[:]:\n",
    "        shutil.move(str(folder_location + '/'+ stain1 + '/' + names), '/Users/hhelmbre/Desktop/train')\n",
    "    else:\n",
    "        shutil.move(str(folder_location + '/' + stain1 + '/' + names), '/Users/hhelmbre/Desktop/test')"
   ]
  },
  {
   "cell_type": "markdown",
   "metadata": {},
   "source": [
    "*Step Y: Renaming the DAPI and Iba datasets according to proper VAMPIRE naming modality*"
   ]
  },
  {
   "cell_type": "code",
   "execution_count": 145,
   "metadata": {},
   "outputs": [],
   "source": [
    "arr_train1 = os.listdir('/Users/hhelmbre/Desktop/train')\n",
    "file_list_train1 = np.asarray(arr_train1)\n",
    "file_list_train1 = folder_cleaner(file_list_train1, file_type_new)"
   ]
  },
  {
   "cell_type": "code",
   "execution_count": 146,
   "metadata": {},
   "outputs": [],
   "source": [
    "arr_stain2 = os.listdir(str(folder_location + '/' + stain2))\n",
    "file_list_stain2 = np.asarray(arr_stain2)\n",
    "file_list_stain2 = folder_cleaner(file_list_stain2, file_type_new)"
   ]
  },
  {
   "cell_type": "code",
   "execution_count": 147,
   "metadata": {},
   "outputs": [],
   "source": [
    "im_number= 1\n",
    "for names in file_list_train1:\n",
    "    dapi_name = str(names)\n",
    "\n",
    "    \n",
    "    \n",
    "    if im_number < 10:\n",
    "        os.rename(str('/Users/hhelmbre/Desktop/train/' + names), str('/Users/hhelmbre/Desktop/train/' + 'xy' + '0' + str(im_number) + 'c2.png'))\n",
    "        \n",
    "    else:\n",
    "        os.rename(str('/Users/hhelmbre/Desktop/train/' + names), str('/Users/hhelmbre/Desktop/train/' + 'xy' + str(im_number) + 'c2.png'))\n",
    "    \n",
    "    iba_name = dapi_name.replace(stain1, stain2)\n",
    "    \n",
    "    if im_number < 10:\n",
    "        os.rename(str(folder_location + '/' + stain2 + '/' + iba_name), str('/Users/hhelmbre/Desktop/train/' + 'xy' + '0' + str(im_number) + 'c1.png'))\n",
    "        \n",
    "    else:\n",
    "        os.rename(str(folder_location + '/' + stain2 + '/' + iba_name), str('/Users/hhelmbre/Desktop/train/' + 'xy' + str(im_number) + 'c1.png'))\n",
    "        \n",
    "    \n",
    "    im_number +=1"
   ]
  },
  {
   "cell_type": "markdown",
   "metadata": {},
   "source": [
    "*Splitting the test group into the appropriate conditions*"
   ]
  },
  {
   "cell_type": "code",
   "execution_count": 148,
   "metadata": {},
   "outputs": [],
   "source": [
    "arr_test = os.listdir('/Users/hhelmbre/Desktop/test')\n",
    "file_list_test = np.asarray(arr_test)\n",
    "file_list_test = folder_cleaner(file_list_test, file_type_new)"
   ]
  },
  {
   "cell_type": "code",
   "execution_count": 149,
   "metadata": {},
   "outputs": [],
   "source": [
    "for test_images in file_list_test:\n",
    "    if condition1 in test_images:\n",
    "        shutil.move(str('/Users/hhelmbre/Desktop/test/' + test_images), str('/Users/hhelmbre/Desktop/test/' + condition1 + '/' + test_images))\n",
    "    elif condition2 in test_images:\n",
    "        shutil.move(str('/Users/hhelmbre/Desktop/test/' + test_images), str('/Users/hhelmbre/Desktop/test/' + condition2 + '/' + test_images))\n",
    "    elif condition3 in test_images:\n",
    "        shutil.move(str('/Users/hhelmbre/Desktop/test/' + test_images), str('/Users/hhelmbre/Desktop/test/' + condition3 + '/' + test_images))\n",
    "    elif condition4 in test_images:\n",
    "        shutil.move(str('/Users/hhelmbre/Desktop/test/' + test_images), str('/Users/hhelmbre/Desktop/test/' + condition4 + '/' + test_images))\n",
    "    else:\n",
    "        pass"
   ]
  },
  {
   "cell_type": "markdown",
   "metadata": {},
   "source": [
    "*Step x: Renaming the test images and getting their appropriate iba stain*\n",
    "\n"
   ]
  },
  {
   "cell_type": "code",
   "execution_count": 150,
   "metadata": {},
   "outputs": [],
   "source": [
    "arr_test_condition1 = os.listdir(str('/Users/hhelmbre/Desktop/test/' + condition1))\n",
    "file_list_test_condition1 = np.asarray(arr_test_condition1)\n",
    "file_list_test_condition1 = folder_cleaner(file_list_test_condition1, file_type_new)"
   ]
  },
  {
   "cell_type": "code",
   "execution_count": 151,
   "metadata": {},
   "outputs": [],
   "source": [
    "arr_test_condition2 = os.listdir(str('/Users/hhelmbre/Desktop/test/' + condition2))\n",
    "file_list_test_condition2 = np.asarray(arr_test_condition2)\n",
    "file_list_test_condition2 = folder_cleaner(file_list_test_condition2, file_type_new)"
   ]
  },
  {
   "cell_type": "code",
   "execution_count": 152,
   "metadata": {},
   "outputs": [],
   "source": [
    "arr_test_condition3 = os.listdir(str('/Users/hhelmbre/Desktop/test/' + condition3))\n",
    "file_list_test_condition3 = np.asarray(arr_test_condition3)\n",
    "file_list_test_condition3 = folder_cleaner(file_list_test_condition3, file_type_new)"
   ]
  },
  {
   "cell_type": "code",
   "execution_count": 153,
   "metadata": {},
   "outputs": [],
   "source": [
    "arr_test_condition4 = os.listdir(str('/Users/hhelmbre/Desktop/test/' + condition4))\n",
    "file_list_test_condition4 = np.asarray(arr_test_condition4)\n",
    "file_list_test_condition4 = folder_cleaner(file_list_test_condition4, file_type_new)"
   ]
  },
  {
   "cell_type": "code",
   "execution_count": 154,
   "metadata": {},
   "outputs": [],
   "source": [
    "im_number = 1\n",
    "for names in file_list_test_condition1:\n",
    "    dapi_name = str(names)\n",
    "\n",
    "    \n",
    "    if im_number < 10:\n",
    "        os.rename(str('/Users/hhelmbre/Desktop/test/' + condition1 + '/'+ names), str('/Users/hhelmbre/Desktop/test/' + condition1 + '/' + 'xy' + '0' + str(im_number) + 'c2.png'))\n",
    "        \n",
    "    else:\n",
    "        os.rename(str('/Users/hhelmbre/Desktop/test/' + condition1 + '/'+ names), str('/Users/hhelmbre/Desktop/test/' + condition1 + '/' + 'xy' + '0' + str(im_number) + 'c2.png'))\n",
    "    \n",
    "    iba_name = dapi_name.replace(stain1, stain2)\n",
    "    \n",
    "    if im_number < 10:\n",
    "        os.rename(str(folder_location + '/' + stain2 + '/'+ iba_name), str('/Users/hhelmbre/Desktop/test/' + condition1 + '/' + 'xy' + '0' + str(im_number) + 'c1.png'))\n",
    "        \n",
    "    else:\n",
    "        os.rename(str(folder_location + '/' + stain2 + '/'+ iba_name), str('/Users/hhelmbre/Desktop/test/' + condition1 + '/' + 'xy' + '0' + str(im_number) + 'c1.png'))\n",
    "        \n",
    "    \n",
    "    im_number +=1"
   ]
  },
  {
   "cell_type": "code",
   "execution_count": 155,
   "metadata": {},
   "outputs": [],
   "source": [
    "im_number= 1\n",
    "for names in file_list_test_condition2:\n",
    "    dapi_name = str(names)\n",
    "\n",
    "    \n",
    "    if im_number < 10:\n",
    "        os.rename(str('/Users/hhelmbre/Desktop/test/' + condition2 + '/'+ names), str('/Users/hhelmbre/Desktop/test/' + condition2 + '/' + 'xy' + '0' + str(im_number) + 'c2.png'))\n",
    "        \n",
    "    else:\n",
    "        os.rename(str('/Users/hhelmbre/Desktop/test/' + condition2 + '/'+ names), str('/Users/hhelmbre/Desktop/test/' + condition2 + '/' + 'xy' + '0' + str(im_number) + 'c2.png'))\n",
    "    \n",
    "    iba_name = dapi_name.replace(stain1, stain2)\n",
    "    \n",
    "    if im_number < 10:\n",
    "        os.rename(str(folder_location + '/' + stain2 + '/'+ iba_name), str('/Users/hhelmbre/Desktop/test/' + condition2 + '/' + 'xy' + '0' + str(im_number) + 'c1.png'))\n",
    "        \n",
    "    else:\n",
    "        os.rename(str(folder_location + '/' + stain2 + '/'+ iba_name), str('/Users/hhelmbre/Desktop/test/' + condition2 + '/' + 'xy' + '0' + str(im_number) + 'c1.png'))\n",
    "        \n",
    "    \n",
    "    im_number +=1"
   ]
  },
  {
   "cell_type": "code",
   "execution_count": 156,
   "metadata": {},
   "outputs": [],
   "source": [
    "im_number= 1\n",
    "for names in file_list_test_condition3:\n",
    "    dapi_name = str(names)\n",
    "\n",
    "    \n",
    "    if im_number < 10:\n",
    "        os.rename(str('/Users/hhelmbre/Desktop/test/' + condition3 + '/'+ names), str('/Users/hhelmbre/Desktop/test/' + condition3 + '/' + 'xy' + '0' + str(im_number) + 'c2.png'))\n",
    "        \n",
    "    else:\n",
    "        os.rename(str('/Users/hhelmbre/Desktop/test/' + condition3 + '/'+ names), str('/Users/hhelmbre/Desktop/test/' + condition3 + '/' + 'xy' + '0' + str(im_number) + 'c2.png'))\n",
    "    \n",
    "    iba_name = dapi_name.replace(stain1, stain2)\n",
    "    \n",
    "    if im_number < 10:\n",
    "        os.rename(str(folder_location + '/' + stain2 + '/'+ iba_name), str('/Users/hhelmbre/Desktop/test/' + condition3 + '/' + 'xy' + '0' + str(im_number) + 'c1.png'))\n",
    "        \n",
    "    else:\n",
    "        os.rename(str(folder_location + '/' + stain2 + '/'+ iba_name), str('/Users/hhelmbre/Desktop/test/' + condition3 + '/' + 'xy' + '0' + str(im_number) + 'c1.png'))\n",
    "        \n",
    "    \n",
    "    im_number +=1"
   ]
  },
  {
   "cell_type": "code",
   "execution_count": 157,
   "metadata": {},
   "outputs": [],
   "source": [
    "im_number= 1\n",
    "for names in file_list_test_condition4:\n",
    "    dapi_name = str(names)\n",
    "\n",
    "    \n",
    "    if im_number < 10:\n",
    "        os.rename(str('/Users/hhelmbre/Desktop/test/' + condition4 + '/'+ names), str('/Users/hhelmbre/Desktop/test/' + condition4 + '/' + 'xy' + '0' + str(im_number) + 'c2.png'))\n",
    "        \n",
    "    else:\n",
    "        os.rename(str('/Users/hhelmbre/Desktop/test/' + condition4 + '/'+ names), str('/Users/hhelmbre/Desktop/test/' + condition4 + '/' + 'xy' + '0' + str(im_number) + 'c2.png'))\n",
    "    \n",
    "    iba_name = dapi_name.replace(stain1, stain2)\n",
    "    \n",
    "    if im_number < 10:\n",
    "        os.rename(str(folder_location + '/' + stain2 + '/'+ iba_name), str('/Users/hhelmbre/Desktop/test/' + condition4 + '/' + 'xy' + '0' + str(im_number) + 'c1.png'))\n",
    "        \n",
    "    else:\n",
    "        os.rename(str(folder_location + '/' + stain2 + '/'+ iba_name), str('/Users/hhelmbre/Desktop/test/' + condition4 + '/' + 'xy' + '0' + str(im_number) + 'c1.png'))\n",
    "        \n",
    "    \n",
    "    im_number +=1"
   ]
  },
  {
   "cell_type": "code",
   "execution_count": null,
   "metadata": {},
   "outputs": [],
   "source": []
  },
  {
   "cell_type": "code",
   "execution_count": null,
   "metadata": {},
   "outputs": [],
   "source": []
  },
  {
   "cell_type": "code",
   "execution_count": null,
   "metadata": {},
   "outputs": [],
   "source": []
  }
 ],
 "metadata": {
  "kernelspec": {
   "display_name": "Python 3",
   "language": "python",
   "name": "python3"
  },
  "language_info": {
   "codemirror_mode": {
    "name": "ipython",
    "version": 3
   },
   "file_extension": ".py",
   "mimetype": "text/x-python",
   "name": "python",
   "nbconvert_exporter": "python",
   "pygments_lexer": "ipython3",
   "version": "3.7.4"
  }
 },
 "nbformat": 4,
 "nbformat_minor": 4
}
