{
 "cells": [
  {
   "cell_type": "markdown",
   "metadata": {},
   "source": [
    "**Objective:** Demonstrate the effectiveness of well-designed, experimental data informed Jupyter notebooks for collaboration between data scientists and experimantalists.\n",
    "\n",
    "**Central Thesis:** Jupyter notebook is an approachable platform to support collaboration between trained data scientists with expert domain scientists in neuroimaging. \n",
    "\n",
    "**Outline of Talk:**\n",
    "\n",
    "1.\t*Introduction*\n",
    "\n",
    "    a.\tBrain cell morphology from a wet lab experimentalist perspective\n",
    "    \n",
    "    b.\tData science from the wet lab experimentalist perspective\n",
    "    \n",
    "    c.\tBrain cell morphology from a data science perspective\n",
    "    \n",
    "    \n",
    "2.\t*The Merger Between Data and Experimental Science*\n",
    "\n",
    "    a.\tIntroduction of our work on FIBER, a Framework for neuroImage Based Experimental Routines\n",
    "    \n",
    "    \n",
    "3.\t*The Creation of a Notebook*\n",
    "\n",
    "    a.\tApplicable steps from FIBER to design a data science project alongside the domain scientists\n",
    "    \n",
    "    b.\tInitial Set-Up of a notebook with domain scientists in mind\n",
    "    \n",
    "    \n",
    "4.\t*Utilization of a Jupyter Notebook to Produce Cell Morphology results*\n",
    "\n",
    "    a.\tDemo and walk through as a Data Scientist\n",
    "    \n",
    "    b.\tDemo and walk through as a Experimentalist\n",
    "    \n",
    "    \n",
    "5.\t*Conclusion*\n",
    "\n",
    "    a.\tReview of Jupyter Notebook as an avenue of merging data and experimental science\n",
    "    \n",
    "    b.\tInsight into additional and future possibilities\n",
    "\n",
    "\n",
    "**Key Takeaways:**\n",
    "1. An approach to discussing data science analysis with experimental scientists \n",
    "2. A framework for creating Jupyter Notebooks that allow both sides to understand and utilize the analysis pipeline  \n",
    "\n",
    "**Background Knowledge Expected from Attendees:** None "
   ]
  },
  {
   "cell_type": "code",
   "execution_count": null,
   "metadata": {},
   "outputs": [],
   "source": []
  }
 ],
 "metadata": {
  "kernelspec": {
   "display_name": "Python 3",
   "language": "python",
   "name": "python3"
  },
  "language_info": {
   "codemirror_mode": {
    "name": "ipython",
    "version": 3
   },
   "file_extension": ".py",
   "mimetype": "text/x-python",
   "name": "python",
   "nbconvert_exporter": "python",
   "pygments_lexer": "ipython3",
   "version": "3.7.4"
  }
 },
 "nbformat": 4,
 "nbformat_minor": 4
}
