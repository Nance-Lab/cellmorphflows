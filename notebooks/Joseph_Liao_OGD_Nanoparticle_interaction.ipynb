{
 "cells": [
  {
   "cell_type": "markdown",
   "metadata": {},
   "source": [
    "# Nanoparticle‐microglial interaction in the ischemic brain is modulated by injury duration and treatment Workflow"
   ]
  },
  {
   "cell_type": "markdown",
   "metadata": {},
   "source": [
    "##### Citation"
   ]
  },
  {
   "cell_type": "markdown",
   "metadata": {},
   "source": [
    "Joseph, A., Liao, R., Zhang, M., Helmbrecht, H., Mckenna, M., Filteau, J.R., Nance, E., 2020. Nanoparticle‐microglial interaction in the ischemic brain is modulated by injury duration and treatment. Bioengineering & Translational Medicine.. doi:10.1002/btm2.10175"
   ]
  },
  {
   "cell_type": "markdown",
   "metadata": {},
   "source": [
    "## Purpose: To split tile scans, pick training and testing image sets, and prepping for running the full VAMPIRE Workflow"
   ]
  },
  {
   "cell_type": "markdown",
   "metadata": {},
   "source": [
    "The notebook as is was the precise notebook used for the publication cited above.  This state with the data uploaded on our lab drive under this publication title will reproduce the results from our paper when run following protocol on the shared desktop folder location specific in user inputs. "
   ]
  },
  {
   "cell_type": "markdown",
   "metadata": {},
   "source": [
    "To use this notebook again, please create a new copy as to not disturb the documentation for this publication. More advanced version of this softward can be found in the NanceLab/fiberf GitHub Repository."
   ]
  },
  {
   "cell_type": "markdown",
   "metadata": {},
   "source": [
    "*Step 1: Import necessary packages*"
   ]
  },
  {
   "cell_type": "code",
   "execution_count": 44,
   "metadata": {},
   "outputs": [],
   "source": [
    "import shutil, os\n",
    "\n",
    "from glob import glob\n",
    "\n",
    "import numpy as np\n",
    "import pandas as pd\n",
    "from skimage import io\n",
    "import matplotlib.pyplot as plt\n",
    "from PIL import Image\n",
    "from numpy.linalg import inv\n",
    "import image_slicer\n",
    "from sklearn.model_selection import train_test_split\n",
    "\n",
    "\n",
    "%matplotlib inline"
   ]
  },
  {
   "cell_type": "markdown",
   "metadata": {},
   "source": [
    "Experimental Steps:\n",
    "1. Move/Download the images for testing and training into a new folder\n",
    "2. Rename images to insure they include the condition somewhere in them\n",
    "3. Add a folder for each of your stains into the folder created in step 1\n",
    "4. Input the name of that folder into 'folder_location' below\n",
    "5. Input the names of the nuclear stain into 'stain1' and the cell stain into 'stain2' below\n",
    "6. Insert the number of slices into the np.arange command below\n",
    "7. Insert the number of slices that you want to split each image into in 'slice number'\n",
    "8. Increase the random_state_num by one\n",
    "8. Add a folder labeled 'train' to your desktop\n",
    "9. Add a folder labeled 'test' to your desktop\n",
    "10. Within folder 'test' create a folder for each of your conditions"
   ]
  },
  {
   "cell_type": "markdown",
   "metadata": {},
   "source": [
    "*Step 2: User Inputs*"
   ]
  },
  {
   "cell_type": "code",
   "execution_count": 368,
   "metadata": {},
   "outputs": [],
   "source": [
    "#file names should be in the current working directory\n",
    "folder_location = 'Users/hhelmbre/Desktop/cortex' #Input Folder Location here\n",
    "\n",
    "stain1 = 'dapi'\n",
    "stain2 = 'iba'\n",
    "stain3 = 'pi'\n",
    "\n",
    "#conditions are our four regions\n",
    "conditions = np.arange(1,16,1)\n",
    "\n",
    "file_type_init = '.tif'\n",
    "file_type_new = '.png'\n",
    "\n",
    "slice_number = 4\n",
    "#random_state_num for Thal = 13\n",
    "random_state_num = 3\n",
    "zoom = '40x'"
   ]
  },
  {
   "cell_type": "code",
   "execution_count": 369,
   "metadata": {},
   "outputs": [],
   "source": [
    "def folder_cleaner(folder, image_type, zoom):\n",
    "    k=0\n",
    "    for files in folder:\n",
    "        if image_type in str(files) and zoom in str(files):\n",
    "            k+=1\n",
    "        else:\n",
    "            folder = np.delete(folder, np.argwhere(folder == str(files)))\n",
    "        \n",
    "    return folder"
   ]
  },
  {
   "cell_type": "markdown",
   "metadata": {},
   "source": [
    "*Step 3: Split the Image(s) into Color Channels*"
   ]
  },
  {
   "cell_type": "code",
   "execution_count": 370,
   "metadata": {},
   "outputs": [],
   "source": [
    "arr = os.listdir(folder_location)\n",
    "file_list = np.asarray(arr)\n",
    "file_list = folder_cleaner(file_list, file_type_init, zoom)"
   ]
  },
  {
   "cell_type": "code",
   "execution_count": 371,
   "metadata": {},
   "outputs": [],
   "source": [
    "for files in file_list:\n",
    "    im=io.imread(str(folder_location + '/' + files))\n",
    "    channel1 = im[:, :, 0]\n",
    "    channel2 = im[:, :, 1]\n",
    "    channel3 = im[:, :, 2]\n",
    "    filename = files.replace(file_type_init, \"\")\n",
    "    channel1 = Image.fromarray(np.uint16(channel1))\n",
    "    channel1.save(str(folder_location + '/' + filename + '_' + stain1 + file_type_new))\n",
    "    channel2 = Image.fromarray(np.uint16(channel2))\n",
    "    channel2.save(str(folder_location + '/' + filename + '_' + stain2 + file_type_new))\n",
    "    channel3 = Image.fromarray(np.uint16(channel3))\n",
    "    channel3.save(str(folder_location + '/' + filename + '_' + stain3 + file_type_new))"
   ]
  },
  {
   "cell_type": "markdown",
   "metadata": {},
   "source": [
    "*Step 4: Split the Images*"
   ]
  },
  {
   "cell_type": "code",
   "execution_count": 372,
   "metadata": {},
   "outputs": [],
   "source": [
    "arr = os.listdir(folder_location)\n",
    "file_list = np.asarray(arr)\n",
    "file_list = folder_cleaner(file_list, file_type_new, zoom)"
   ]
  },
  {
   "cell_type": "code",
   "execution_count": 373,
   "metadata": {},
   "outputs": [],
   "source": [
    "for files in file_list:\n",
    "    image_slicer.slice(str(folder_location + '/' + files), slice_number)\n",
    "    os.remove(str(folder_location + '/' + files))"
   ]
  },
  {
   "cell_type": "markdown",
   "metadata": {},
   "source": [
    "*Step 5: Moving the DAPI and Iba images into their own folders*"
   ]
  },
  {
   "cell_type": "code",
   "execution_count": 374,
   "metadata": {},
   "outputs": [],
   "source": [
    "arr = os.listdir(folder_location)\n",
    "file_list1 = np.asarray(arr)\n",
    "file_list1 = folder_cleaner(file_list1, file_type_new, zoom)"
   ]
  },
  {
   "cell_type": "code",
   "execution_count": 375,
   "metadata": {},
   "outputs": [],
   "source": [
    "for tiled_images in file_list1:\n",
    "    conditional = str(str(tiled_images)[-5].isdigit())\n",
    "    if conditional == 'True':\n",
    "        if stain1 in tiled_images:\n",
    "            shutil.move(str(folder_location + '/' + tiled_images), str(folder_location + '/' + stain1 + '/' + tiled_images))\n",
    "        elif stain2 in tiled_images:\n",
    "            shutil.move(str(folder_location + '/' + tiled_images), str(folder_location + '/' + stain2 + '/' + tiled_images))\n",
    "        elif stain3 in tiled_images:\n",
    "            os.remove(folder_location + '/' + tiled_images)\n",
    "    else:\n",
    "        pass"
   ]
  },
  {
   "cell_type": "markdown",
   "metadata": {},
   "source": [
    "*Step 6: Choose training and testing data sets*"
   ]
  },
  {
   "cell_type": "code",
   "execution_count": 376,
   "metadata": {},
   "outputs": [],
   "source": [
    "arr = os.listdir(str(folder_location + '/' + stain1))\n",
    "file_list_train = np.asarray(arr)\n",
    "file_list_train = folder_cleaner(file_list_train, file_type_new, zoom)"
   ]
  },
  {
   "cell_type": "code",
   "execution_count": 377,
   "metadata": {},
   "outputs": [],
   "source": [
    "X_train, X_test= train_test_split(file_list_train, test_size=0.20, random_state=random_state_num)"
   ]
  },
  {
   "cell_type": "markdown",
   "metadata": {},
   "source": [
    "*Step 7: Moving the testing and training DAPI data sets into test and train folders*"
   ]
  },
  {
   "cell_type": "code",
   "execution_count": 378,
   "metadata": {},
   "outputs": [],
   "source": [
    "for names in file_list_train:\n",
    "    if names in X_train[:]:\n",
    "        shutil.move(str(folder_location + '/'+ stain1 + '/' + names), '/Users/hhelmbre/Desktop/train_cor')\n",
    "    else:\n",
    "        shutil.move(str(folder_location + '/' + stain1 + '/' + names), '/Users/hhelmbre/Desktop/test_cor')"
   ]
  },
  {
   "cell_type": "markdown",
   "metadata": {},
   "source": [
    "*Step 8: Renaming the DAPI and Iba datasets according to proper VAMPIRE naming modality*"
   ]
  },
  {
   "cell_type": "code",
   "execution_count": 379,
   "metadata": {},
   "outputs": [],
   "source": [
    "arr_train1 = os.listdir('/Users/hhelmbre/Desktop/train_cor')\n",
    "file_list_train1 = np.asarray(arr_train1)\n",
    "file_list_train1 = folder_cleaner(file_list_train1, file_type_new, zoom)"
   ]
  },
  {
   "cell_type": "code",
   "execution_count": 380,
   "metadata": {},
   "outputs": [],
   "source": [
    "arr_stain2 = os.listdir(str(folder_location + '/' + stain2))\n",
    "file_list_stain2 = np.asarray(arr_stain2)\n",
    "file_list_stain2 = folder_cleaner(file_list_stain2, file_type_new, zoom)"
   ]
  },
  {
   "cell_type": "code",
   "execution_count": 381,
   "metadata": {},
   "outputs": [],
   "source": [
    "im_number= 1\n",
    "for names in file_list_train1:\n",
    "    dapi_name = str(names)\n",
    "\n",
    "    \n",
    "    \n",
    "    if im_number < 10:\n",
    "        os.rename(str('/Users/hhelmbre/Desktop/train_cor/' + names), str('/Users/hhelmbre/Desktop/train_cor/' + 'xy' + '00' + str(im_number) + 'c2.png'))\n",
    "        \n",
    "    elif im_number <100:\n",
    "        os.rename(str('/Users/hhelmbre/Desktop/train_cor/' + names), str('/Users/hhelmbre/Desktop/train_cor/' + 'xy' + '0' + str(im_number) + 'c2.png'))\n",
    "        \n",
    "    else:\n",
    "        os.rename(str('/Users/hhelmbre/Desktop/train_cor/' + names), str('/Users/hhelmbre/Desktop/train_cor/' + 'xy' + str(im_number) + 'c2.png'))\n",
    "    \n",
    "    iba_name = dapi_name.replace(stain1, stain2)\n",
    "    \n",
    "    if im_number < 10:\n",
    "        os.rename(str(folder_location + '/' + stain2 + '/' + iba_name), str('/Users/hhelmbre/Desktop/train_cor/' + 'xy' + '00' + str(im_number) + 'c1.png'))\n",
    "        \n",
    "    elif im_number <100:\n",
    "        os.rename(str(folder_location + '/' + stain2 + '/' + iba_name), str('/Users/hhelmbre/Desktop/train_cor/' + 'xy' + '0' + str(im_number) + 'c1.png'))\n",
    "    \n",
    "    else:\n",
    "        os.rename(str(folder_location + '/' + stain2 + '/' + iba_name), str('/Users/hhelmbre/Desktop/train_cor/' + 'xy' + str(im_number) + 'c1.png'))\n",
    "        \n",
    "    \n",
    "    im_number +=1"
   ]
  },
  {
   "cell_type": "markdown",
   "metadata": {},
   "source": [
    "*Step 9: Splitting the test group into the appropriate conditions*"
   ]
  },
  {
   "cell_type": "code",
   "execution_count": 382,
   "metadata": {},
   "outputs": [],
   "source": [
    "arr_test = os.listdir('/Users/hhelmbre/Desktop/test_cor')\n",
    "file_list_test = np.asarray(arr_test)\n",
    "file_list_test = folder_cleaner(file_list_test, file_type_new, zoom)"
   ]
  },
  {
   "cell_type": "code",
   "execution_count": 383,
   "metadata": {},
   "outputs": [],
   "source": [
    "for slice_numbers in conditions:\n",
    "    number = str(slice_numbers)\n",
    "    slices = str('-' + number + '_')\n",
    "\n",
    "    os.mkdir(str('/Users/hhelmbre/Desktop/test_cor/' + '50-' + number))\n",
    "    os.mkdir(str('/Users/hhelmbre/Desktop/test_cor/' + '56-' + number))\n",
    "    os.mkdir(str('/Users/hhelmbre/Desktop/test_cor/' + '59-' + number))\n",
    "    \n",
    "    for test_images in file_list_test:\n",
    "        set1 = str('50')\n",
    "        set2 = str('56')\n",
    "        set3 = str('59')\n",
    "        if set1 in test_images:\n",
    "            if slices in test_images:\n",
    "                shutil.move(str('/Users/hhelmbre/Desktop/test_cor/' + test_images), str('/Users/hhelmbre/Desktop/test_cor/' + '50-' + number + '/' + test_images))\n",
    "            else:\n",
    "                zyx = 1\n",
    "        if set2 in test_images:\n",
    "            if slices in test_images:\n",
    "                shutil.move(str('/Users/hhelmbre/Desktop/test_cor/' + test_images), str('/Users/hhelmbre/Desktop/test_cor/' + '56-' + number + '/' + test_images))\n",
    "            else:\n",
    "                zyx = 1\n",
    "        if set3 in test_images:\n",
    "            if slices in test_images:\n",
    "                shutil.move(str('/Users/hhelmbre/Desktop/test_cor/' + test_images), str('/Users/hhelmbre/Desktop/test_cor/' + '59-' + number + '/' + test_images))\n",
    "            else:\n",
    "                zyx = 1"
   ]
  },
  {
   "cell_type": "markdown",
   "metadata": {},
   "source": [
    "*Step 10: Renaming the test images and getting their appropriate iba stain*\n",
    "\n"
   ]
  },
  {
   "cell_type": "code",
   "execution_count": 384,
   "metadata": {},
   "outputs": [],
   "source": [
    "for test_conditions in conditions:\n",
    "    number = str(test_conditions)\n",
    "    \n",
    "    arr_test_condition = os.listdir(str('/Users/hhelmbre/Desktop/test_cor/' + '56-' + number + '/'))\n",
    "    file_list_test_condition = np.asarray(arr_test_condition)\n",
    "    file_list_test_condition = folder_cleaner(file_list_test_condition, file_type_new, zoom)\n",
    "    \n",
    "    im_number = 1\n",
    "    \n",
    "    for names in file_list_test_condition:\n",
    "        dapi_name = str(names)\n",
    "\n",
    "    \n",
    "        if im_number < 10:\n",
    "            os.rename(str('/Users/hhelmbre/Desktop/test_cor/' + '56-' + number + '/'+ names), str('/Users/hhelmbre/Desktop/test_cor/' + '56-' + number + '/' + 'xy' + '00' + str(im_number) + 'c2.png'))\n",
    "        \n",
    "        elif im_number <100:\n",
    "            os.rename(str('/Users/hhelmbre/Desktop/test_cor/' + '56-' + number + '/'+ names), str('/Users/hhelmbre/Desktop/test_cor/' + '56-' + number + '/' + 'xy' + '0' + str(im_number) + 'c2.png'))\n",
    "        \n",
    "        else:\n",
    "            os.rename(str('/Users/hhelmbre/Desktop/test_cor/' + '56-' + number + '/'+ names), str('/Users/hhelmbre/Desktop/test_cor/' + '56-' + number + '/' + 'xy' + str(im_number) + 'c2.png'))\n",
    "    \n",
    "        iba_name = dapi_name.replace(stain1, stain2)\n",
    "    \n",
    "        if im_number < 10:\n",
    "            os.rename(str(folder_location + '/' + stain2 + '/'+ iba_name), str('/Users/hhelmbre/Desktop/test_cor/' + '56-' + number + '/' + 'xy' + '00' + str(im_number) + 'c1.png'))\n",
    "        \n",
    "        elif im_number < 100:\n",
    "            os.rename(str(folder_location + '/' + stain2 + '/'+ iba_name), str('/Users/hhelmbre/Desktop/test_cor/' + '56-' + number + '/' + 'xy' + '0' + str(im_number) + 'c1.png'))\n",
    "        \n",
    "        else:\n",
    "            os.rename(str(folder_location + '/' + stain2 + '/'+ iba_name), str('/Users/hhelmbre/Desktop/test_cor/' + '56-' + number + '/' + 'xy' + str(im_number) + 'c1.png'))\n",
    "        \n",
    "    \n",
    "        im_number +=1\n",
    "    "
   ]
  },
  {
   "cell_type": "code",
   "execution_count": 385,
   "metadata": {},
   "outputs": [],
   "source": [
    "for test_conditions in conditions:\n",
    "    number = str(test_conditions)\n",
    "    \n",
    "    arr_test_condition = os.listdir(str('/Users/hhelmbre/Desktop/test_cor/' + '50-' + number + '/'))\n",
    "    file_list_test_condition = np.asarray(arr_test_condition)\n",
    "    file_list_test_condition = folder_cleaner(file_list_test_condition, file_type_new, zoom)\n",
    "    \n",
    "    im_number = 1\n",
    "    \n",
    "    for names in file_list_test_condition:\n",
    "        dapi_name = str(names)\n",
    "\n",
    "    \n",
    "        if im_number < 10:\n",
    "            os.rename(str('/Users/hhelmbre/Desktop/test_cor/' + '50-' + number + '/'+ names), str('/Users/hhelmbre/Desktop/test_cor/' + '50-' + number + '/' + 'xy' + '00' + str(im_number) + 'c2.png'))\n",
    "        \n",
    "        elif im_number <100:\n",
    "            os.rename(str('/Users/hhelmbre/Desktop/test_cor/' + '50-' + number + '/'+ names), str('/Users/hhelmbre/Desktop/test_cor/' + '50-' + number + '/' + 'xy' + '0' + str(im_number) + 'c2.png'))\n",
    "        \n",
    "        else:\n",
    "            os.rename(str('/Users/hhelmbre/Desktop/test_cor/' + '50-' + number + '/'+ names), str('/Users/hhelmbre/Desktop/test_cor/' + '50-' + number + '/' + 'xy' + str(im_number) + 'c2.png'))\n",
    "    \n",
    "        iba_name = dapi_name.replace(stain1, stain2)\n",
    "    \n",
    "        if im_number < 10:\n",
    "            os.rename(str(folder_location + '/' + stain2 + '/'+ iba_name), str('/Users/hhelmbre/Desktop/test_cor/' + '50-' + number + '/' + 'xy' + '00' + str(im_number) + 'c1.png'))\n",
    "        \n",
    "        elif im_number < 100:\n",
    "            os.rename(str(folder_location + '/' + stain2 + '/'+ iba_name), str('/Users/hhelmbre/Desktop/test_cor/' + '50-' + number + '/' + 'xy' + '0' + str(im_number) + 'c1.png'))\n",
    "        \n",
    "        else:\n",
    "            os.rename(str(folder_location + '/' + stain2 + '/'+ iba_name), str('/Users/hhelmbre/Desktop/test_cor/' + '50-' + number + '/' + 'xy' + str(im_number) + 'c1.png'))\n",
    "        \n",
    "    \n",
    "        im_number +=1\n",
    "    "
   ]
  },
  {
   "cell_type": "code",
   "execution_count": 386,
   "metadata": {},
   "outputs": [],
   "source": [
    "for test_conditions in conditions:\n",
    "    number = str(test_conditions)\n",
    "    \n",
    "    arr_test_condition = os.listdir(str('/Users/hhelmbre/Desktop/test_cor/' + '59-' + number + '/'))\n",
    "    file_list_test_condition = np.asarray(arr_test_condition)\n",
    "    file_list_test_condition = folder_cleaner(file_list_test_condition, file_type_new, zoom)\n",
    "    \n",
    "    im_number = 1\n",
    "    \n",
    "    for names in file_list_test_condition:\n",
    "        dapi_name = str(names)\n",
    "\n",
    "    \n",
    "        if im_number < 10:\n",
    "            os.rename(str('/Users/hhelmbre/Desktop/test_cor/' + '59-' + number + '/'+ names), str('/Users/hhelmbre/Desktop/test_cor/' + '59-' + number + '/' + 'xy' + '00' + str(im_number) + 'c2.png'))\n",
    "        \n",
    "        elif im_number <100:\n",
    "            os.rename(str('/Users/hhelmbre/Desktop/test_cor/' + '59-' + number + '/'+ names), str('/Users/hhelmbre/Desktop/test_cor/' + '59-' + number + '/' + 'xy' + '0' + str(im_number) + 'c2.png'))\n",
    "        \n",
    "        else:\n",
    "            os.rename(str('/Users/hhelmbre/Desktop/test_cor/' + '59-' + number + '/'+ names), str('/Users/hhelmbre/Desktop/test_cor/' + '59-' + number + '/' + 'xy' + str(im_number) + 'c2.png'))\n",
    "    \n",
    "        iba_name = dapi_name.replace(stain1, stain2)\n",
    "    \n",
    "        if im_number < 10:\n",
    "            os.rename(str(folder_location + '/' + stain2 + '/'+ iba_name), str('/Users/hhelmbre/Desktop/test_cor/' + '59-' + number + '/' + 'xy' + '00' + str(im_number) + 'c1.png'))\n",
    "        \n",
    "        elif im_number < 100:\n",
    "            os.rename(str(folder_location + '/' + stain2 + '/'+ iba_name), str('/Users/hhelmbre/Desktop/test_cor/' + '59-' + number + '/' + 'xy' + '0' + str(im_number) + 'c1.png'))\n",
    "        \n",
    "        else:\n",
    "            os.rename(str(folder_location + '/' + stain2 + '/'+ iba_name), str('/Users/hhelmbre/Desktop/test_cor/' + '59-' + number + '/' + 'xy' + str(im_number) + 'c1.png'))\n",
    "        \n",
    "    \n",
    "        im_number +=1"
   ]
  },
  {
   "cell_type": "markdown",
   "metadata": {},
   "source": [
    "*Final Experimentalist Steps:*\n",
    "1. Follow Python 2.7 Protocol on shared Computer for VAMPIRE Analysis\n",
    "2. Upload all files to the appropriate paper folder in the Shared Google Drive"
   ]
  },
  {
   "cell_type": "code",
   "execution_count": null,
   "metadata": {},
   "outputs": [],
   "source": []
  },
  {
   "cell_type": "code",
   "execution_count": null,
   "metadata": {},
   "outputs": [],
   "source": []
  }
 ],
 "metadata": {
  "kernelspec": {
   "display_name": "Python 3",
   "language": "python",
   "name": "python3"
  },
  "language_info": {
   "codemirror_mode": {
    "name": "ipython",
    "version": 3
   },
   "file_extension": ".py",
   "mimetype": "text/x-python",
   "name": "python",
   "nbconvert_exporter": "python",
   "pygments_lexer": "ipython3",
   "version": "3.7.4"
  }
 },
 "nbformat": 4,
 "nbformat_minor": 4
}
