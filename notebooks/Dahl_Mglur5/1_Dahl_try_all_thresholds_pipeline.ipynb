{
 "cells": [
  {
   "cell_type": "markdown",
   "metadata": {},
   "source": [
    "# Purpose: To Test the Sci-kit Image Thresholds for Victoria's Mglur5 Images"
   ]
  },
  {
   "cell_type": "markdown",
   "metadata": {},
   "source": [
    "Date Created: April 13th, 2021"
   ]
  },
  {
   "cell_type": "markdown",
   "metadata": {},
   "source": [
    "Dates Edited: April 13th, 2021 - Created this document from the Phuong BeV analysis\n",
    "\n",
    "June 15th, 2022 - Edited for the New Mglurt Images for Publication"
   ]
  },
  {
   "cell_type": "markdown",
   "metadata": {},
   "source": [
    "*Step 1: Import necessary packages*"
   ]
  },
  {
   "cell_type": "code",
   "execution_count": null,
   "metadata": {},
   "outputs": [],
   "source": [
    "#import operating system\n",
    "import os\n",
    "\n",
    "# import major packages\n",
    "import numpy as np\n",
    "import matplotlib.pyplot as plt\n",
    "import skimage\n",
    "import PIL as Image"
   ]
  },
  {
   "cell_type": "code",
   "execution_count": null,
   "metadata": {},
   "outputs": [],
   "source": [
    "from skimage.morphology import disk\n",
    "from skimage.segmentation import watershed\n",
    "from skimage import data\n",
    "from skimage.filters import rank\n",
    "from skimage.util import img_as_ubyte\n",
    "from skimage.segmentation import clear_border\n",
    "\n",
    "from scipy import ndimage as ndi"
   ]
  },
  {
   "cell_type": "markdown",
   "metadata": {},
   "source": [
    "Separating the two imports so that it is a cleaner workflow"
   ]
  },
  {
   "cell_type": "code",
   "execution_count": null,
   "metadata": {},
   "outputs": [],
   "source": [
    "# import specific package functions\n",
    "from skimage import io\n",
    "from skimage.filters import try_all_threshold\n",
    "from skimage.filters import threshold_isodata\n",
    "from skimage.filters import threshold_li\n",
    "from skimage.filters import threshold_mean\n",
    "from skimage.filters import threshold_minimum\n",
    "from skimage.filters import threshold_otsu\n",
    "from skimage.filters import threshold_triangle\n",
    "from skimage.filters import threshold_yen\n",
    "\n",
    "from skimage import morphology\n",
    "from scipy import ndimage\n",
    "from skimage.measure import label"
   ]
  },
  {
   "cell_type": "markdown",
   "metadata": {},
   "source": [
    "## Mglur5 DataSet"
   ]
  },
  {
   "cell_type": "markdown",
   "metadata": {},
   "source": [
    "*Step 2: Import image for testing thresholds*"
   ]
  },
  {
   "cell_type": "code",
   "execution_count": null,
   "metadata": {},
   "outputs": [],
   "source": [
    "#Defining the local folder location for all files\n",
    "im_folder_location = '/Users/hhelmbre/Desktop/Mglur5_publication_analysis/60x_tiff'"
   ]
  },
  {
   "cell_type": "code",
   "execution_count": null,
   "metadata": {},
   "outputs": [],
   "source": [
    "def folder_cleaner(folder, image_type):\n",
    "    k=0\n",
    "    for files in folder:\n",
    "        if image_type in str(files):\n",
    "            k+=1\n",
    "        else:\n",
    "            folder = np.delete(folder, np.argwhere(folder == str(files)))\n",
    "    return folder"
   ]
  },
  {
   "cell_type": "code",
   "execution_count": null,
   "metadata": {},
   "outputs": [],
   "source": [
    "#Getting a list of all the seprate animal model folders\n",
    "arr = os.listdir(im_folder_location)\n",
    "file_list = np.asarray(arr)\n",
    "\n",
    "#Since I am working on a mac operating system, this removes the DS_store file\n",
    "file_list = file_list[1:]\n",
    "file_list = np.delete(file_list, np.where(file_list == '.DS_Store'))"
   ]
  },
  {
   "cell_type": "code",
   "execution_count": null,
   "metadata": {},
   "outputs": [],
   "source": [
    "#Reading in an example image and checking shape\n",
    "im = io.imread(str(im_folder_location + '/' + file_list[0]))\n",
    "im.shape"
   ]
  },
  {
   "cell_type": "code",
   "execution_count": null,
   "metadata": {},
   "outputs": [],
   "source": [
    "#max intensity projection\n",
    "im_max= np.max(im, axis=0)\n",
    "im_max.shape"
   ]
  },
  {
   "cell_type": "code",
   "execution_count": null,
   "metadata": {},
   "outputs": [],
   "source": [
    "#Testing which channel the iba stain is on\n",
    "green_im = im_max[1,:,:]\n",
    "plt.imshow(green_im, cmap='Greys_r')"
   ]
  },
  {
   "cell_type": "markdown",
   "metadata": {},
   "source": [
    "*Step 3: Trying multiple tresholds at once and saving the composite image*"
   ]
  },
  {
   "cell_type": "code",
   "execution_count": null,
   "metadata": {},
   "outputs": [],
   "source": [
    "#original with gaussian\n",
    "j = 0 #initialize a counter\n",
    "for images in file_list:\n",
    "    im_name = str(im_folder_location + '/' + file_list[j])\n",
    "    im = io.imread(im_name)\n",
    "    im_max= np.max(im, axis=0)\n",
    "    microglia_im = im_max[1,:,:]\n",
    "    microglia_im = skimage.filters.gaussian(microglia_im, sigma=0.25)\n",
    "    fig, ax = try_all_threshold(microglia_im, figsize=(10, 8), verbose=False)\n",
    "\n",
    "    \n",
    "    j += 1\n",
    "    fig_name = str(im_name[:-4] + '_all_thresh.tif')\n",
    "    fig.savefig(fig_name)\n",
    "    plt.close('all')\n",
    "    print(j)"
   ]
  },
  {
   "cell_type": "markdown",
   "metadata": {},
   "source": [
    "*Move all images with try_all_thresh into their own folder*"
   ]
  },
  {
   "cell_type": "code",
   "execution_count": null,
   "metadata": {},
   "outputs": [],
   "source": [
    "import shutil\n",
    "import os\n",
    "\n",
    "source_dir = '/Users/hhelmbre/Desktop/Mglur5_publication_analysis/60x_tiff'\n",
    "target_dir = '/Users/hhelmbre/Desktop/Mglur5_publication_analysis/60x_tiff_try_all_thresh'\n",
    "\n",
    "arr = os.listdir(source_dir)\n",
    "file_list = np.asarray(arr)\n",
    "\n",
    "file_list = [x for x in file_list if \"all_thresh\" in x]\n",
    "\n",
    "    \n",
    "for file_name in file_list:\n",
    "    shutil.move(os.path.join(source_dir, file_name), target_dir)"
   ]
  },
  {
   "cell_type": "markdown",
   "metadata": {},
   "source": [
    "*Step 4: Based on visual inspection of the try all thresholds, Li threshold does the best*"
   ]
  },
  {
   "cell_type": "markdown",
   "metadata": {},
   "source": [
    "To determine the size of the small object we should remove we took the size of microglia which are approximately 1600 um^2 according to (https://jneuroinflammation.biomedcentral.com/articles/10.1186/s12974-014-0182-7)\n",
    "\n",
    "The confocal settings for the OGD severity study provided a 0.575 pixel width = 1 um conversion. To ensure we didn't cut off any potential microglia, we chose a cutoff on the small end to be 1/2 of the average which converts to 265 pixels^2 used in the min_size of the remove small objects function from sci-kit image."
   ]
  },
  {
   "cell_type": "code",
   "execution_count": null,
   "metadata": {},
   "outputs": [],
   "source": [
    "#mean threshold\n",
    "k = 0\n",
    "source_dir = '/Users/hhelmbre/Desktop/Mglur5_publication_analysis/'\n",
    "\n",
    "#Getting a list of all the seprate animal model folders\n",
    "arr = os.listdir(im_folder_location)\n",
    "file_list = np.asarray(arr)\n",
    "\n",
    "#Since I am working on a mac operating system, this removes the DS_store file\n",
    "file_list = np.delete(file_list, np.where(file_list == '.DS_Store'))\n",
    "\n",
    "for images in file_list:\n",
    "    im_name = str(im_folder_location + '/' + file_list[k])\n",
    "    im = io.imread(im_name)\n",
    "    im_max= np.max(im, axis=0)\n",
    "    microglia_im = im_max[1,:,:]\n",
    "    microglia_im = skimage.filters.gaussian(microglia_im, sigma=0.25)\n",
    "    thresh_mean = skimage.filters.threshold_mean(microglia_im)\n",
    "    binary_mean = microglia_im > thresh_mean\n",
    "    new_binary_mean = morphology.remove_small_objects(binary_mean, min_size=265)\n",
    "    new_binary_mean = ndimage.binary_fill_holes(new_binary_mean)\n",
    "    new_binary_mean = clear_border(new_binary_mean)\n",
    "    \n",
    "    \n",
    "    short_im_name = im_name.split('/')[6]\n",
    "\n",
    "    np.save(str(source_dir + 'mean_thresh_array/' + short_im_name[:-4] + '_mean_thresh'), new_binary_mean)\n",
    "    plt.imsave(str(source_dir + 'mean_thresh_image/' + short_im_name[:-4] + '_mean_thresh.png'), new_binary_mean)\n",
    "    \n",
    "    print(k)\n",
    "    k += 1"
   ]
  },
  {
   "cell_type": "markdown",
   "metadata": {},
   "source": [
    "# Show Package and Software Info"
   ]
  },
  {
   "cell_type": "code",
   "execution_count": null,
   "metadata": {},
   "outputs": [],
   "source": [
    "%load_ext watermark\n",
    "\n",
    "%watermark -v -m -p numpy,pandas,scipy,skimage,matplotlib,wget\n",
    "\n",
    "%watermark -u -n -t -z"
   ]
  },
  {
   "cell_type": "code",
   "execution_count": null,
   "metadata": {},
   "outputs": [],
   "source": []
  }
 ],
 "metadata": {
  "kernelspec": {
   "display_name": "Python 3",
   "language": "python",
   "name": "python3"
  },
  "language_info": {
   "codemirror_mode": {
    "name": "ipython",
    "version": 3
   },
   "file_extension": ".py",
   "mimetype": "text/x-python",
   "name": "python",
   "nbconvert_exporter": "python",
   "pygments_lexer": "ipython3",
   "version": "3.7.4"
  }
 },
 "nbformat": 4,
 "nbformat_minor": 4
}
