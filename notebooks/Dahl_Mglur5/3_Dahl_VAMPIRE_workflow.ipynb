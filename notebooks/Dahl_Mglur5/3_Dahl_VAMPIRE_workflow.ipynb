{
 "cells": [
  {
   "cell_type": "markdown",
   "metadata": {},
   "source": [
    "# VAMPIRE WORKFLOW"
   ]
  },
  {
   "cell_type": "markdown",
   "metadata": {},
   "source": [
    "## Purpose: To split images into quadrants, pick training and testing image sets, and in the future run the full VAMPIRE workflow"
   ]
  },
  {
   "cell_type": "markdown",
   "metadata": {},
   "source": [
    "Edited: June 21, 2022 for the Dahl Mglur5 Data"
   ]
  },
  {
   "cell_type": "markdown",
   "metadata": {},
   "source": [
    "*Step 1: Import necessary packages*"
   ]
  },
  {
   "cell_type": "code",
   "execution_count": null,
   "metadata": {},
   "outputs": [],
   "source": [
    "import shutil, os\n",
    "\n",
    "from glob import glob\n",
    "\n",
    "import numpy as np\n",
    "import pandas as pd\n",
    "from skimage import io\n",
    "import matplotlib.pyplot as plt\n",
    "from PIL import Image\n",
    "from numpy.linalg import inv\n",
    "from sklearn.model_selection import train_test_split\n",
    "from skimage.segmentation import clear_border\n",
    "\n",
    "\n",
    "%matplotlib inline"
   ]
  },
  {
   "cell_type": "markdown",
   "metadata": {},
   "source": [
    "*Step 2: User Inputs*"
   ]
  },
  {
   "cell_type": "markdown",
   "metadata": {},
   "source": [
    "Manual Step:\n",
    "Beginning with already segmented images saved as .npy arrays from the \"2_Dahl_Mglur5_segmentation.ipynb\" Jupyter Notebook also within this folder. \n",
    "\n",
    "Not a blind study. \n",
    "\n",
    "Images already exist in a folder tree based on the WT or HET, then sex, then region."
   ]
  },
  {
   "cell_type": "code",
   "execution_count": null,
   "metadata": {},
   "outputs": [],
   "source": [
    "#file names should be in the current working directory\n",
    "folder_location = '/Users/hhelmbre/Desktop/Mglur5_publication_analysis/for_vampire_mean_thresh_array'\n",
    "\n",
    "file_type_init = '.npy'\n",
    "\n",
    "random_state_num = 11"
   ]
  },
  {
   "cell_type": "markdown",
   "metadata": {},
   "source": [
    "*Step 5: Getting the List of Images to Split*"
   ]
  },
  {
   "cell_type": "code",
   "execution_count": null,
   "metadata": {},
   "outputs": [],
   "source": [
    "arr = os.listdir(folder_location)\n",
    "folder_list = np.asarray(arr)\n",
    "folder_list = [ x for x in folder_list if \"DS\" not in x ]\n",
    "folder_list"
   ]
  },
  {
   "cell_type": "markdown",
   "metadata": {},
   "source": [
    "Step 6a: Get the WT Files and peform Test/Train Split\n",
    "\n",
    "WT has one less folder structure since it doesn't have the sex delineation"
   ]
  },
  {
   "cell_type": "code",
   "execution_count": null,
   "metadata": {},
   "outputs": [],
   "source": [
    "folders = folder_list[1]\n",
    "arr = os.listdir(str(folder_location + '/' + folders))\n",
    "subfolder_list = np.asarray(arr)\n",
    "subfolder_list = [ x for x in subfolder_list if \"DS\" not in x]\n",
    "for subfolders in subfolder_list:\n",
    "    arr = os.listdir(str(folder_location + '/' + folders + '/' + subfolders))\n",
    "    sub_subfolder_list = np.asarray(arr)\n",
    "    sub_subfolder_list = [ x for x in sub_subfolder_list if \"DS\" not in x]\n",
    "    for subsubfolders in sub_subfolder_list:\n",
    "        print(subsubfolders)\n",
    "        arr = os.listdir(str(folder_location + '/' + folders + '/' + subfolders + '/' + subsubfolders))\n",
    "        files_list = np.asarray(arr)\n",
    "        files_list = [ x for x in files_list if \"DS\" not in x]\n",
    "        X_train, X_test= train_test_split(files_list, test_size=0.20, random_state=random_state_num)\n",
    "        for files in files_list:\n",
    "            if files in X_train[:]:\n",
    "                shutil.move(str(folder_location + '/' + folders + '/' + subfolders + '/' + subsubfolders + '/' + files), '/Users/hhelmbre/Desktop/Mglur5_publication_analysis/vampire/train')\n",
    "            else:\n",
    "                shutil.move(str(folder_location + '/' + folders + '/' + subfolders + '/' + subsubfolders + '/' + files), '/Users/hhelmbre/Desktop/Mglur5_publication_analysis/vampire/test')"
   ]
  },
  {
   "cell_type": "markdown",
   "metadata": {},
   "source": [
    "Step 6b: Get the HET Files\n",
    "\n",
    "HET files have an extra folder step due to sex delineation"
   ]
  },
  {
   "cell_type": "code",
   "execution_count": null,
   "metadata": {},
   "outputs": [],
   "source": [
    "folders = folder_list[0]\n",
    "arr = os.listdir(str(folder_location + '/' + folders))\n",
    "subfolder_list = np.asarray(arr)\n",
    "subfolder_list = [ x for x in subfolder_list if \"DS\" not in x]\n",
    "for subfolders in subfolder_list:\n",
    "    arr = os.listdir(str(folder_location + '/' + folders + '/' + subfolders))\n",
    "    sub_subfolder_list = np.asarray(arr)\n",
    "    sub_subfolder_list = [ x for x in sub_subfolder_list if \"DS\" not in x]\n",
    "    for subsubfolders in sub_subfolder_list:\n",
    "        arr = os.listdir(str(folder_location + '/' + folders + '/' + subfolders + '/' + subsubfolders))\n",
    "        region_folders_list = np.asarray(arr)\n",
    "        region_folders_list = [ x for x in region_folders_list if \"DS\" not in x]\n",
    "        for regions in region_folders_list:\n",
    "            arr = os.listdir(str(folder_location + '/' + folders + '/' + subfolders + '/' + subsubfolders + '/' + regions))\n",
    "            files_list = np.asarray(arr)\n",
    "            files_list = [ x for x in files_list if \"DS\" not in x]\n",
    "            X_train, X_test= train_test_split(files_list, test_size=0.20, random_state=random_state_num)\n",
    "            for files in files_list:\n",
    "                if files in X_train[:]:\n",
    "                    shutil.move(str(folder_location + '/' + folders + '/' + subfolders + '/' + subsubfolders + '/' + regions + '/' + files), '/Users/hhelmbre/Desktop/Mglur5_publication_analysis/vampire/train')\n",
    "                else:\n",
    "                    shutil.move(str(folder_location + '/' + folders + '/' + subfolders + '/' + subsubfolders + '/' + regions + '/' + files), '/Users/hhelmbre/Desktop/Mglur5_publication_analysis/vampire/test')"
   ]
  },
  {
   "cell_type": "markdown",
   "metadata": {},
   "source": [
    "*Step Y: Renaming the data sets according to VAMPIRE naming mechanism*"
   ]
  },
  {
   "cell_type": "code",
   "execution_count": null,
   "metadata": {},
   "outputs": [],
   "source": [
    "arr_train1 = os.listdir('/Users/hhelmbre/Desktop/Mglur5_publication_analysis/vampire/train')\n",
    "file_list_train1 = np.asarray(arr_train1)\n",
    "file_list_train1 = [ x for x in file_list_train1 if \"DS\" not in x]"
   ]
  },
  {
   "cell_type": "code",
   "execution_count": null,
   "metadata": {},
   "outputs": [],
   "source": [
    "im_number= 1\n",
    "for names in file_list_train1:\n",
    "    print(names)\n",
    "    \n",
    "    file_location = str('/Users/hhelmbre/Desktop/Mglur5_publication_analysis/vampire/train/' + names)\n",
    "    array = np.load(file_location)\n",
    "    im = Image.fromarray(array)\n",
    "    \n",
    "    if im_number < 10:\n",
    "        im.save(str('/Users/hhelmbre/Desktop/Mglur5_publication_analysis/vampire/train/' + names[:-4] + 'xy' + '0' + str(im_number) + 'c1.png'))\n",
    "        \n",
    "    else:\n",
    "        im.save(str('/Users/hhelmbre/Desktop/Mglur5_publication_analysis/vampire/train/' + names[:-4] + 'xy' + str(im_number) + 'c1.png'))\n",
    "        \n",
    "    \n",
    "    im_number +=1"
   ]
  },
  {
   "cell_type": "markdown",
   "metadata": {},
   "source": [
    "*Renaming test group according to VAMPIRE naming*"
   ]
  },
  {
   "cell_type": "code",
   "execution_count": null,
   "metadata": {},
   "outputs": [],
   "source": [
    "arr_test = os.listdir('/Users/hhelmbre/Desktop/Mglur5_publication_analysis/vampire/test/')\n",
    "file_list_test = np.asarray(arr_test)\n",
    "file_list_test = [ x for x in file_list_test if \"DS\" not in x]"
   ]
  },
  {
   "cell_type": "code",
   "execution_count": null,
   "metadata": {},
   "outputs": [],
   "source": [
    "im_number= 1\n",
    "for names in file_list_test:\n",
    "    print(names)\n",
    "    \n",
    "    file_location = str('/Users/hhelmbre/Desktop/Mglur5_publication_analysis/vampire/test/' + names)\n",
    "    array = np.load(file_location)\n",
    "    im = Image.fromarray(array)\n",
    "    \n",
    "    if im_number < 10:\n",
    "        im.save(str('/Users/hhelmbre/Desktop/Mglur5_publication_analysis/vampire/test/' + names[:-4] + 'xy' + '0' + str(im_number) + 'c1.png'))\n",
    "        \n",
    "    else:\n",
    "        im.save(str('/Users/hhelmbre/Desktop/Mglur5_publication_analysis/vampire/test/' + names[:-4] + 'xy' + str(im_number) + 'c1.png'))\n",
    "        \n",
    "    \n",
    "    im_number +=1"
   ]
  },
  {
   "cell_type": "markdown",
   "metadata": {},
   "source": [
    "# Creating the information necessary for VAMPIRE Analysis"
   ]
  },
  {
   "cell_type": "code",
   "execution_count": null,
   "metadata": {},
   "outputs": [],
   "source": [
    "data_folder = '/Users/hhelmbre/Desktop/Mglur5_publication_analysis/vampire'"
   ]
  },
  {
   "cell_type": "code",
   "execution_count": null,
   "metadata": {},
   "outputs": [],
   "source": [
    "#creates the directory in your data folder to put all information related to the model\n",
    "os.mkdir(str(data_folder + '/' + '6_21_22_model'))"
   ]
  },
  {
   "cell_type": "code",
   "execution_count": null,
   "metadata": {},
   "outputs": [],
   "source": [
    "#creates the csv for building a model\n",
    "data = [['all_training_images', '1', str(data_folder + '/' + 'train'), 'please work', 'tag']]\n",
    "build_model_csv = pd.DataFrame(data, columns = ['condition', 'set number', 'set location', 'note', 'ch1']) \n",
    "\n",
    "#saves csv to newly created model directory\n",
    "build_model_csv.to_csv(data_folder + '/' + '6_21_22_model/' + 'images_to_build_model.csv', index=False)"
   ]
  },
  {
   "cell_type": "code",
   "execution_count": null,
   "metadata": {},
   "outputs": [],
   "source": [
    "models = ['WT', 'HET']\n",
    "ages = ['P14', 'P28']\n",
    "sexes = ['male', 'female']\n",
    "regions = ['cortex', 'CA1', 'CA2', 'CA3']"
   ]
  },
  {
   "cell_type": "code",
   "execution_count": null,
   "metadata": {},
   "outputs": [],
   "source": [
    "#Note: not all of the above exist and I manually deleted unnecessary folders"
   ]
  },
  {
   "cell_type": "code",
   "execution_count": null,
   "metadata": {},
   "outputs": [],
   "source": [
    "apply_model_paths = []\n",
    "apply_model_csv = pd.DataFrame(columns = ['condition', 'set number', 'set location', 'set ID', 'tag'])\n",
    "set_number = 1\n",
    "for model in models:\n",
    "    for age in ages:\n",
    "        for sex in sexes:\n",
    "            for region in regions:\n",
    "                path = data_folder + '/test/' + model + '/' + age + '/' + sex + '/' + region\n",
    "                df2 = pd.DataFrame({'condition': [model], 'set number': [set_number], 'set location': [path], 'note': ['Mglur5 Analysis'], 'tag': ['c1']})\n",
    "                apply_model_csv = apply_model_csv.append(df2)\n",
    "\n",
    "                set_number += 1\n",
    "\n",
    "apply_model_csv.to_csv(data_folder + '/' + '6_21_22_model/' + 'images_to_apply_model.csv', index=False)"
   ]
  },
  {
   "cell_type": "code",
   "execution_count": null,
   "metadata": {},
   "outputs": [],
   "source": [
    "print('Build Model CSV Path:', str(data_folder + '/' + 'model/' + 'images_to_build_model.csv'))\n",
    "\n",
    "print('Conda Environment: tiredvampires')\n",
    "print('Number of Shape Models (Recommended):', '5')\n",
    "print('Number of Shape Coordinates (Recommended):', '50')\n",
    "print('Model Name:', '6_21_22_model')\n",
    "\n",
    "print('Apply Model CSV Path:', str(data_folder + '/' + 'model/' + 'images_to_apply_model.csv'))\n",
    "print('Model to Apply:', str(data_folder + '/' + 'model/' + '6_21_22_model'))"
   ]
  },
  {
   "cell_type": "code",
   "execution_count": null,
   "metadata": {},
   "outputs": [],
   "source": [
    "import vampireanalysis\n",
    "from vampireanalysis import vampire"
   ]
  },
  {
   "cell_type": "code",
   "execution_count": null,
   "metadata": {},
   "outputs": [],
   "source": [
    "vampire()"
   ]
  },
  {
   "cell_type": "code",
   "execution_count": null,
   "metadata": {},
   "outputs": [],
   "source": []
  }
 ],
 "metadata": {
  "kernelspec": {
   "display_name": "Python 3",
   "language": "python",
   "name": "python3"
  },
  "language_info": {
   "codemirror_mode": {
    "name": "ipython",
    "version": 3
   },
   "file_extension": ".py",
   "mimetype": "text/x-python",
   "name": "python",
   "nbconvert_exporter": "python",
   "pygments_lexer": "ipython3",
   "version": "3.8.3"
  }
 },
 "nbformat": 4,
 "nbformat_minor": 4
}
