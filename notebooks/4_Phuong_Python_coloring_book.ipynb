{
 "cells": [
  {
   "cell_type": "markdown",
   "metadata": {},
   "source": [
    "# Purpose: Coloring Segmented Images According to Shape Mode"
   ]
  },
  {
   "cell_type": "markdown",
   "metadata": {},
   "source": [
    "Date Created: 1-26-2021"
   ]
  },
  {
   "cell_type": "markdown",
   "metadata": {},
   "source": [
    "Date Updated: 11-15-2021: Updated to change from the ferret paper to the Microglia/BeV paper"
   ]
  },
  {
   "cell_type": "markdown",
   "metadata": {},
   "source": [
    "Author: Hawley Helmbrecht"
   ]
  },
  {
   "cell_type": "markdown",
   "metadata": {},
   "source": [
    "**Colors:** \n",
    "\n",
    "shape mode 1: Blue\n",
    "\n",
    "shape mode 2: Orange\n",
    "\n",
    "shape mode 3: Green\n",
    "\n",
    "shape mode 4: Red\n",
    "\n",
    "shape mode 5: Purple"
   ]
  },
  {
   "cell_type": "markdown",
   "metadata": {},
   "source": [
    "*Step 1: Import Necessary Packages*"
   ]
  },
  {
   "cell_type": "code",
   "execution_count": null,
   "metadata": {},
   "outputs": [],
   "source": [
    "import numpy as np\n",
    "import matplotlib.image as mpimg \n",
    "import matplotlib.pyplot as plt\n",
    "import pandas as pd\n",
    "import cv2\n",
    "from PIL import Image\n",
    "import os"
   ]
  },
  {
   "cell_type": "code",
   "execution_count": null,
   "metadata": {},
   "outputs": [],
   "source": []
  },
  {
   "cell_type": "markdown",
   "metadata": {},
   "source": [
    "*Step 2: User input variables*"
   ]
  },
  {
   "cell_type": "code",
   "execution_count": null,
   "metadata": {},
   "outputs": [],
   "source": [
    "im_file_path = '/Users/hhelmbre/Desktop/Phuong_Bev/vampire/images/test/4_hr_exposure_0_hr_application_pngs/bev_treatment/EV_MICROGLIA_STUDY_4HR_EXPOSURE_1-2-1-1_li_thresh_quad2xy47c1.png'\n",
    "csv_file_path = '/Users/hhelmbre/Desktop/Phuong_Bev/visualization/shape_mode_vs_feature_all.csv'"
   ]
  },
  {
   "cell_type": "code",
   "execution_count": null,
   "metadata": {},
   "outputs": [],
   "source": []
  },
  {
   "cell_type": "markdown",
   "metadata": {},
   "source": [
    "*Step 3: Reading in the Image and CSV with Labels*"
   ]
  },
  {
   "cell_type": "code",
   "execution_count": null,
   "metadata": {},
   "outputs": [],
   "source": [
    "img = mpimg.imread(im_file_path)\n",
    "csv_df = pd.read_csv(csv_file_path)"
   ]
  },
  {
   "cell_type": "code",
   "execution_count": null,
   "metadata": {},
   "outputs": [],
   "source": [
    "csv_df"
   ]
  },
  {
   "cell_type": "markdown",
   "metadata": {},
   "source": [
    "*Step 4: Getting the file name*"
   ]
  },
  {
   "cell_type": "code",
   "execution_count": null,
   "metadata": {},
   "outputs": [],
   "source": [
    "im_file_name_split = im_file_path.split('/')\n",
    "length = len(im_file_name_split)\n",
    "file_name = im_file_name_split[length-1]\n",
    "file_name"
   ]
  },
  {
   "cell_type": "markdown",
   "metadata": {},
   "source": [
    "*Step 5: Creating a mask for labeling*"
   ]
  },
  {
   "cell_type": "code",
   "execution_count": null,
   "metadata": {},
   "outputs": [],
   "source": [
    "mask_b = np.zeros(np.asarray(img.shape)+2, dtype=np.uint8)\n",
    "mask_o = np.zeros(np.asarray(img.shape)+2, dtype=np.uint8)\n",
    "mask_g = np.zeros(np.asarray(img.shape)+2, dtype=np.uint8)\n",
    "mask_r = np.zeros(np.asarray(img.shape)+2, dtype=np.uint8)\n",
    "mask_p = np.zeros(np.asarray(img.shape)+2, dtype=np.uint8)"
   ]
  },
  {
   "cell_type": "code",
   "execution_count": null,
   "metadata": {},
   "outputs": [],
   "source": [
    "start_pt = (14,111)\n",
    "cv2.floodFill(img, mask_o, start_pt, (0,0,255), flags=4)"
   ]
  },
  {
   "cell_type": "code",
   "execution_count": null,
   "metadata": {},
   "outputs": [],
   "source": [
    "mask_o = mask_o[1:-1, 1:-1]"
   ]
  },
  {
   "cell_type": "code",
   "execution_count": null,
   "metadata": {},
   "outputs": [],
   "source": [
    "plt.imshow(mask_o, cmap='gray')"
   ]
  },
  {
   "cell_type": "markdown",
   "metadata": {},
   "source": [
    "*Step X: Automating the Process*"
   ]
  },
  {
   "cell_type": "markdown",
   "metadata": {},
   "source": [
    "*Step 1: Import need_to_label_list*"
   ]
  },
  {
   "cell_type": "code",
   "execution_count": null,
   "metadata": {},
   "outputs": [],
   "source": [
    "need_to_label_list_file_path = '/Users/hhelmbre/Desktop/Phuong_Bev/visualization/images_to_color.csv'\n",
    "need_to_label_list = pd.read_csv(need_to_label_list_file_path)\n",
    "need_to_label_list"
   ]
  },
  {
   "cell_type": "code",
   "execution_count": null,
   "metadata": {},
   "outputs": [],
   "source": [
    "need_to_label_list2 = []\n",
    "j = 0\n",
    "for file_paths in range(0,need_to_label_list.shape[0]):\n",
    "    arr = os.listdir(need_to_label_list['image_file_path'][j])\n",
    "    image_list = np.asarray(arr)\n",
    "    image_list = [x for x in image_list if \".png\" in x]\n",
    "    for images in image_list:\n",
    "        file_name = str(need_to_label_list['image_file_path'][j] + '/' + images)\n",
    "        need_to_label_list2.append(file_name)\n",
    "        \n",
    "    j += 1\n",
    "    "
   ]
  },
  {
   "cell_type": "markdown",
   "metadata": {},
   "source": [
    "*Add in a step here to visualize the shape mode labels with the colors I chose*"
   ]
  },
  {
   "cell_type": "code",
   "execution_count": null,
   "metadata": {},
   "outputs": [],
   "source": [
    "def c(x):\n",
    "   col = plt.cm.twilight(x)\n",
    "   fig, ax = plt.subplots(figsize=(1,1))\n",
    "   fig.set_facecolor(col)\n",
    "   ax.axis(\"off\")\n",
    "   plt.show()"
   ]
  },
  {
   "cell_type": "code",
   "execution_count": null,
   "metadata": {},
   "outputs": [],
   "source": [
    "color_list = np.linspace(0,1,20)\n",
    "color_list = [0.5, 0.047, 0.7, 0.33, 0.9]\n",
    "for options in color_list:\n",
    "    print(options)\n",
    "    c(options)"
   ]
  },
  {
   "cell_type": "markdown",
   "metadata": {},
   "source": [
    "*The code to actually recolor the images*"
   ]
  },
  {
   "cell_type": "code",
   "execution_count": null,
   "metadata": {},
   "outputs": [],
   "source": [
    "label_save_file_path = '/Users/hhelmbre/Desktop/Phuong_Bev/vampire/color_coded'"
   ]
  },
  {
   "cell_type": "code",
   "execution_count": null,
   "metadata": {},
   "outputs": [],
   "source": [
    "k = 0\n",
    "cmap = plt.get_cmap('twilight')\n",
    "cmap.set_bad(color = 'white')\n",
    "for images in need_to_label_list2:\n",
    "    \n",
    "    #Reading in the image and its labels\n",
    "    im_file_path = images\n",
    "    img = mpimg.imread(im_file_path)\n",
    "    csv_df = pd.read_csv('/Users/hhelmbre/Desktop/Phuong_Bev/visualization/shape_mode_vs_feature_all.csv')\n",
    "    \n",
    "    #Getting the file path from the file name\n",
    "    im_file_name_split = im_file_path.split('/')\n",
    "    length = len(im_file_name_split)\n",
    "    file_name = im_file_name_split[length-1]\n",
    "    print(file_name)\n",
    "    \n",
    "    mask = np.zeros(np.asarray(img.shape)+2, dtype=np.uint8)\n",
    "    \n",
    "    csv_df = csv_df[csv_df.Filename == file_name]\n",
    "    csv_df = csv_df.reset_index(drop=True)\n",
    "    \n",
    "    for shapes in range(len(csv_df)):\n",
    "        shape_mode = (csv_df['Shape mode'][shapes]).astype(int)\n",
    "        start_pt = (csv_df['X'][shapes], csv_df['Y'][shapes])\n",
    "        area =csv_df['Area'][shapes]\n",
    "        \n",
    "        if img[csv_df['Y'][shapes]][csv_df['X'][shapes]]== 1:\n",
    "            if shape_mode==1: #0.5\n",
    "                cv2.floodFill(img, mask, start_pt, 0, flags=0)\n",
    "                mask[mask == 1] = 128\n",
    "\n",
    "            elif shape_mode==2: #0.047\n",
    "                cv2.floodFill(img, mask, start_pt, 0, flags=0)\n",
    "                mask[mask == 1] = 12\n",
    "            elif shape_mode==3: #0.7\n",
    "                cv2.floodFill(img, mask, start_pt, 0, flags=0)\n",
    "                mask[mask == 1] = 179\n",
    "\n",
    "            elif shape_mode==4: #0.33\n",
    "                cv2.floodFill(img, mask, start_pt, 0, flags=0)\n",
    "                mask[mask == 1] = 85\n",
    "\n",
    "            elif shape_mode==5: #0.9\n",
    "                cv2.floodFill(img, mask, start_pt, 0, flags=0)\n",
    "                mask[mask == 1] = 230\n",
    "\n",
    "            if shapes == len(csv_df)-1:\n",
    "                mask = mask[1:-1, 1:-1]\n",
    "                mask[0][0] = 255\n",
    "                \n",
    "                mask = mask.astype('float')\n",
    "                mask[mask==0] = np.nan\n",
    "            \n",
    "                plt.imshow(mask,cmap='twilight')\n",
    "                plt.tick_params(\n",
    "                    axis='x',\n",
    "                    which='both',\n",
    "                    bottom=False,\n",
    "                    top=False,\n",
    "                    labelbottom=False)\n",
    "                plt.yticks([])\n",
    "                plt.savefig(str(label_save_file_path + str(k) + file_name), bbox_inches = 'tight',\n",
    "    pad_inches = 0)\n",
    "\n",
    "                #img_to_save = Image.fromarray(mask)\n",
    "                #img_to_save.save(str(label_save_file_path + str(k) + file_name))\n",
    "\n",
    "    \n",
    "    k += 1"
   ]
  },
  {
   "cell_type": "markdown",
   "metadata": {},
   "source": [
    "*Step 3: Environment Specs*"
   ]
  },
  {
   "cell_type": "code",
   "execution_count": null,
   "metadata": {},
   "outputs": [],
   "source": [
    "%load_ext watermark\n",
    "\n",
    "%watermark -v -m -p numpy,pandas,scipy,skimage,matplotlib,cv2,PIL,wget\n",
    "\n",
    "%watermark -u -n -t -z"
   ]
  },
  {
   "cell_type": "code",
   "execution_count": null,
   "metadata": {},
   "outputs": [],
   "source": []
  }
 ],
 "metadata": {
  "kernelspec": {
   "display_name": "Python 3",
   "language": "python",
   "name": "python3"
  },
  "language_info": {
   "codemirror_mode": {
    "name": "ipython",
    "version": 3
   },
   "file_extension": ".py",
   "mimetype": "text/x-python",
   "name": "python",
   "nbconvert_exporter": "python",
   "pygments_lexer": "ipython3",
   "version": "3.7.4"
  }
 },
 "nbformat": 4,
 "nbformat_minor": 4
}
