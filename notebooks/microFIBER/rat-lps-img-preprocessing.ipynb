{
 "cells": [
  {
   "cell_type": "markdown",
   "id": "0",
   "metadata": {},
   "source": [
    "# Rat LPS Image Preprocessing\n",
    "\n",
    "19 May 2022\n",
    "\n",
    "Objective: Preprocess the given unlabeled images in `.npy` to labeled images in `.tif` for further VAMPIRE analysis.\n",
    "\n",
    "## Read, label, and write images"
   ]
  },
  {
   "cell_type": "code",
   "execution_count": null,
   "id": "1",
   "metadata": {},
   "outputs": [],
   "source": [
    "import os\n",
    "import numpy as np\n",
    "import matplotlib.pyplot as plt\n",
    "import pandas as pd\n",
    "import skimage\n",
    "import vampire as vp"
   ]
  },
  {
   "cell_type": "code",
   "execution_count": null,
   "id": "2",
   "metadata": {},
   "outputs": [],
   "source": [
    "# set up filepaths to ndarrays\n",
    "DATA_DIR = r'C:\\Files\\github-projects\\nance-lab-data\\microfiber\\0-raw-rat-lps-ostu'\n",
    "filenames = np.array(os.listdir(DATA_DIR))\n",
    "os_path_join = np.vectorize(os.path.join)\n",
    "filepaths = os_path_join(DATA_DIR, filenames)"
   ]
  },
  {
   "cell_type": "code",
   "execution_count": null,
   "id": "3",
   "metadata": {},
   "outputs": [],
   "source": [
    "def load_imgs(filepaths):\n",
    "    \"\"\"Filepaths are paths to images. Returns image ndarrays.\"\"\"\n",
    "    imgs = []\n",
    "    for filepath in filepaths:\n",
    "        imgs.append(skimage.measure.label(np.load(filepath)))\n",
    "    return imgs"
   ]
  },
  {
   "cell_type": "code",
   "execution_count": null,
   "id": "4",
   "metadata": {},
   "outputs": [],
   "source": [
    "imgs = load_imgs(filepaths)"
   ]
  },
  {
   "cell_type": "code",
   "execution_count": null,
   "id": "5",
   "metadata": {},
   "outputs": [],
   "source": [
    "img_paths = pd.Series(filepaths).str.replace('npy', 'tif').to_numpy()"
   ]
  },
  {
   "cell_type": "code",
   "execution_count": null,
   "id": "6",
   "metadata": {},
   "outputs": [],
   "source": [
    "from skimage import io\n",
    "def save_imgs(img_set, save_img_paths):\n",
    "    for i in range(len(img_set)):\n",
    "        io.imsave(save_img_paths[i], img_set[i])"
   ]
  },
  {
   "cell_type": "code",
   "execution_count": null,
   "id": "7",
   "metadata": {},
   "outputs": [],
   "source": [
    "save_imgs(imgs, img_paths)"
   ]
  },
  {
   "cell_type": "markdown",
   "id": "8",
   "metadata": {},
   "source": [
    "Below are not runned for rat LPS model"
   ]
  },
  {
   "cell_type": "code",
   "execution_count": null,
   "id": "9",
   "metadata": {},
   "outputs": [],
   "source": [
    "import pandas as pd\n",
    "import numpy as np\n",
    "region = 'thalamus'\n",
    "filter_info = pd.DataFrame(np.array([['tif'], ['otsu'], [region]]).T,\n",
    "                   columns=['extension', 'threshold', 'region'])\n",
    "\n",
    "import vampire as vp\n",
    "vp.model.build_and_apply_model(r'C:\\Files\\github-projects\\nance-lab-data\\microfiber\\ogd_severity_segmentations',\n",
    "                      r'C:\\Files\\github-projects\\nance-lab-data\\microfiber\\vampire-data',\n",
    "                      f'otsu_contour_split_{region}',\n",
    "                      f'otsu_contour_split_{region}',\n",
    "                      50, 5, filter_info,\n",
    "                      random_state=1)"
   ]
  },
  {
   "cell_type": "markdown",
   "id": "10",
   "metadata": {},
   "source": [
    "## Contour test train split"
   ]
  },
  {
   "cell_type": "code",
   "execution_count": null,
   "id": "11",
   "metadata": {},
   "outputs": [],
   "source": [
    "def extract_contours(img_set):\n",
    "    img_i = 1\n",
    "    contours_from_folder = []\n",
    "    for img in img_set:\n",
    "        # read image and get contours and properties\n",
    "        object_labels = np.unique(img)[1:]\n",
    "        contours_from_img = vp.extraction.get_contours_from_image(img, object_labels)\n",
    "        contours_from_folder.extend(contours_from_img)\n",
    "        img_i += 1\n",
    "    return contours_from_folder"
   ]
  },
  {
   "cell_type": "code",
   "execution_count": null,
   "id": "12",
   "metadata": {},
   "outputs": [],
   "source": [
    "otsu_contours = extract_contours(otsu_imgs)\n",
    "yen_contours = extract_contours(yen_imgs)"
   ]
  },
  {
   "cell_type": "code",
   "execution_count": null,
   "id": "13",
   "metadata": {},
   "outputs": [],
   "source": [
    "def extract_properties(img_set, filepaths):\n",
    "    properties_from_folder = []\n",
    "    for i in range(len(img_set)):\n",
    "        # read image and get contours and properties\n",
    "        object_labels = np.unique(img_set[i])[1:]\n",
    "        properties_from_img = vp.extraction.get_properties_from_image(img_set[i], filepaths[i], i, object_labels)\n",
    "        properties_from_folder.append(properties_from_img)\n",
    "    properties_from_folder_df = pd.concat(properties_from_folder)\n",
    "    return properties_from_folder_df"
   ]
  },
  {
   "cell_type": "code",
   "execution_count": null,
   "id": "14",
   "metadata": {},
   "outputs": [],
   "source": [
    "otsu_properties = extract_properties(otsu_imgs, otsu_filepaths)\n",
    "yen_properties = extract_properties(yen_imgs, yen_filepaths)"
   ]
  },
  {
   "cell_type": "markdown",
   "id": "15",
   "metadata": {},
   "source": [
    "### Otsu"
   ]
  },
  {
   "cell_type": "code",
   "execution_count": null,
   "id": "16",
   "metadata": {},
   "outputs": [],
   "source": [
    "from sklearn.model_selection import train_test_split\n",
    "otsu_contours_train, otsu_contours_test, otsu_properties_train, otsu_properties_test = train_test_split(otsu_contours, otsu_properties, random_state=1)"
   ]
  },
  {
   "cell_type": "code",
   "execution_count": null,
   "id": "17",
   "metadata": {},
   "outputs": [],
   "source": [
    "otsu_model = vp.model.build_model_from_contours(otsu_contours_train, 'Otsu OGD', 50, 5, random_state=1)\n",
    "otsu_contours_df, otsu_min_distance = vp.model.apply_model_from_contours(otsu_contours_test, otsu_model)"
   ]
  },
  {
   "cell_type": "code",
   "execution_count": null,
   "id": "18",
   "metadata": {},
   "outputs": [],
   "source": [
    "def write_clusters_info(properties_df, contours_df, distance):\n",
    "    properties_df['cluster_id'] = contours_df['cluster_id']\n",
    "    properties_df['distance_to_centroid'] = distance\n",
    "    return properties_df"
   ]
  },
  {
   "cell_type": "code",
   "execution_count": null,
   "id": "19",
   "metadata": {},
   "outputs": [],
   "source": [
    "write_clusters_info(otsu_properties_test, otsu_contours_df, otsu_min_distance)"
   ]
  },
  {
   "cell_type": "code",
   "execution_count": null,
   "id": "20",
   "metadata": {},
   "outputs": [],
   "source": [
    "output_path = r'C:\\Files\\github-projects\\nance-lab-data\\microfiber\\figure'\n",
    "vp.plot.set_plot_style()\n",
    "vp.plot.plot_distribution_contour_dendrogram(otsu_model['build_contours_df'], None, output_path, otsu_model['model_name'])\n",
    "vp.plot.plot_distribution_contour_dendrogram(otsu_model['build_contours_df'], otsu_contours_df, output_path,\n",
    "                                                  otsu_model['model_name'], otsu_model['model_name'])"
   ]
  },
  {
   "cell_type": "markdown",
   "id": "21",
   "metadata": {},
   "source": [
    "### Yen"
   ]
  },
  {
   "cell_type": "code",
   "execution_count": null,
   "id": "22",
   "metadata": {},
   "outputs": [],
   "source": [
    "from sklearn.model_selection import train_test_split\n",
    "yen_contours_train, yen_contours_test = train_test_split(yen_contours, random_state=1)"
   ]
  },
  {
   "cell_type": "code",
   "execution_count": null,
   "id": "23",
   "metadata": {},
   "outputs": [],
   "source": [
    "yen_model = vp.model.build_model_from_contours(yen_contours_train, 'Yen OGD', 50, 5, random_state=1)\n",
    "yen_contours_df, yen_min_distance = vp.model.apply_model_from_contours(yen_contours_test, yen_model)"
   ]
  },
  {
   "cell_type": "code",
   "execution_count": null,
   "id": "24",
   "metadata": {},
   "outputs": [],
   "source": [
    "output_path = r'C:\\Files\\github-projects\\nance-lab-data\\microfiber\\figure'\n",
    "vp.plot.set_plot_style()\n",
    "vp.plot.plot_distribution_contour_dendrogram(yen_model['build_contours_df'], None, output_path, yen_model['model_name'])\n",
    "vp.plot.plot_distribution_contour_dendrogram(yen_model['build_contours_df'], yen_contours_df, output_path,\n",
    "                                                  yen_model['model_name'], yen_model['model_name'])"
   ]
  },
  {
   "cell_type": "markdown",
   "id": "25",
   "metadata": {},
   "source": [
    "## Original image split"
   ]
  },
  {
   "cell_type": "code",
   "execution_count": null,
   "id": "26",
   "metadata": {},
   "outputs": [],
   "source": [
    "from sklearn.model_selection import train_test_split\n",
    "otsu_imgs_train, otsu_imgs_test = train_test_split(otsu_imgs, random_state=1)\n",
    "yen_imgs_train, yen_imgs_test = train_test_split(yen_imgs, random_state=1)"
   ]
  },
  {
   "cell_type": "code",
   "execution_count": null,
   "id": "27",
   "metadata": {},
   "outputs": [],
   "source": [
    "def extract_contours(img_set):\n",
    "    img_i = 1\n",
    "    contours_from_folder = []\n",
    "    for img in img_set:\n",
    "        # read image and get contours and properties\n",
    "        object_labels = np.unique(img)[1:]\n",
    "        contours_from_img = vp.extraction.get_contours_from_image(img, object_labels)\n",
    "        contours_from_folder.extend(contours_from_img)\n",
    "        img_i += 1\n",
    "    return contours_from_folder"
   ]
  },
  {
   "cell_type": "markdown",
   "id": "28",
   "metadata": {},
   "source": [
    "### Otsu"
   ]
  },
  {
   "cell_type": "code",
   "execution_count": null,
   "id": "29",
   "metadata": {},
   "outputs": [],
   "source": [
    "otsu_contours_train = extract_contours(otsu_imgs_train)\n",
    "otsu_contours_test = extract_contours(otsu_imgs_test)"
   ]
  },
  {
   "cell_type": "code",
   "execution_count": null,
   "id": "30",
   "metadata": {},
   "outputs": [],
   "source": [
    "otsu_model = vp.model.build_model_from_contours(otsu_contours_train, 'Otsu OGD', 50, 5, random_state=1)\n",
    "otsu_contours_df, otsu_min_distance = vp.model.apply_model_from_contours(otsu_contours_test, otsu_model)"
   ]
  },
  {
   "cell_type": "code",
   "execution_count": null,
   "id": "31",
   "metadata": {},
   "outputs": [],
   "source": [
    "output_path = r'C:\\Files\\github-projects\\nance-lab-data\\microfiber\\figure'\n",
    "vp.plot.set_plot_style()\n",
    "vp.plot.plot_distribution_contour_dendrogram(otsu_model['build_contours_df'], None, output_path, otsu_model['model_name'])\n",
    "vp.plot.plot_distribution_contour_dendrogram(otsu_model['build_contours_df'], otsu_contours_df, output_path,\n",
    "                                                  otsu_model['model_name'], otsu_model['model_name'])"
   ]
  },
  {
   "cell_type": "markdown",
   "id": "32",
   "metadata": {},
   "source": [
    "### Yen"
   ]
  },
  {
   "cell_type": "code",
   "execution_count": null,
   "id": "33",
   "metadata": {},
   "outputs": [],
   "source": [
    "yen_contours_train = extract_contours(yen_imgs_train)\n",
    "yen_contours_test = extract_contours(yen_imgs_test)"
   ]
  },
  {
   "cell_type": "code",
   "execution_count": null,
   "id": "34",
   "metadata": {},
   "outputs": [],
   "source": [
    "yen_model = vp.model.build_model_from_contours(yen_contours_train, 'Yen OGD', 50, 5, random_state=1)\n",
    "yen_contours_df, yen_min_distance = vp.model.apply_model_from_contours(yen_contours_test, yen_model)"
   ]
  },
  {
   "cell_type": "code",
   "execution_count": null,
   "id": "35",
   "metadata": {},
   "outputs": [],
   "source": [
    "output_path = r'C:\\Files\\github-projects\\nance-lab-data\\microfiber\\figure'\n",
    "vp.plot.set_plot_style()\n",
    "vp.plot.plot_distribution_contour_dendrogram(yen_model['build_contours_df'], None, output_path, yen_model['model_name'])\n",
    "vp.plot.plot_distribution_contour_dendrogram(yen_model['build_contours_df'], yen_contours_df, output_path,\n",
    "                                                  yen_model['model_name'], yen_model['model_name'])"
   ]
  }
 ],
 "metadata": {
  "kernelspec": {
   "display_name": "Python 3",
   "language": "python",
   "name": "python3"
  },
  "language_info": {
   "codemirror_mode": {
    "name": "ipython",
    "version": 3
   },
   "file_extension": ".py",
   "mimetype": "text/x-python",
   "name": "python",
   "nbconvert_exporter": "python",
   "pygments_lexer": "ipython3",
   "version": "3.7.4"
  },
  "toc": {
   "base_numbering": 1,
   "nav_menu": {},
   "number_sections": true,
   "sideBar": true,
   "skip_h1_title": false,
   "title_cell": "Table of Contents",
   "title_sidebar": "Contents",
   "toc_cell": false,
   "toc_position": {},
   "toc_section_display": true,
   "toc_window_display": false
  }
 },
 "nbformat": 4,
 "nbformat_minor": 5
}
