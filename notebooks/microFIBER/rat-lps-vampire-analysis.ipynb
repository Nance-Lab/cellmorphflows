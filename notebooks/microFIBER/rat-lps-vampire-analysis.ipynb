{
 "cells": [
  {
   "cell_type": "markdown",
   "id": "0",
   "metadata": {},
   "source": [
    "# Rat LPS VAMPIRE Analysis\n",
    "\n",
    "19 May 2022\n",
    "\n",
    "Objetive: Perform VAMPIRE analysis on the rat LPS model."
   ]
  },
  {
   "cell_type": "markdown",
   "id": "1",
   "metadata": {},
   "source": [
    "## Baseline data setup\n",
    "\n",
    "### Baseline VAMPIRE analysis"
   ]
  },
  {
   "cell_type": "code",
   "execution_count": null,
   "id": "2",
   "metadata": {},
   "outputs": [],
   "source": [
    "import os\n",
    "import matplotlib.pyplot as plt\n",
    "import numpy as np\n",
    "import seaborn as sns\n",
    "import pandas as pd\n",
    "import vampire as vp\n",
    "from sklearn import manifold\n",
    "vp.plot.set_plot_style()"
   ]
  },
  {
   "cell_type": "code",
   "execution_count": null,
   "id": "3",
   "metadata": {},
   "outputs": [],
   "source": [
    "img_set_path = r'C:\\Files\\github-projects/nance-lab-data/microfiber/0-raw-rat-lps-ostu'\n",
    "output_path = r'C:\\Files\\github-projects\\nance-lab-data\\microfiber\\result\\result-2022-05-19-rat-lps'"
   ]
  },
  {
   "cell_type": "code",
   "execution_count": null,
   "id": "4",
   "metadata": {},
   "outputs": [],
   "source": [
    "# extract properties from all images for future use\n",
    "vp.extraction.extract_properties(img_set_path)"
   ]
  },
  {
   "cell_type": "code",
   "execution_count": null,
   "id": "5",
   "metadata": {},
   "outputs": [],
   "source": [
    "build_info_df = pd.DataFrame({\n",
    "        'img_set_path': [img_set_path],\n",
    "        'output_path': [output_path],\n",
    "        'model_name': ['rat-lps'],\n",
    "        'num_points': [np.nan],\n",
    "        'num_clusters': [10],\n",
    "        'num_pc': [np.nan],\n",
    "    })\n",
    "vp.quickstart.build_models(build_info_df, random_state=1)"
   ]
  },
  {
   "cell_type": "code",
   "execution_count": null,
   "id": "6",
   "metadata": {},
   "outputs": [],
   "source": [
    "model_path = os.path.join(output_path, 'model_rat-lps_(50_5_33)__.pickle')\n",
    "vampire_model = vp.util.read_pickle(model_path)"
   ]
  },
  {
   "cell_type": "code",
   "execution_count": null,
   "id": "7",
   "metadata": {},
   "outputs": [],
   "source": [
    "apply_info_df = pd.DataFrame({\n",
    "        'img_set_path': [img_set_path],\n",
    "        'model_path': [model_path],\n",
    "        'output_path': [output_path],\n",
    "        'img_set_name': ['rat-lps'],\n",
    "    })\n",
    "vp.quickstart.apply_models(apply_info_df)"
   ]
  },
  {
   "cell_type": "code",
   "execution_count": null,
   "id": "8",
   "metadata": {},
   "outputs": [],
   "source": [
    "property_path = os.path.join(output_path, 'apply-properties_rat-lps_on_rat-lps_(50_5_33)__.pickle')\n",
    "apply_properties_df = vp.util.read_pickle(property_path)"
   ]
  },
  {
   "cell_type": "markdown",
   "id": "9",
   "metadata": {},
   "source": [
    "### Data processing\n",
    "\n",
    "#### Label experimental metadata"
   ]
  },
  {
   "cell_type": "code",
   "execution_count": null,
   "id": "10",
   "metadata": {},
   "outputs": [],
   "source": [
    "apply_properties_df.head()"
   ]
  },
  {
   "cell_type": "code",
   "execution_count": null,
   "id": "11",
   "metadata": {},
   "outputs": [],
   "source": [
    "def label_df(properties_df, id_df, target_props, search_prop='filename'):\n",
    "    \"\"\"\n",
    "    properties_df : DataFrame\n",
    "        Contains \"filename\" column\n",
    "    id_df : DataFrame\n",
    "        Contains columns listed in `properties` and \"regex\" column.\n",
    "    target_props : list\n",
    "        List of property(s) to be added. Must match column name in `id_df`.\n",
    "    \"\"\"\n",
    "    properties_df = properties_df.copy()\n",
    "    properties_df[target_props] = np.nan\n",
    "    for i in range(id_df['regex'].size):\n",
    "        mask = properties_df[search_prop].astype(str).str.contains(id_df['regex'][i])\n",
    "        properties_df.loc[mask, target_props] = id_df.iloc[i, :][target_props].values\n",
    "    return properties_df"
   ]
  },
  {
   "cell_type": "code",
   "execution_count": null,
   "id": "12",
   "metadata": {},
   "outputs": [],
   "source": []
  }
 ],
 "metadata": {
  "kernelspec": {
   "display_name": "Python 3",
   "language": "python",
   "name": "python3"
  },
  "language_info": {
   "codemirror_mode": {
    "name": "ipython",
    "version": 3
   },
   "file_extension": ".py",
   "mimetype": "text/x-python",
   "name": "python",
   "nbconvert_exporter": "python",
   "pygments_lexer": "ipython3",
   "version": "3.7.4"
  }
 },
 "nbformat": 4,
 "nbformat_minor": 5
}
