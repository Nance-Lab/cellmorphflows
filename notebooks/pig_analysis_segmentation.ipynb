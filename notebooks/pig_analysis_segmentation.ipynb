{
 "cells": [
  {
   "cell_type": "markdown",
   "metadata": {},
   "source": [
    "# Purpose: Pig Cell Analysis"
   ]
  },
  {
   "cell_type": "markdown",
   "metadata": {},
   "source": [
    "### Purpose: To segment and quantify features of all the pig data"
   ]
  },
  {
   "cell_type": "markdown",
   "metadata": {},
   "source": [
    "Created by: Hawley Helmbrecht"
   ]
  },
  {
   "cell_type": "markdown",
   "metadata": {},
   "source": [
    "Creation Date: 06/4/2021"
   ]
  },
  {
   "cell_type": "markdown",
   "metadata": {},
   "source": [
    "Last Update: "
   ]
  },
  {
   "cell_type": "markdown",
   "metadata": {},
   "source": [
    "Notes:\n",
    "    \n",
    "    I did this process 3 times. First only using one of the channels. Second time, using a max intensity projection of all the channels since they appear to all be GFAP. And the third time with the max intensity projection and then with the binary fill holes after the remove small objects.\n",
    "    \n",
    "    I will do a qualitative check of segmentation accuracy to chose between these three for the VAMPIRE analysis and data visualization later. The current notebook shows the process for the 3rd option."
   ]
  },
  {
   "cell_type": "markdown",
   "metadata": {},
   "source": [
    "*Step 1: Import Necessary Packages*"
   ]
  },
  {
   "cell_type": "code",
   "execution_count": null,
   "metadata": {},
   "outputs": [],
   "source": [
    "import numpy as np\n",
    "import pandas as pd\n",
    "from scipy import ndimage\n",
    "\n",
    "import skimage.filters\n",
    "from skimage import morphology\n",
    "from skimage.measure import label, regionprops, regionprops_table\n",
    "from skimage.color import label2rgb\n",
    "from skimage import io\n",
    "from skimage import measure \n",
    "\n",
    "import matplotlib.pyplot as plt\n",
    "import matplotlib.patches as mpatches\n",
    "\n",
    "import watermark\n",
    "import os\n",
    "from PIL import Image"
   ]
  },
  {
   "cell_type": "markdown",
   "metadata": {},
   "source": [
    "*Step 2: User Inputs*"
   ]
  },
  {
   "cell_type": "code",
   "execution_count": null,
   "metadata": {},
   "outputs": [],
   "source": [
    "#replace the example path from my computer with the path to the image on your computer\n",
    "\n",
    "cell_folder = '/Users/hhelmbre/Desktop/Hawley_Pig_Data'\n",
    "\n",
    "image_type = '.tif'"
   ]
  },
  {
   "cell_type": "markdown",
   "metadata": {},
   "source": [
    "*Step 3: Defining a Folder Cleaner Function to only Return Tif Images*"
   ]
  },
  {
   "cell_type": "code",
   "execution_count": null,
   "metadata": {},
   "outputs": [],
   "source": [
    "def folder_cleaner(folder, image_type):\n",
    "    k=0\n",
    "    for files in folder:\n",
    "        if image_type in str(files):\n",
    "            k+=1\n",
    "        else:\n",
    "            folder = np.delete(folder, np.argwhere(folder == str(files)))\n",
    "    return folder"
   ]
  },
  {
   "cell_type": "markdown",
   "metadata": {},
   "source": [
    "*Step 4: Get All Images in the Folder*"
   ]
  },
  {
   "cell_type": "code",
   "execution_count": null,
   "metadata": {},
   "outputs": [],
   "source": [
    "arr = os.listdir(cell_folder)\n",
    "file_list = np.asarray(arr)\n",
    "file_list = folder_cleaner(file_list, image_type)"
   ]
  },
  {
   "cell_type": "code",
   "execution_count": null,
   "metadata": {},
   "outputs": [],
   "source": [
    "file_list"
   ]
  },
  {
   "cell_type": "markdown",
   "metadata": {},
   "source": [
    "*Step 5: Segmenting and Calculating Region Features on All Images*"
   ]
  },
  {
   "cell_type": "code",
   "execution_count": null,
   "metadata": {},
   "outputs": [],
   "source": [
    "properties_list = ('area', 'bbox_area', 'centroid', 'convex_area', \n",
    "                   'eccentricity', 'equivalent_diameter', 'euler_number', \n",
    "                   'extent', 'filled_area', 'major_axis_length', \n",
    "                   'minor_axis_length', 'orientation', 'perimeter', 'solidity')\n"
   ]
  },
  {
   "cell_type": "code",
   "execution_count": null,
   "metadata": {},
   "outputs": [],
   "source": [
    "j = 0\n",
    "for names in file_list:\n",
    "        \n",
    "    try:\n",
    "        cell_im = io.imread(str(cell_folder + '/' + names))\n",
    "        print('name', names, 'shape', cell_im.shape)\n",
    "        shape = cell_im.shape\n",
    "        \n",
    "        #Some of the images did not have 3 channels but still appear to include only the GFAP stain\n",
    "        if len(shape) == 3:\n",
    "            green_cell_im = np.max(cell_im, axis=2)\n",
    "        else:\n",
    "            green_cell_im = cell_im\n",
    "    \n",
    "        thresh_li = skimage.filters.threshold_li(green_cell_im)\n",
    "        binary_li = green_cell_im > thresh_li\n",
    "        new_binary_li = morphology.remove_small_objects(binary_li, min_size=500)\n",
    "        new_binary_li = ndimage.binary_fill_holes(new_binary_li)\n",
    "        label_image = label(new_binary_li)\n",
    "        \n",
    "        #Saving the Segmented Image\n",
    "        cell_im_name = str(cell_folder + '/' + names)\n",
    "        size = len(cell_im_name)\n",
    "        cell_im_mod = cell_im_name[:size - 4]\n",
    "        im_to_save = Image.fromarray(new_binary_li)\n",
    "        im_to_save.save(str(cell_im_mod + '_' + 'segmented.png'))\n",
    "        \n",
    "        #Feel free to add them here as well. The computational time is pretty efficient\n",
    "        props = measure.regionprops_table(label_image, properties=(properties_list))\n",
    "\n",
    "        if j == 0:\n",
    "            df = pd.DataFrame(props)\n",
    "            df['filename'] = names\n",
    "        else:\n",
    "            df2 = pd.DataFrame(props)\n",
    "            df2['filename'] = names\n",
    "            df = df.append(df2)\n",
    "            \n",
    "    except FileNotFoundError:\n",
    "        continue\n",
    "\n",
    "    j = 1"
   ]
  },
  {
   "cell_type": "markdown",
   "metadata": {},
   "source": [
    "*Step 6: Caculating the Circularity*"
   ]
  },
  {
   "cell_type": "code",
   "execution_count": null,
   "metadata": {},
   "outputs": [],
   "source": [
    "df['circularity'] = 4*np.pi*df.area/df.perimeter**2"
   ]
  },
  {
   "cell_type": "markdown",
   "metadata": {},
   "source": [
    "*Step 7: Calculating the Aspect Ratio*"
   ]
  },
  {
   "cell_type": "code",
   "execution_count": null,
   "metadata": {},
   "outputs": [],
   "source": [
    "df['aspect_ratio'] = df.major_axis_length/df.minor_axis_length"
   ]
  },
  {
   "cell_type": "markdown",
   "metadata": {},
   "source": [
    "*Step 8: Add in a column for the ID*"
   ]
  },
  {
   "cell_type": "code",
   "execution_count": null,
   "metadata": {},
   "outputs": [],
   "source": [
    "df['sample_id'] = df.filename.str[:4]"
   ]
  },
  {
   "cell_type": "markdown",
   "metadata": {},
   "source": [
    "*Step 9: Add in a column for the image number*"
   ]
  },
  {
   "cell_type": "code",
   "execution_count": null,
   "metadata": {},
   "outputs": [],
   "source": [
    "df['image_id'] = df.filename.str[-6:]"
   ]
  },
  {
   "cell_type": "code",
   "execution_count": null,
   "metadata": {},
   "outputs": [],
   "source": [
    "df['image_id'] = df.image_id.str[:2]"
   ]
  },
  {
   "cell_type": "code",
   "execution_count": null,
   "metadata": {},
   "outputs": [],
   "source": [
    "df"
   ]
  },
  {
   "cell_type": "markdown",
   "metadata": {},
   "source": [
    "*Step 10: Saving as a CSV file*"
   ]
  },
  {
   "cell_type": "code",
   "execution_count": null,
   "metadata": {},
   "outputs": [],
   "source": [
    "df.to_csv('/Users/hhelmbre/Desktop/Hawley_Pig_Data/06_04_2021_allim_features_maxint_fill2.csv')"
   ]
  },
  {
   "cell_type": "markdown",
   "metadata": {},
   "source": [
    "*Step 11: Print Dependencies and State*"
   ]
  },
  {
   "cell_type": "code",
   "execution_count": null,
   "metadata": {},
   "outputs": [],
   "source": [
    "%load_ext watermark\n",
    "\n",
    "%watermark -v -m -p numpy,pandas,scipy,skimage,matplotlib,wget\n",
    "\n",
    "%watermark -u -n -t -z"
   ]
  },
  {
   "cell_type": "code",
   "execution_count": null,
   "metadata": {},
   "outputs": [],
   "source": []
  }
 ],
 "metadata": {
  "kernelspec": {
   "display_name": "Python 3",
   "language": "python",
   "name": "python3"
  },
  "language_info": {
   "codemirror_mode": {
    "name": "ipython",
    "version": 3
   },
   "file_extension": ".py",
   "mimetype": "text/x-python",
   "name": "python",
   "nbconvert_exporter": "python",
   "pygments_lexer": "ipython3",
   "version": "3.7.4"
  }
 },
 "nbformat": 4,
 "nbformat_minor": 4
}
