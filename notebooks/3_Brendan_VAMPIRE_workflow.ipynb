{
 "cells": [
  {
   "cell_type": "markdown",
   "metadata": {},
   "source": [
    "# VAMPIRE WORKFLOW"
   ]
  },
  {
   "cell_type": "markdown",
   "metadata": {},
   "source": [
    "## Purpose: To split images into quadrants, pick training and testing image sets, and in the future run the full VAMPIRE workflow"
   ]
  },
  {
   "cell_type": "markdown",
   "metadata": {},
   "source": [
    "Edited: October 28th, 2021 to specifically refer to Phuong's BEV Treatment data and split them for VAMPIRE"
   ]
  },
  {
   "cell_type": "markdown",
   "metadata": {},
   "source": [
    "*Step 1: Import necessary packages*"
   ]
  },
  {
   "cell_type": "code",
   "execution_count": null,
   "metadata": {},
   "outputs": [],
   "source": [
    "import shutil, os\n",
    "\n",
    "from glob import glob\n",
    "\n",
    "import numpy as np\n",
    "import pandas as pd\n",
    "from skimage import io\n",
    "import matplotlib.pyplot as plt\n",
    "from PIL import Image\n",
    "from numpy.linalg import inv\n",
    "from sklearn.model_selection import train_test_split\n",
    "from skimage.segmentation import clear_border\n",
    "\n",
    "\n",
    "%matplotlib inline"
   ]
  },
  {
   "cell_type": "markdown",
   "metadata": {},
   "source": [
    "*Step 2: User Inputs*"
   ]
  },
  {
   "cell_type": "markdown",
   "metadata": {},
   "source": [
    "Manual Step:\n",
    "Beginning with already segmented images saved as .npy arrays from the \"2_Phuong_collab_segmentation.ipynb\" Jupyter Notebook also within this folder. \n",
    "\n",
    "Not a blind study. \n",
    "\n",
    "Images already exist in a folder tree based on the overall slice treatment time and then the group subset for example:\n",
    "\n",
    "48_hr_exposure_time > (1) BEV_treatment (2) healthy_control (3) OGD_control"
   ]
  },
  {
   "cell_type": "code",
   "execution_count": null,
   "metadata": {},
   "outputs": [],
   "source": [
    "#file names should be in the current working directory\n",
    "folder_location = '/Users/hhelmbre/Desktop/Phuong_Bev/li_thresh'\n",
    "\n",
    "file_type_init = '.npy'\n",
    "\n",
    "slice_number = 4\n",
    "random_state_num = 3"
   ]
  },
  {
   "cell_type": "markdown",
   "metadata": {},
   "source": [
    "*Step 5: Getting the List of Images to Split*"
   ]
  },
  {
   "cell_type": "code",
   "execution_count": null,
   "metadata": {},
   "outputs": [],
   "source": [
    "arr = os.listdir(folder_location)\n",
    "folder_list = np.asarray(arr)\n",
    "folder_list = [ x for x in folder_list if \"DS\" not in x ]\n",
    "folder_list"
   ]
  },
  {
   "cell_type": "code",
   "execution_count": null,
   "metadata": {},
   "outputs": [],
   "source": [
    "files_to_split_list = []\n",
    "for folders in folder_list:\n",
    "    arr = os.listdir(str(folder_location + '/' + folders))\n",
    "    subfolder_list = np.asarray(arr)\n",
    "    subfolder_list = [ x for x in subfolder_list if \"DS\" not in x]\n",
    "    for subfolders in subfolder_list:\n",
    "        arr = os.listdir(str(folder_location + '/' + folders + '/' + subfolders))\n",
    "        files_list = np.asarray(arr)\n",
    "        files_list = [ x for x in files_list if \"DS\" not in x]\n",
    "        for files in files_list:\n",
    "            name = str(folder_location + '/' + folders + '/' + subfolders + '/' + files)\n",
    "            files_to_split_list.append(name)\n"
   ]
  },
  {
   "cell_type": "markdown",
   "metadata": {},
   "source": [
    "*Step 6: Split the Images*"
   ]
  },
  {
   "cell_type": "code",
   "execution_count": null,
   "metadata": {},
   "outputs": [],
   "source": [
    "    name = files_to_split_list[0]\n",
    "    file = np.load(name)\n",
    "    quada, quadb = np.array_split(file, 2)\n",
    "    quad1, quad2 = np.hsplit(quada, 2)\n",
    "    quad3, quad4 = np.hsplit(quadb, 2)"
   ]
  },
  {
   "cell_type": "code",
   "execution_count": null,
   "metadata": {},
   "outputs": [],
   "source": [
    "for files in files_to_split_list:\n",
    "    file = np.load(files)\n",
    "    quada, quadb = np.array_split(file, 2)\n",
    "    quad1, quad2 = np.array_split(quada, 2, axis=1)\n",
    "    quad3, quad4 = np.array_split(quadb, 2, axis=1)\n",
    "    \n",
    "    quad1 = clear_border(quad1)\n",
    "    quad2 = clear_border(quad2)\n",
    "    quad3 = clear_border(quad3)\n",
    "    quad4 = clear_border(quad4)\n",
    "\n",
    "    \n",
    "    np.save(str(files[:-4] + '_quad1.npy'), quad1)\n",
    "    np.save(str(files[:-4] + '_quad2.npy'), quad2)\n",
    "    np.save(str(files[:-4] + '_quad3.npy'), quad3)\n",
    "    np.save(str(files[:-4] + '_quad4.npy'), quad4)"
   ]
  },
  {
   "cell_type": "markdown",
   "metadata": {},
   "source": [
    "*Step 4: Choose training and testing data sets*"
   ]
  },
  {
   "cell_type": "code",
   "execution_count": null,
   "metadata": {},
   "outputs": [],
   "source": [
    "ttsplit_list_files = []\n",
    "for folders in folder_list:\n",
    "    arr = os.listdir(str(folder_location + '/' + folders))\n",
    "    subfolder_list = np.asarray(arr)\n",
    "    subfolder_list = [ x for x in subfolder_list if \"DS\" not in x]\n",
    "    for subfolders in subfolder_list:\n",
    "        print(subfolders)\n",
    "        arr = os.listdir(str(folder_location + '/' + folders + '/' + subfolders))\n",
    "        files_list = np.asarray(arr)\n",
    "        files_list = [ x for x in files_list if \"DS\" not in x]\n",
    "        files_list = [ x for x in files_list if \"quad\" in x]\n",
    "        X_train, X_test= train_test_split(files_list, test_size=0.20, random_state=random_state_num)\n",
    "        for files in files_list:\n",
    "            if files in X_train[:]:\n",
    "                shutil.move(str(folder_location + '/' + folders + '/' + subfolders + '/' + files), '/Users/hhelmbre/Desktop/Phuong_Bev/vampire/train')\n",
    "            else:\n",
    "                shutil.move(str(folder_location + '/' + folders + '/' + subfolders + '/' + files), '/Users/hhelmbre/Desktop/Phuong_Bev/vampire/test')"
   ]
  },
  {
   "cell_type": "markdown",
   "metadata": {},
   "source": [
    "*Step Y: Renaming the data sets according to VAMPIRE naming mechanism*"
   ]
  },
  {
   "cell_type": "code",
   "execution_count": null,
   "metadata": {},
   "outputs": [],
   "source": [
    "arr_train1 = os.listdir('/Users/hhelmbre/Desktop/Phuong_Bev/vampire/train')\n",
    "file_list_train1 = np.asarray(arr_train1)\n",
    "file_list_train1 = [ x for x in file_list_train1 if \"DS\" not in x]"
   ]
  },
  {
   "cell_type": "code",
   "execution_count": null,
   "metadata": {},
   "outputs": [],
   "source": [
    "im_number= 1\n",
    "for names in file_list_train1:\n",
    "    print(names)\n",
    "    \n",
    "    file_location = str('/Users/hhelmbre/Desktop/Phuong_Bev/vampire/train/' + names)\n",
    "    array = np.load(file_location)\n",
    "    im = Image.fromarray(array)\n",
    "    \n",
    "    if im_number < 10:\n",
    "        im.save(str('/Users/hhelmbre/Desktop/Phuong_Bev/vampire/images/train/' + names[:-4] + 'xy' + '0' + str(im_number) + 'c1.png'))\n",
    "        \n",
    "    else:\n",
    "        im.save(str('/Users/hhelmbre/Desktop/Phuong_Bev/vampire/images/train/' + names[:-4] + 'xy' + str(im_number) + 'c1.png'))\n",
    "        \n",
    "    \n",
    "    im_number +=1"
   ]
  },
  {
   "cell_type": "markdown",
   "metadata": {},
   "source": [
    "*Splitting the test group into the appropriate conditions*"
   ]
  },
  {
   "cell_type": "code",
   "execution_count": null,
   "metadata": {},
   "outputs": [],
   "source": [
    "arr_test = os.listdir('/Users/hhelmbre/Desktop/Phuong_Bev/vampire/test')\n",
    "file_list_test = np.asarray(arr_test)\n",
    "file_list_test = [ x for x in file_list_test if \"DS\" not in x]"
   ]
  },
  {
   "cell_type": "code",
   "execution_count": null,
   "metadata": {},
   "outputs": [],
   "source": [
    "im_number= 1\n",
    "for names in file_list_test:\n",
    "    print(names)\n",
    "    \n",
    "    file_location = str('/Users/hhelmbre/Desktop/Phuong_Bev/vampire/test/' + names)\n",
    "    array = np.load(file_location)\n",
    "    im = Image.fromarray(array)\n",
    "    \n",
    "    if im_number < 10:\n",
    "        im.save(str('/Users/hhelmbre/Desktop/Phuong_Bev/vampire/images/test/' + names[:-4] + 'xy' + '0' + str(im_number) + 'c1.png'))\n",
    "        \n",
    "    else:\n",
    "        im.save(str('/Users/hhelmbre/Desktop/Phuong_Bev/vampire/images/test/' + names[:-4] + 'xy' + str(im_number) + 'c1.png'))\n",
    "        \n",
    "    \n",
    "    im_number +=1"
   ]
  },
  {
   "cell_type": "markdown",
   "metadata": {},
   "source": [
    "# Creating the information necessary for VAMPIRE Analysis"
   ]
  },
  {
   "cell_type": "code",
   "execution_count": null,
   "metadata": {},
   "outputs": [],
   "source": [
    "data_folder = '/Users/hhelmbre/Desktop/Phuong_Bev/vampire/images'"
   ]
  },
  {
   "cell_type": "code",
   "execution_count": null,
   "metadata": {},
   "outputs": [],
   "source": [
    "#creates the directory in your data folder to put all information related to the model\n",
    "os.mkdir(str(data_folder + '/' + '10_29_21_model'))"
   ]
  },
  {
   "cell_type": "code",
   "execution_count": null,
   "metadata": {},
   "outputs": [],
   "source": [
    "#creates the csv for building a model\n",
    "data = [['all_training_images', '1', str(data_folder + '/' + 'train'), 'please work', 'c1']]\n",
    "build_model_csv = pd.DataFrame(data, columns = ['condition', 'set number', 'set location', 'note', 'ch1']) \n",
    "\n",
    "#saves csv to newly created model directory\n",
    "build_model_csv.to_csv(data_folder + '/' + '10_29_21_model/' + 'images_to_build_model.csv', index=False)"
   ]
  },
  {
   "cell_type": "code",
   "execution_count": null,
   "metadata": {},
   "outputs": [],
   "source": [
    "treatments = ['48_hr_exposure_0_hr_application_pngs', '24_hr_exposure_0_hr_application_pngs', '4_hr_exposure_0_hr_application_pngs', 'controls']\n",
    "groups = ['bev_treatment', 'healthy_control', 'ogd_control']"
   ]
  },
  {
   "cell_type": "code",
   "execution_count": null,
   "metadata": {},
   "outputs": [],
   "source": [
    "apply_model_paths = []\n",
    "apply_model_csv = pd.DataFrame(columns = ['condition', 'set number', 'set location', 'note', 'ch1'])\n",
    "set_number = 1\n",
    "for treatment in treatments:\n",
    "    for group in groups:\n",
    "        path = data_folder + '/test/' + treatment + '/' + group\n",
    "        df2 = pd.DataFrame({'condition': [treatment], 'set number': [set_number], 'set location': [path], 'note': ['Phuong BeV analysis'], 'tag': ['c1']})\n",
    "        apply_model_csv = apply_model_csv.append(df2)\n",
    "\n",
    "        set_number += 1\n",
    "\n",
    "apply_model_csv.to_csv(data_folder + '/' + '10_29_21_model/' + 'images_to_apply_model.csv', index=False)"
   ]
  },
  {
   "cell_type": "code",
   "execution_count": null,
   "metadata": {},
   "outputs": [],
   "source": [
    "print('Build Model CSV Path:', str(data_folder + '/' + 'model/' + 'images_to_build_model.csv'))\n",
    "\n",
    "print('Conda Environment: tiredvampires)\n",
    "print('Number of Shape Models (Recommended):', '5')\n",
    "print('Number of Shape Coordinates (Recommended):', '50')\n",
    "print('Model Name:', '10_29_21_model')\n",
    "\n",
    "print('Apply Model CSV Path:', str(data_folder + '/' + 'model/' + 'images_to_apply_model.csv'))\n",
    "print('Model to Apply:', str(data_folder + '/' + 'model/' + '10_20_21_model'))"
   ]
  },
  {
   "cell_type": "code",
   "execution_count": null,
   "metadata": {},
   "outputs": [],
   "source": [
    "import vampireanalysis\n",
    "from vampireanalysis import vampire"
   ]
  },
  {
   "cell_type": "code",
   "execution_count": null,
   "metadata": {},
   "outputs": [],
   "source": [
    "vampire()"
   ]
  },
  {
   "cell_type": "code",
   "execution_count": null,
   "metadata": {},
   "outputs": [],
   "source": []
  }
 ],
 "metadata": {
  "kernelspec": {
   "display_name": "Python 3",
   "language": "python",
   "name": "python3"
  },
  "language_info": {
   "codemirror_mode": {
    "name": "ipython",
    "version": 3
   },
   "file_extension": ".py",
   "mimetype": "text/x-python",
   "name": "python",
   "nbconvert_exporter": "python",
   "pygments_lexer": "ipython3",
   "version": "3.8.8"
  }
 },
 "nbformat": 4,
 "nbformat_minor": 4
}
