{
 "cells": [
  {
   "cell_type": "markdown",
   "metadata": {},
   "source": [
    "# Nanoparticle‐microglial interaction in the ischemic brain is modulated by injury duration and treatment Workflow"
   ]
  },
  {
   "cell_type": "markdown",
   "metadata": {},
   "source": [
    "##### Citation"
   ]
  },
  {
   "cell_type": "markdown",
   "metadata": {},
   "source": [
    "Joseph, A., Liao, R., Zhang, M., Helmbrecht, H., Mckenna, M., Filteau, J.R., Nance, E., 2020. Nanoparticle‐microglial interaction in the ischemic brain is modulated by injury duration and treatment. Bioengineering & Translational Medicine.. doi:10.1002/btm2.10175"
   ]
  },
  {
   "cell_type": "markdown",
   "metadata": {},
   "source": [
    "## Purpose: To split tile scans, pick training and testing image sets, and prepping for running the full VAMPIRE Workflow"
   ]
  },
  {
   "cell_type": "markdown",
   "metadata": {},
   "source": [
    "The notebook as is was the skeleton used to produce the precise notebook for the publication cited above.  This state with the data uploaded on our lab drive under this publication title will reproduce the results from our paper when run following protocol on the shared desktop folder location specific in user inputs. "
   ]
  },
  {
   "cell_type": "markdown",
   "metadata": {},
   "source": [
    "# Experimental Steps Necessary Before Notebook"
   ]
  },
  {
   "cell_type": "markdown",
   "metadata": {},
   "source": [
    "Experimental Steps:\n",
    "1. Move/Download the images for testing and training into a new folder\n",
    "2. Rename images to insure they include the condition somewhere in them\n",
    "3. Add a folder for each of your stains into the folder created in step 1\n",
    "4. Input the name of that folder into 'folder_location' below\n",
    "5. Input the names of the nuclear stain into 'stain1' and the cell stain into 'stain2' below\n",
    "6. Insert the number of slices into the np.arange command below\n",
    "7. Insert the number of slices that you want to split each image into in 'slice number'\n",
    "8. Increase the random_state_num by one\n",
    "8. Add a folder labeled 'train' to your desktop\n",
    "9. Add a folder labeled 'test' to your desktop\n",
    "10. Within folder 'test' create a folder for each of your conditions"
   ]
  },
  {
   "cell_type": "markdown",
   "metadata": {},
   "source": [
    "# Steps the Notebook will need to follow"
   ]
  },
  {
   "cell_type": "markdown",
   "metadata": {},
   "source": [
    "*Step 1: Import necessary packages*"
   ]
  },
  {
   "cell_type": "markdown",
   "metadata": {},
   "source": [
    "*Step 2: User Inputs*"
   ]
  },
  {
   "cell_type": "markdown",
   "metadata": {},
   "source": [
    "*Step 3: Split the Image(s) into Color Channels*"
   ]
  },
  {
   "cell_type": "markdown",
   "metadata": {},
   "source": [
    "*Step 4: Split the Images*"
   ]
  },
  {
   "cell_type": "markdown",
   "metadata": {},
   "source": [
    "*Step 5: Moving the DAPI and Iba images into their own folders*"
   ]
  },
  {
   "cell_type": "markdown",
   "metadata": {},
   "source": [
    "*Step 6: Choose training and testing data sets*"
   ]
  },
  {
   "cell_type": "markdown",
   "metadata": {},
   "source": [
    "*Step 7: Moving the testing and training DAPI data sets into test and train folders*"
   ]
  },
  {
   "cell_type": "markdown",
   "metadata": {},
   "source": [
    "*Step 8: Renaming the DAPI and Iba datasets according to proper VAMPIRE naming modality*"
   ]
  },
  {
   "cell_type": "markdown",
   "metadata": {},
   "source": [
    "*Step 9: Splitting the test group into the appropriate conditions*"
   ]
  },
  {
   "cell_type": "markdown",
   "metadata": {},
   "source": [
    "*Step 10: Renaming the test images and getting their appropriate iba stain*\n",
    "\n"
   ]
  },
  {
   "cell_type": "markdown",
   "metadata": {},
   "source": [
    "*Final Experimentalist Steps:*\n",
    "1. Follow Python 2.7 Protocol on shared Computer for VAMPIRE Analysis\n",
    "2. Upload all files to the appropriate paper folder in the Shared Google Drive"
   ]
  },
  {
   "cell_type": "markdown",
   "metadata": {},
   "source": [
    "# Initial Experimental Design Plans (Used to Help Build Notebook)"
   ]
  },
  {
   "cell_type": "markdown",
   "metadata": {},
   "source": [
    "### Personnel Workflow"
   ]
  },
  {
   "cell_type": "markdown",
   "metadata": {},
   "source": [
    "(1) Slicing - Rick Liao\n",
    "\n",
    "(2) Staining/Imaging - Mengying Zhange/Jeremy Filteau\n",
    "\n",
    "(3) Image Processing - Hawley Helmbrecht via Python & Jupyter Notebook\n",
    "\n",
    "(4) Data Analysis - Hawley Helmbrecht\n",
    "\n",
    "(5) Data Analysis Results To be sent to Rick Liao for final Visualization"
   ]
  },
  {
   "cell_type": "markdown",
   "metadata": {},
   "source": [
    "### Data Locations and File Types\n",
    "\n",
    "Original Images: Computer Attached to Confocal Microscope (as .nd2)\n",
    "--> Later move to the Shared Nance Lab Google Drive (as .tiff)\n",
    "\n",
    "Images for Processing: Shared Nance Lab Google Drie (as .tiff)\n",
    "\n",
    "Images to be converted for VAMPIRE workflow: Temporary Storage on communal or personal desktop (as .png)\n",
    "--> Long term storage on Shared Nance Lab Google Drive (as .png before and after segmentation)\n",
    "\n",
    "Cell Morphology Quantification Data: Temporary Storage on communal or personal desktop (as .csv)\n",
    "--> Long term storage on Shared Nance Lab Google Dirve (as. csv)\n",
    "\n",
    "Data Visualization: Completed for this paper using GraphPad Prism"
   ]
  },
  {
   "cell_type": "markdown",
   "metadata": {},
   "source": [
    "### Treatment Groups"
   ]
  },
  {
   "cell_type": "markdown",
   "metadata": {},
   "source": [
    "(1) Non-treated Control\n",
    "\n",
    "(2) Oxygen-Glucose Deprivation 0.5h \n",
    "\n",
    "(3) Oxygen-Glucose Deprivation 1.5h\n",
    "\n",
    "(4) Treatment - Azithromycin\n",
    "\n",
    "(5) Treatment - SOD"
   ]
  },
  {
   "cell_type": "markdown",
   "metadata": {},
   "source": [
    "### Brain Regions of Interest"
   ]
  },
  {
   "cell_type": "markdown",
   "metadata": {},
   "source": [
    "Details: Sprague-Dawley Post Natal Day 7 Rats (sex controlled)"
   ]
  },
  {
   "cell_type": "markdown",
   "metadata": {},
   "source": [
    "1. Hippocampus\n",
    "2. Cortex\n",
    "3. Thalamus"
   ]
  },
  {
   "cell_type": "markdown",
   "metadata": {},
   "source": [
    "### Stains Used in Step 3"
   ]
  },
  {
   "cell_type": "markdown",
   "metadata": {},
   "source": [
    "1. iba1 - green channel\n",
    "2. dapi - blue channel\n",
    "3. PI - red channel\n"
   ]
  },
  {
   "cell_type": "markdown",
   "metadata": {},
   "source": [
    "### Pertinent Confocal Settings"
   ]
  },
  {
   "cell_type": "markdown",
   "metadata": {},
   "source": [
    "Zoom: 40x for all images"
   ]
  },
  {
   "cell_type": "markdown",
   "metadata": {},
   "source": [
    "### Number of Expected Images"
   ]
  },
  {
   "cell_type": "markdown",
   "metadata": {},
   "source": [
    "1. 5 Treatment Groups\n",
    "2. 3 Regions Per Treatment\n",
    "3. 3 Images per Region\n",
    "4. Quadrant the Images for Analysis\n",
    "5. 2 Stains\n",
    "\n",
    "Approximatey 360 final images "
   ]
  },
  {
   "cell_type": "code",
   "execution_count": null,
   "metadata": {},
   "outputs": [],
   "source": []
  }
 ],
 "metadata": {
  "kernelspec": {
   "display_name": "Python 3",
   "language": "python",
   "name": "python3"
  },
  "language_info": {
   "codemirror_mode": {
    "name": "ipython",
    "version": 3
   },
   "file_extension": ".py",
   "mimetype": "text/x-python",
   "name": "python",
   "nbconvert_exporter": "python",
   "pygments_lexer": "ipython3",
   "version": "3.7.4"
  }
 },
 "nbformat": 4,
 "nbformat_minor": 4
}
