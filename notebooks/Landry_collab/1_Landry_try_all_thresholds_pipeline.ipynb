{
 "cells": [
  {
   "cell_type": "markdown",
   "metadata": {},
   "source": [
    "# Purpose: To Test the Sci-kit Image Thresholds for the Landry Collab Images"
   ]
  },
  {
   "cell_type": "markdown",
   "metadata": {},
   "source": [
    "Date Created: October 12th, 2021"
   ]
  },
  {
   "cell_type": "markdown",
   "metadata": {},
   "source": [
    "Dates Edited: October 12th, 2021 - Converted from the original notebook for the microFIBER paper"
   ]
  },
  {
   "cell_type": "markdown",
   "metadata": {},
   "source": [
    "*Step 1: Import necessary packages*"
   ]
  },
  {
   "cell_type": "code",
   "execution_count": null,
   "metadata": {},
   "outputs": [],
   "source": [
    "#import operating system\n",
    "import os\n",
    "\n",
    "# import major packages\n",
    "import numpy as np\n",
    "import matplotlib.pyplot as plt\n",
    "import skimage\n",
    "import PIL as Image"
   ]
  },
  {
   "cell_type": "markdown",
   "metadata": {},
   "source": [
    "Separating the two imports so that it is a cleaner workflow"
   ]
  },
  {
   "cell_type": "code",
   "execution_count": null,
   "metadata": {},
   "outputs": [],
   "source": [
    "# import specific package functions\n",
    "from skimage import io\n",
    "from skimage.filters import try_all_threshold\n",
    "from skimage.filters import threshold_isodata\n",
    "from skimage.filters import threshold_li\n",
    "from skimage.filters import threshold_mean\n",
    "from skimage.filters import threshold_minimum\n",
    "from skimage.filters import threshold_otsu\n",
    "from skimage.filters import threshold_triangle\n",
    "from skimage.filters import threshold_yen\n",
    "\n",
    "from skimage import morphology\n",
    "from scipy import ndimage\n",
    "from skimage.measure import label"
   ]
  },
  {
   "cell_type": "markdown",
   "metadata": {},
   "source": [
    "## Landry Collab: Huntington's Disease Image Set"
   ]
  },
  {
   "cell_type": "markdown",
   "metadata": {},
   "source": [
    "*Step 2: Import image for testing thresholds*"
   ]
  },
  {
   "cell_type": "markdown",
   "metadata": {},
   "source": [
    "For the landry collab we have images in 7 groups (blinded to this analysis).  \n",
    "\n",
    "Each of the 7 groups includes 3 magnifications:\n",
    "\n",
    "1. a 20x tile scan\n",
    "2. a set of 40x images (no zoom)\n",
    "3. a set of 40x images zoomed X6\n",
    "\n",
    "Each of group 2 and three above include both the left and right hemispheres and the substantia nigra pars compacta (SNc) and the striatum (Str)\n",
    "\n",
    "We are beginning the analysis only on the 40x no zoon images across both regions and hemispheres.  To pick the threshold, we will run and test all the 40x images in each group (4 images per group)."
   ]
  },
  {
   "cell_type": "code",
   "execution_count": null,
   "metadata": {},
   "outputs": [],
   "source": [
    "#Defining the local folder location for all files\n",
    "im_folder_location = '/Users/hhelmbre/Desktop/Landry_collab'"
   ]
  },
  {
   "cell_type": "code",
   "execution_count": null,
   "metadata": {},
   "outputs": [],
   "source": [
    "def folder_cleaner(folder, image_type):\n",
    "    k=0\n",
    "    for files in folder:\n",
    "        if image_type in str(files):\n",
    "            k+=1\n",
    "        else:\n",
    "            folder = np.delete(folder, np.argwhere(folder == str(files)))\n",
    "    return folder"
   ]
  },
  {
   "cell_type": "code",
   "execution_count": null,
   "metadata": {},
   "outputs": [],
   "source": [
    "#Getting a list of all the seprate animal model folders\n",
    "arr = os.listdir(im_folder_location)\n",
    "animal_list = np.asarray(arr)\n",
    "\n",
    "#Since I am working on a mac operating system, this removes the DS_store file\n",
    "animal_list = animal_list[1:]\n",
    "animal_list"
   ]
  },
  {
   "cell_type": "code",
   "execution_count": null,
   "metadata": {},
   "outputs": [],
   "source": [
    "#Getting a list of all the images we want to run and test thresholds on\n",
    "try_all_im_list = []\n",
    "for folders in animal_list:\n",
    "    sub_folder_location = str(im_folder_location + '/' + folders)\n",
    "    arr = os.listdir(sub_folder_location)\n",
    "    image_list = np.asarray(arr)\n",
    "    image_list = [ x for x in image_list if \"1x\" in x ]\n",
    "    image_list = [x for x in image_list if \".tif\" in x]\n",
    "    for images in image_list:\n",
    "        file_name = str(im_folder_location + '/' + folders + '/' + images)\n",
    "        try_all_im_list.append(file_name)\n",
    "\n",
    "try_all_im_list"
   ]
  },
  {
   "cell_type": "code",
   "execution_count": null,
   "metadata": {},
   "outputs": [],
   "source": [
    "#Testing which channel the iba stain is on\n",
    "im = io.imread(try_all_im_list[0])\n",
    "IM_MAX= np.max(im[0:6,:,:], axis=0)\n",
    "plt.imshow(IM_MAX)"
   ]
  },
  {
   "cell_type": "markdown",
   "metadata": {},
   "source": [
    "*Step 3: Trying multiple tresholds at once and saving the composite image*"
   ]
  },
  {
   "cell_type": "code",
   "execution_count": null,
   "metadata": {},
   "outputs": [],
   "source": [
    "\n",
    "\n",
    "#im = io.imread(im_location)\n",
    "#microglia_im = im[:,:,1]\n",
    "fig, ax = try_all_threshold(IM_MAX, figsize=(10, 8), verbose=False)\n",
    "\n",
    "fig_name = str(im_folder_location + 'all_thresh/' + im_name[:-4] + '_all_thresh.tif')\n",
    "fig.savefig(fig_name)\n",
    "plt.show()"
   ]
  },
  {
   "cell_type": "markdown",
   "metadata": {},
   "source": [
    "*Step 4: Trying the thresholds individually to save each image separately for comparison with manual segmentation*"
   ]
  },
  {
   "cell_type": "markdown",
   "metadata": {},
   "source": [
    "To determine the size of the small object we should remove we took the size of microglia which are approximately 1600 um^2 according to (https://jneuroinflammation.biomedcentral.com/articles/10.1186/s12974-014-0182-7)\n",
    "\n",
    "The confocal settings for the OGD severity study provided a 1 pixel = 3.4527 um conversion. To ensure we didn't cut off any potential microglia, we chose a cutoff on the small end to be 1/2 of the average which converts to 71 pixels ^2 used in the min_size of the remove small objects function from sci-kit image."
   ]
  },
  {
   "cell_type": "code",
   "execution_count": null,
   "metadata": {},
   "outputs": [],
   "source": [
    "#isodata threshold\n",
    "thresh_isodata = skimage.filters.threshold_isodata(microglia_im)\n",
    "binary_isodata = microglia_im > thresh_isodata\n",
    "new_binary_isodata = morphology.remove_small_objects(binary_isodata, min_size=71)\n",
    "new_binary_isodata = ndimage.binary_fill_holes(new_binary_isodata)\n",
    "\n",
    "np.save(str(im_folder_location + 'all_thresh/' + im_name[:-4] + '_isodata_thresh'), new_binary_isodata)\n",
    "\n",
    "#li threshold\n",
    "thresh_li = skimage.filters.threshold_li(microglia_im)\n",
    "binary_li = microglia_im > thresh_li\n",
    "new_binary_li = morphology.remove_small_objects(binary_li, min_size=71)\n",
    "new_binary_li = ndimage.binary_fill_holes(new_binary_li)\n",
    "\n",
    "np.save(str(im_folder_location + 'all_thresh/' + im_name[:-4] + '_li_thresh'), new_binary_li)\n",
    "\n",
    "#Mean threshold\n",
    "thresh_mean = skimage.filters.threshold_mean(microglia_im)\n",
    "binary_mean = microglia_im > thresh_mean\n",
    "new_binary_mean = morphology.remove_small_objects(binary_mean, min_size=71)\n",
    "new_binary_mean = ndimage.binary_fill_holes(new_binary_mean)\n",
    "\n",
    "np.save(str(im_folder_location + 'all_thresh/' + im_name[:-4] + '_mean_thresh'), new_binary_mean)\n",
    "\n",
    "np.save(str(im_folder_location + 'all_thresh/' + im_name[:-4] + '_minimum_thresh'), new_binary_minimum)\n",
    "\n",
    "#Otsu threshold\n",
    "thresh_otsu = skimage.filters.threshold_otsu(microglia_im)\n",
    "binary_otsu = microglia_im > thresh_otsu\n",
    "new_binary_otsu = morphology.remove_small_objects(binary_otsu, min_size=71)\n",
    "new_binary_otsu = ndimage.binary_fill_holes(new_binary_otsu)\n",
    "\n",
    "np.save(str(im_folder_location + 'all_thresh/' + im_name[:-4] + '_otsu_thresh'), new_binary_otsu)\n",
    "\n",
    "#triangle threshold\n",
    "thresh_triangle = skimage.filters.threshold_triangle(microglia_im)\n",
    "binary_triangle = microglia_im > thresh_triangle\n",
    "new_binary_triangle = morphology.remove_small_objects(binary_triangle, min_size=71)\n",
    "new_binary_triangle = ndimage.binary_fill_holes(new_binary_triangle)\n",
    "\n",
    "np.save(str(im_folder_location + 'all_thresh/' + im_name[:-4] + '_triangle_thresh'), new_binary_triangle)\n",
    "\n",
    "#yen threshold\n",
    "thresh_yen = skimage.filters.threshold_yen(microglia_im)\n",
    "binary_yen = microglia_im > thresh_yen\n",
    "new_binary_yen = morphology.remove_small_objects(binary_yen, min_size=71)\n",
    "new_binary_yen = ndimage.binary_fill_holes(new_binary_yen)\n",
    "\n",
    "np.save(str(im_folder_location + 'all_thresh/' + im_name[:-4] + '_yen_thresh'), new_binary_yen)\n",
    "\n",
    "#Minimum threshold\n",
    "thresh_minimum = skimage.filters.threshold_minimum(microglia_im)\n",
    "binary_minimum = microglia_im > thresh_minimum\n",
    "new_binary_minimum = morphology.remove_small_objects(binary_minimum, min_size=71)\n",
    "new_binary_minimum = ndimage.binary_fill_holes(new_binary_minimum)"
   ]
  },
  {
   "cell_type": "code",
   "execution_count": null,
   "metadata": {},
   "outputs": [],
   "source": []
  },
  {
   "cell_type": "code",
   "execution_count": null,
   "metadata": {},
   "outputs": [],
   "source": []
  }
 ],
 "metadata": {
  "kernelspec": {
   "display_name": "Python 3",
   "language": "python",
   "name": "python3"
  },
  "language_info": {
   "codemirror_mode": {
    "name": "ipython",
    "version": 3
   },
   "file_extension": ".py",
   "mimetype": "text/x-python",
   "name": "python",
   "nbconvert_exporter": "python",
   "pygments_lexer": "ipython3",
   "version": "3.7.4"
  }
 },
 "nbformat": 4,
 "nbformat_minor": 4
}
