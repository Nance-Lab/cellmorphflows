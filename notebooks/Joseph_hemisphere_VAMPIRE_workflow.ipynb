{
 "cells": [
  {
   "cell_type": "markdown",
   "metadata": {},
   "source": [
    "# VAMPIRE WORKFLOW"
   ]
  },
  {
   "cell_type": "markdown",
   "metadata": {},
   "source": [
    "## Purpose: To split tile scans, pick training and testing image sets, and in the future run the full VAMPIRE workflow"
   ]
  },
  {
   "cell_type": "markdown",
   "metadata": {},
   "source": [
    "*Step 1: Import necessary packages*"
   ]
  },
  {
   "cell_type": "code",
   "execution_count": null,
   "metadata": {},
   "outputs": [],
   "source": [
    "import shutil, os\n",
    "\n",
    "from glob import glob\n",
    "\n",
    "import numpy as np\n",
    "import pandas as pd\n",
    "from skimage import io\n",
    "import matplotlib.pyplot as plt\n",
    "from PIL import Image\n",
    "from numpy.linalg import inv\n",
    "import image_slicer\n",
    "from sklearn.model_selection import train_test_split\n",
    "\n",
    "\n",
    "%matplotlib inline"
   ]
  },
  {
   "cell_type": "markdown",
   "metadata": {},
   "source": [
    "*Step 2: User Inputs*"
   ]
  },
  {
   "cell_type": "code",
   "execution_count": null,
   "metadata": {},
   "outputs": [],
   "source": [
    "#file names should be in the current working directory\n",
    "file_name_nucleus1 = 'LPS_contra_dapi.png'\n",
    "file_name_cell1 = 'LPS_contra_iba.png'\n",
    "\n",
    "file_name_nucleus2 = 'PAM_contra_dapi.png'\n",
    "file_name_cell2 = 'PAM_contra_iba.png'\n",
    "\n",
    "stain1 = 'dapi'\n",
    "stain2 = 'iba'\n",
    "\n",
    "condition1 = 'LPS'\n",
    "condition2 = 'PAM'"
   ]
  },
  {
   "cell_type": "markdown",
   "metadata": {},
   "source": [
    "*Step 5: Split the Image(s) into tiles*"
   ]
  },
  {
   "cell_type": "code",
   "execution_count": null,
   "metadata": {},
   "outputs": [],
   "source": [
    "image_slicer.slice(file_name_nucleus1, 50)\n",
    "image_slicer.slice(file_name_cell1, 50)\n",
    "\n",
    "image_slicer.slice(file_name_nucleus2, 50)\n",
    "image_slicer.slice(file_name_cell2, 50)"
   ]
  },
  {
   "cell_type": "markdown",
   "metadata": {},
   "source": [
    "*Moving the DAPI and Iba images into their own folders*"
   ]
  },
  {
   "cell_type": "code",
   "execution_count": null,
   "metadata": {},
   "outputs": [],
   "source": [
    "arr = os.listdir(os.curdir)\n",
    "file_list1 = np.asarray(arr)"
   ]
  },
  {
   "cell_type": "code",
   "execution_count": null,
   "metadata": {},
   "outputs": [],
   "source": [
    "k=0\n",
    "for tiled_images in file_list1:\n",
    "    if '.png' in str(tiled_images):\n",
    "        k+=1\n",
    "    else:\n",
    "        file_list1 = np.delete(file_list1, np.argwhere(file_list1 == str(tiled_images)))"
   ]
  },
  {
   "cell_type": "code",
   "execution_count": null,
   "metadata": {},
   "outputs": [],
   "source": [
    "for tiled_images in file_list1:\n",
    "    conditional = str(str(tiled_images)[-5].isdigit())\n",
    "    if conditional == 'True':\n",
    "        #print(conditional)\n",
    "        if stain1 in tiled_images:\n",
    "            shutil.move(str('/Users/hhelmbre/Desktop/packages/VAMPIRE/' + tiled_images), '/Users/hhelmbre/Desktop/packages/VAMPIRE/tiled_images/DAPI/' + tiled_images)\n",
    "        elif stain2 in tiled_images:\n",
    "            shutil.move(str('/Users/hhelmbre/Desktop/packages/VAMPIRE/' + tiled_images), '/Users/hhelmbre/Desktop/packages/VAMPIRE/tiled_images/Iba/' + tiled_images)\n",
    "    else:\n",
    "        pass"
   ]
  },
  {
   "cell_type": "markdown",
   "metadata": {},
   "source": [
    "*Step 5: Choose training and testing data sets*"
   ]
  },
  {
   "cell_type": "code",
   "execution_count": null,
   "metadata": {},
   "outputs": [],
   "source": [
    "arr = os.listdir('/Users/hhelmbre/Desktop/packages/VAMPIRE/tiled_images/DAPI')\n",
    "file_list = np.asarray(arr)"
   ]
  },
  {
   "cell_type": "code",
   "execution_count": null,
   "metadata": {},
   "outputs": [],
   "source": [
    "j=0\n",
    "for tiled_images in file_list:\n",
    "    if '.png' in str(tiled_images):\n",
    "        j+=1\n",
    "    else:\n",
    "        file_list = np.delete(file_list, np.argwhere(file_list == str(tiled_images)))"
   ]
  },
  {
   "cell_type": "code",
   "execution_count": null,
   "metadata": {},
   "outputs": [],
   "source": [
    "X_train, X_test= train_test_split(file_list, test_size=0.20, random_state=42)"
   ]
  },
  {
   "cell_type": "markdown",
   "metadata": {},
   "source": [
    "*Step X: Moving the testing and training DAPI data sets into test and train folders*"
   ]
  },
  {
   "cell_type": "code",
   "execution_count": null,
   "metadata": {},
   "outputs": [],
   "source": [
    "for names in file_list:\n",
    "    if names in X_train[:]:\n",
    "        shutil.move(str('/Users/hhelmbre/Desktop/packages/VAMPIRE/tiled_images/DAPI/' + names), '/Users/hhelmbre/Desktop/train')\n",
    "    else:\n",
    "        shutil.move(str('/Users/hhelmbre/Desktop/packages/VAMPIRE/tiled_images/DAPI/' + names), '/Users/hhelmbre/Desktop/test')"
   ]
  },
  {
   "cell_type": "markdown",
   "metadata": {},
   "source": [
    "*Step Y: Renaming the DAPI and Iba datasets according to proper VAMPIRE naming modality*"
   ]
  },
  {
   "cell_type": "code",
   "execution_count": null,
   "metadata": {},
   "outputs": [],
   "source": [
    "arr_train = os.listdir('/Users/hhelmbre/Desktop/train')\n",
    "file_list_train = np.asarray(arr_train)"
   ]
  },
  {
   "cell_type": "code",
   "execution_count": null,
   "metadata": {},
   "outputs": [],
   "source": [
    "m=0\n",
    "for tiled_images in file_list_train:\n",
    "    if '.png' in str(tiled_images):\n",
    "        m+=1\n",
    "    else:\n",
    "        file_list_train = np.delete(file_list_train, np.argwhere(file_list_train == str(tiled_images)))"
   ]
  },
  {
   "cell_type": "code",
   "execution_count": null,
   "metadata": {},
   "outputs": [],
   "source": [
    "arr_iba = os.listdir('/Users/hhelmbre/Desktop/packages/VAMPIRE/tiled_images/Iba')\n",
    "file_list_iba = np.asarray(arr_iba)"
   ]
  },
  {
   "cell_type": "code",
   "execution_count": null,
   "metadata": {},
   "outputs": [],
   "source": [
    "n=0\n",
    "for tiled_images in file_list_iba:\n",
    "    if '.png' in str(tiled_images):\n",
    "        n+=1\n",
    "    else:\n",
    "        file_list_iba = np.delete(file_list_iba, np.argwhere(file_list_iba == str(tiled_images)))"
   ]
  },
  {
   "cell_type": "code",
   "execution_count": null,
   "metadata": {},
   "outputs": [],
   "source": [
    "im_number= 1\n",
    "for names in file_list_train:\n",
    "    dapi_name = str(names)\n",
    "\n",
    "    \n",
    "    \n",
    "    if im_number < 10:\n",
    "        os.rename(str('/Users/hhelmbre/Desktop/train/' + names), str('/Users/hhelmbre/Desktop/train/' + 'xy' + '0' + str(im_number) + 'c2.png'))\n",
    "        \n",
    "    else:\n",
    "        os.rename(str('/Users/hhelmbre/Desktop/train/' + names), str('/Users/hhelmbre/Desktop/train/' + 'xy' + str(im_number) + 'c2.png'))\n",
    "    \n",
    "    iba_name = dapi_name.replace(stain1, stain2)\n",
    "    \n",
    "    if im_number < 10:\n",
    "        os.rename(str('/Users/hhelmbre/Desktop/packages/VAMPIRE/tiled_images/Iba/' + iba_name), str('/Users/hhelmbre/Desktop/train/' + 'xy' + '0' + str(im_number) + 'c1.png'))\n",
    "        \n",
    "    else:\n",
    "        os.rename(str('/Users/hhelmbre/Desktop/packages/VAMPIRE/tiled_images/Iba/' + iba_name), str('/Users/hhelmbre/Desktop/train/' + 'xy' + str(im_number) + 'c1.png'))\n",
    "        \n",
    "    \n",
    "    im_number +=1"
   ]
  },
  {
   "cell_type": "markdown",
   "metadata": {},
   "source": [
    "*Splitting the test group into the appropriate conditions*"
   ]
  },
  {
   "cell_type": "code",
   "execution_count": null,
   "metadata": {},
   "outputs": [],
   "source": [
    "arr_test = os.listdir('/Users/hhelmbre/Desktop/test')\n",
    "file_list_test = np.asarray(arr_test)"
   ]
  },
  {
   "cell_type": "code",
   "execution_count": null,
   "metadata": {},
   "outputs": [],
   "source": [
    "p=0\n",
    "for tiled_images in file_list_test:\n",
    "    if '.png' in str(tiled_images):\n",
    "        p+=1\n",
    "    else:\n",
    "        file_list_test = np.delete(file_list_test, np.argwhere(file_list_test == str(tiled_images)))"
   ]
  },
  {
   "cell_type": "code",
   "execution_count": null,
   "metadata": {},
   "outputs": [],
   "source": [
    "for test_images in file_list_test:\n",
    "    if condition1 in test_images:\n",
    "        shutil.move(str('/Users/hhelmbre/Desktop/test/' + test_images), '/Users/hhelmbre/Desktop/test/LPS/' + test_images)\n",
    "    elif condition2 in test_images:\n",
    "        shutil.move(str('/Users/hhelmbre/Desktop/test/' + test_images), '/Users/hhelmbre/Desktop/test/PAM/' + test_images)\n",
    "    else:\n",
    "        pass"
   ]
  },
  {
   "cell_type": "markdown",
   "metadata": {},
   "source": [
    "*Step x: Renaming the test images and getting their appropriate iba stain*\n",
    "\n"
   ]
  },
  {
   "cell_type": "code",
   "execution_count": null,
   "metadata": {},
   "outputs": [],
   "source": [
    "arr_test_LPS = os.listdir('/Users/hhelmbre/Desktop/test/LPS')\n",
    "file_list_test_LPS = np.asarray(arr_test_LPS)"
   ]
  },
  {
   "cell_type": "code",
   "execution_count": null,
   "metadata": {},
   "outputs": [],
   "source": [
    "q=0\n",
    "for tiled_images in file_list_test_LPS:\n",
    "    if '.png' in str(tiled_images):\n",
    "        q+=1\n",
    "    else:\n",
    "        file_list_test_LPS = np.delete(file_list_test_LPS, np.argwhere(file_list_test_LPS == str(tiled_images)))"
   ]
  },
  {
   "cell_type": "code",
   "execution_count": null,
   "metadata": {},
   "outputs": [],
   "source": [
    "arr_test_PAM = os.listdir('/Users/hhelmbre/Desktop/test/PAM')\n",
    "file_list_test_PAM = np.asarray(arr_test_PAM)"
   ]
  },
  {
   "cell_type": "code",
   "execution_count": null,
   "metadata": {},
   "outputs": [],
   "source": [
    "r=0\n",
    "for tiled_images in file_list_test_PAM:\n",
    "    if '.png' in str(tiled_images):\n",
    "        r+=1\n",
    "    else:\n",
    "        file_list_test_PAM = np.delete(file_list_test_PAM, np.argwhere(file_list_test_PAM == str(tiled_images)))"
   ]
  },
  {
   "cell_type": "code",
   "execution_count": null,
   "metadata": {},
   "outputs": [],
   "source": []
  },
  {
   "cell_type": "code",
   "execution_count": null,
   "metadata": {},
   "outputs": [],
   "source": [
    "im_number= 1\n",
    "for names in file_list_test_LPS:\n",
    "    dapi_name = str(names)\n",
    "\n",
    "    \n",
    "    if im_number < 10:\n",
    "        os.rename(str('/Users/hhelmbre/Desktop/test/LPS/' + names), str('/Users/hhelmbre/Desktop/test/LPS/' + 'xy' + '0' + str(im_number) + 'c2.png'))\n",
    "        \n",
    "    else:\n",
    "        os.rename(str('/Users/hhelmbre/Desktop/test/LPS/' + names), str('/Users/hhelmbre/Desktop/test/LPS/' + 'xy' + str(im_number) + 'c2.png'))\n",
    "    \n",
    "    iba_name = dapi_name.replace(stain1, stain2)\n",
    "    \n",
    "    if im_number < 10:\n",
    "        os.rename(str('/Users/hhelmbre/Desktop/packages/VAMPIRE/tiled_images/Iba/' + iba_name), str('/Users/hhelmbre/Desktop/test/LPS/' + 'xy' + '0' + str(im_number) + 'c1.png'))\n",
    "        \n",
    "    else:\n",
    "        os.rename(str('/Users/hhelmbre/Desktop/packages/VAMPIRE/tiled_images/Iba/' + iba_name), str('/Users/hhelmbre/Desktop/test/LPS/' + 'xy' + str(im_number) + 'c1.png'))\n",
    "        \n",
    "    \n",
    "    im_number +=1"
   ]
  },
  {
   "cell_type": "code",
   "execution_count": null,
   "metadata": {},
   "outputs": [],
   "source": [
    "im_number= 1\n",
    "for names in file_list_test_PAM:\n",
    "    dapi_name = str(names)\n",
    "\n",
    "    \n",
    "    if im_number < 10:\n",
    "        os.rename(str('/Users/hhelmbre/Desktop/test/PAM/' + names), str('/Users/hhelmbre/Desktop/test/PAM/' + 'xy' + '0' + str(im_number) + 'c2.png'))\n",
    "        \n",
    "    else:\n",
    "        os.rename(str('/Users/hhelmbre/Desktop/test/PAM/' + names), str('/Users/hhelmbre/Desktop/test/PAM/' + 'xy' + str(im_number) + 'c2.png'))\n",
    "    \n",
    "    iba_name = dapi_name.replace(stain1, stain2)\n",
    "    \n",
    "    if im_number < 10:\n",
    "        os.rename(str('/Users/hhelmbre/Desktop/packages/VAMPIRE/tiled_images/Iba/' + iba_name), str('/Users/hhelmbre/Desktop/test/PAM/' + 'xy' + '0' + str(im_number) + 'c1.png'))\n",
    "        \n",
    "    else:\n",
    "        os.rename(str('/Users/hhelmbre/Desktop/packages/VAMPIRE/tiled_images/Iba/' + iba_name), str('/Users/hhelmbre/Desktop/test/PAM/' + 'xy' + str(im_number) + 'c1.png'))\n",
    "        \n",
    "    \n",
    "    im_number +=1"
   ]
  },
  {
   "cell_type": "code",
   "execution_count": null,
   "metadata": {},
   "outputs": [],
   "source": []
  },
  {
   "cell_type": "code",
   "execution_count": null,
   "metadata": {},
   "outputs": [],
   "source": []
  },
  {
   "cell_type": "code",
   "execution_count": null,
   "metadata": {},
   "outputs": [],
   "source": []
  },
  {
   "cell_type": "code",
   "execution_count": null,
   "metadata": {},
   "outputs": [],
   "source": []
  },
  {
   "cell_type": "code",
   "execution_count": null,
   "metadata": {},
   "outputs": [],
   "source": []
  }
 ],
 "metadata": {
  "kernelspec": {
   "display_name": "Python 3",
   "language": "python",
   "name": "python3"
  },
  "language_info": {
   "codemirror_mode": {
    "name": "ipython",
    "version": 3
   },
   "file_extension": ".py",
   "mimetype": "text/x-python",
   "name": "python",
   "nbconvert_exporter": "python",
   "pygments_lexer": "ipython3",
   "version": "3.7.6"
  }
 },
 "nbformat": 4,
 "nbformat_minor": 4
}
