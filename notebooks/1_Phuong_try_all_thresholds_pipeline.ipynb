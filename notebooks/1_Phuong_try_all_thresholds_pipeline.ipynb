{
 "cells": [
  {
   "cell_type": "markdown",
   "metadata": {},
   "source": [
    "# Purpose: To Test the Sci-kit Image Thresholds for the Phuong_BEV Collaboration Images"
   ]
  },
  {
   "cell_type": "markdown",
   "metadata": {},
   "source": [
    "Date Created: October 12th, 2021"
   ]
  },
  {
   "cell_type": "markdown",
   "metadata": {},
   "source": [
    "Dates Edited: October 12th, 2021 - Converted from the original notebook for the microFIBER paper\n",
    "Edited: April 13th, 2022 - Changed some markdown documentation stating the wrong image set\n",
    "\n",
    "October 27th, 2021 - Downloaded all the .tiff files and changed the imports"
   ]
  },
  {
   "cell_type": "markdown",
   "metadata": {},
   "source": [
    "*Step 1: Import necessary packages*"
   ]
  },
  {
   "cell_type": "code",
   "execution_count": null,
   "metadata": {},
   "outputs": [],
   "source": [
    "#import operating system\n",
    "import os\n",
    "\n",
    "# import major packages\n",
    "import numpy as np\n",
    "import matplotlib.pyplot as plt\n",
    "import skimage\n",
    "import PIL as Image"
   ]
  },
  {
   "cell_type": "markdown",
   "metadata": {},
   "source": [
    "Separating the two imports so that it is a cleaner workflow"
   ]
  },
  {
   "cell_type": "code",
   "execution_count": null,
   "metadata": {},
   "outputs": [],
   "source": [
    "# import specific package functions\n",
    "from skimage import io\n",
    "from skimage.filters import try_all_threshold\n",
    "from skimage.filters import threshold_isodata\n",
    "from skimage.filters import threshold_li\n",
    "from skimage.filters import threshold_mean\n",
    "from skimage.filters import threshold_minimum\n",
    "from skimage.filters import threshold_otsu\n",
    "from skimage.filters import threshold_triangle\n",
    "from skimage.filters import threshold_yen\n",
    "\n",
    "from skimage import morphology\n",
    "from scipy import ndimage\n",
    "from skimage.measure import label"
   ]
  },
  {
   "cell_type": "markdown",
   "metadata": {},
   "source": [
    "## Phuong's Data Set"
   ]
  },
  {
   "cell_type": "markdown",
   "metadata": {},
   "source": [
    "*Step 2: Import image for testing thresholds*"
   ]
  },
  {
   "cell_type": "code",
   "execution_count": null,
   "metadata": {},
   "outputs": [],
   "source": [
    "#Defining the local folder location for all files\n",
    "im_folder_location = '/Users/hhelmbre/Desktop/Phuong_Bev'"
   ]
  },
  {
   "cell_type": "code",
   "execution_count": null,
   "metadata": {},
   "outputs": [],
   "source": [
    "def folder_cleaner(folder, image_type):\n",
    "    k=0\n",
    "    for files in folder:\n",
    "        if image_type in str(files):\n",
    "            k+=1\n",
    "        else:\n",
    "            folder = np.delete(folder, np.argwhere(folder == str(files)))\n",
    "    return folder"
   ]
  },
  {
   "cell_type": "code",
   "execution_count": null,
   "metadata": {},
   "outputs": [],
   "source": [
    "#Getting a list of all the seprate animal model folders\n",
    "arr = os.listdir(im_folder_location)\n",
    "animal_list = np.asarray(arr)\n",
    "\n",
    "#Since I am working on a mac operating system, this removes the DS_store file\n",
    "animal_list = animal_list[1:]\n",
    "animal_list"
   ]
  },
  {
   "cell_type": "code",
   "execution_count": null,
   "metadata": {},
   "outputs": [],
   "source": [
    "#Getting a list of all the images we want to run and test thresholds on\n",
    "try_all_im_list = []\n",
    "for folders in animal_list:\n",
    "    sub_folder_location = str(im_folder_location + '/' + folders)\n",
    "    arr = os.listdir(sub_folder_location)\n",
    "    image_list = np.asarray(arr)\n",
    "    image_list = [ x for x in image_list if \"TILE\" not in x ]\n",
    "    image_list = [ x for x in image_list if \"all_thresh\" not in x ]\n",
    "    image_list = [x for x in image_list if \".tif\" in x]\n",
    "    for images in image_list:\n",
    "        file_name = str(im_folder_location + '/' + folders + '/' + images)\n",
    "        try_all_im_list.append(file_name)\n",
    "\n",
    "try_all_im_list"
   ]
  },
  {
   "cell_type": "code",
   "execution_count": null,
   "metadata": {},
   "outputs": [],
   "source": [
    "#Testing which channel the iba stain is on\n",
    "im = io.imread(try_all_im_list[0])\n",
    "green_im = im[:,:,1]\n",
    "plt.imshow(green_im, cmap='Greys_r')"
   ]
  },
  {
   "cell_type": "markdown",
   "metadata": {},
   "source": [
    "*Step 3: Trying multiple tresholds at once and saving the composite image*"
   ]
  },
  {
   "cell_type": "code",
   "execution_count": null,
   "metadata": {},
   "outputs": [],
   "source": [
    "j = 0 #initialize a counter\n",
    "for images in try_all_im_list:\n",
    "    im_name = try_all_im_list[j]\n",
    "    im = io.imread(im_name)\n",
    "    microglia_im = im[:,:,1]\n",
    "    fig, ax = try_all_threshold(microglia_im, figsize=(10, 8), verbose=False)\n",
    "\n",
    "    \n",
    "    j += 1\n",
    "    fig_name = str(im_name[:-4] + '_all_thresh.tif')\n",
    "    fig.savefig(fig_name)\n",
    "    plt.close('all')\n",
    "    print(j)"
   ]
  },
  {
   "cell_type": "markdown",
   "metadata": {},
   "source": [
    "*Move all images with try_all_thresh into their own folder*"
   ]
  },
  {
   "cell_type": "code",
   "execution_count": null,
   "metadata": {},
   "outputs": [],
   "source": [
    "import shutil\n",
    "import os\n",
    "\n",
    "source_dir = '/Users/hhelmbre/Desktop/Phuong_Bev/Healthy_OGD_Controls_tif'\n",
    "target_dir = '/Users/hhelmbre/Desktop/Phuong_Bev/try_all_thresh'\n",
    "\n",
    "arr = os.listdir(source_dir)\n",
    "file_list = np.asarray(arr)\n",
    "\n",
    "file_list = [x for x in file_list if \"all_thresh\" in x]\n",
    "\n",
    "    \n",
    "for file_name in file_list:\n",
    "    shutil.move(os.path.join(source_dir, file_name), target_dir)"
   ]
  },
  {
   "cell_type": "markdown",
   "metadata": {},
   "source": [
    "*Step 4: Based on visual inspection of the try all thresholds, Li threshold does the best*"
   ]
  },
  {
   "cell_type": "markdown",
   "metadata": {},
   "source": [
    "To determine the size of the small object we should remove we took the size of microglia which are approximately 1600 um^2 according to (https://jneuroinflammation.biomedcentral.com/articles/10.1186/s12974-014-0182-7)\n",
    "\n",
    "The confocal settings for the OGD severity study provided a 1 pixel = 3.4527 um conversion. To ensure we didn't cut off any potential microglia, we chose a cutoff on the small end to be 1/2 of the average which converts to 71 pixels ^2 used in the min_size of the remove small objects function from sci-kit image."
   ]
  },
  {
   "cell_type": "code",
   "execution_count": null,
   "metadata": {},
   "outputs": [],
   "source": [
    "im_folder_location = '/Users/hhelmbre/Desktop/Phuong_Bev'\n",
    "\n",
    "#Getting a list of all the seprate animal model folders\n",
    "arr = os.listdir(im_folder_location)\n",
    "animal_list = np.asarray(arr)\n",
    "\n",
    "#Since I am working on a mac operating system, this removes the DS_store file\n",
    "animal_list = animal_list[1:]\n",
    "animal_list = folder_cleaner(animal_list, 'tif')\n",
    "\n",
    "#Getting a list of all the images we want to run and test thresholds on\n",
    "try_all_im_list = []\n",
    "for folders in animal_list:\n",
    "    sub_folder_location = str(im_folder_location + '/' + folders)\n",
    "    arr = os.listdir(sub_folder_location)\n",
    "    image_list = np.asarray(arr)\n",
    "    image_list = [ x for x in image_list if \"TILE\" not in x ]\n",
    "    image_list = [ x for x in image_list if \"all_thresh\" not in x ]\n",
    "    image_list = [x for x in image_list if \".tif\" in x]\n",
    "    for images in image_list:\n",
    "        file_name = str(im_folder_location + '/' + folders + '/' + images)\n",
    "        try_all_im_list.append(file_name)"
   ]
  },
  {
   "cell_type": "code",
   "execution_count": null,
   "metadata": {},
   "outputs": [],
   "source": [
    "#li threshold\n",
    "k = 0\n",
    "source_dir = '/Users/hhelmbre/Desktop/Phuong_Bev/'\n",
    "\n",
    "for images in try_all_im_list:\n",
    "    im_name = try_all_im_list[k]\n",
    "    im = io.imread(im_name)\n",
    "    microglia_im = im[:,:,1]\n",
    "    thresh_li = skimage.filters.threshold_li(microglia_im)\n",
    "    binary_li = microglia_im > thresh_li\n",
    "    new_binary_li = morphology.remove_small_objects(binary_li, min_size=71)\n",
    "    new_binary_li = ndimage.binary_fill_holes(new_binary_li)\n",
    "    \n",
    "    short_im_name = im_name.split('/')[6]\n",
    "\n",
    "    np.save(str(source_dir + 'li_thresh/' + short_im_name[:-4] + '_li_thresh'), new_binary_li)\n",
    "    \n",
    "    print(k)\n",
    "    k += 1"
   ]
  },
  {
   "cell_type": "code",
   "execution_count": null,
   "metadata": {},
   "outputs": [],
   "source": []
  }
 ],
 "metadata": {
  "kernelspec": {
   "display_name": "Python 3",
   "language": "python",
   "name": "python3"
  },
  "language_info": {
   "codemirror_mode": {
    "name": "ipython",
    "version": 3
   },
   "file_extension": ".py",
   "mimetype": "text/x-python",
   "name": "python",
   "nbconvert_exporter": "python",
   "pygments_lexer": "ipython3",
   "version": "3.8.3"
  }
 },
 "nbformat": 4,
 "nbformat_minor": 4
}
